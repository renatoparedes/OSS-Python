{
 "cells": [
  {
   "cell_type": "markdown",
   "metadata": {},
   "source": [
    "# Coursework: Programming Fundamentals I\n",
    "\n",
    "This material is a selection from the [Foundations of Python Programming](https://runestone.academy/runestone/books/published/fopp/index.html) tutorial developed by Brad Miller, Paul Resnick, Lauren Murphy, Jeffrey Elkner, Peter Wentworth, Allen B. Downey, Chris as part of the [Runstone Interactive](http://runestoneinteractive.org/) project.\n",
    "\n",
    ">Barbara Ericson and Bradley Miller. 2020 Runestone: A Platform for Free, On-line, and Interactive Ebooks In Proceedings of the 51st ACM Technical Symposium on Computer Science Education (SIGCSE ’20). Association for Computing Machinery, New York, NY, USA, 1240.\n"
   ]
  },
  {
   "cell_type": "markdown",
   "metadata": {},
   "source": [
    "# Exercise 1\n",
    "\n",
    "Evaluate the following numerical expressions in your head, then use the active code window to verify your results:\n",
    "\n",
    ">\n",
    "1. 5 ** 2\n",
    "2. 9 * 5\n",
    "3. 15 / 12\n",
    "4. 12 / 15\n",
    "5. 15 // 12\n",
    "6. 12 // 15\n",
    "7. 5 % 2\n",
    "8. 9 % 5\n",
    "9. 15 % 12\n",
    "10. 12 % 15\n",
    "11. 6 % 6\n",
    "12. 0 % 7\n",
    ">"
   ]
  },
  {
   "cell_type": "code",
   "execution_count": 1,
   "metadata": {},
   "outputs": [
    {
     "name": "stdout",
     "output_type": "stream",
     "text": [
      "25\n"
     ]
    }
   ],
   "source": [
    "print(5**2)"
   ]
  },
  {
   "cell_type": "markdown",
   "metadata": {},
   "source": [
    "# Exercise 2\n",
    "\n",
    "Take the line: “All work and no play makes Jack a dull boy.”\n",
    "\n",
    "Store each word in a separate variable, then print the sentence on one line using `print`."
   ]
  },
  {
   "cell_type": "code",
   "execution_count": 1,
   "metadata": {},
   "outputs": [
    {
     "name": "stdout",
     "output_type": "stream",
     "text": [
      "All work and no play makes Jack a dull boy.\n"
     ]
    }
   ],
   "source": [
    "# Write your solution here\n",
    "\n",
    "v1 = \"All\"\n",
    "v2 = \"work\"\n",
    "v3 = \"and\"\n",
    "v4 = \"no\"\n",
    "v5 = \"play\"\n",
    "v6 = \"makes\"\n",
    "v7 = \"Jack\"\n",
    "v8 = \"a\"\n",
    "v9 = \"dull\"\n",
    "v10 = \"boy.\"\n",
    "\n",
    "print(v1, v2, v3, v4, v5, v6, v7, v8, v9, v10)"
   ]
  },
  {
   "cell_type": "markdown",
   "metadata": {},
   "source": [
    "# Exercise 3\n",
    "\n",
    "Write a program that converts degrees Celsius to degrees Fahrenheit."
   ]
  },
  {
   "cell_type": "code",
   "execution_count": 2,
   "metadata": {},
   "outputs": [
    {
     "name": "stdout",
     "output_type": "stream",
     "text": [
      "86.0\n"
     ]
    }
   ],
   "source": [
    "# Write your solution here\n",
    "\n",
    "\n",
    "def celsius_to_fahrenheit(degrees_celsius):\n",
    "    return degrees_celsius * 1.8 + 32.0\n",
    "\n",
    "\n",
    "print(celsius_to_fahrenheit(30))"
   ]
  },
  {
   "cell_type": "markdown",
   "metadata": {},
   "source": [
    "# Exercise 4\n",
    "\n",
    "Write the following expression in Python: 2 ^ 3 (two raised to the power of 3) and assign it to a variable called `result`. Prints the result value of the variable. You should see 8 as a result."
   ]
  },
  {
   "cell_type": "code",
   "execution_count": 3,
   "metadata": {},
   "outputs": [
    {
     "name": "stdout",
     "output_type": "stream",
     "text": [
      "8\n"
     ]
    }
   ],
   "source": [
    "# Write your solution here\n",
    "\n",
    "result = 2**3\n",
    "print(result)"
   ]
  },
  {
   "cell_type": "markdown",
   "metadata": {},
   "source": [
    "# Exercise 5\n",
    "\n",
    "Fix the code below that converts minutes to seconds. When a user provides a number of minutes, it outputs the minutes converted to seconds. For example, when a user provides the number 1, the output should be 60. Work until you get the correct answer!"
   ]
  },
  {
   "cell_type": "code",
   "execution_count": 4,
   "metadata": {},
   "outputs": [
    {
     "name": "stdout",
     "output_type": "stream",
     "text": [
      "60\n"
     ]
    }
   ],
   "source": [
    "minutes = 1\n",
    "seconds_per_minute = 60\n",
    "seconds = minutes * seconds_per_minute\n",
    "print(seconds)"
   ]
  },
  {
   "cell_type": "markdown",
   "metadata": {},
   "source": [
    "## Bonus\n",
    "\n",
    "How would you convert the above code to a function?"
   ]
  },
  {
   "cell_type": "code",
   "execution_count": 5,
   "metadata": {},
   "outputs": [
    {
     "name": "stdout",
     "output_type": "stream",
     "text": [
      "60\n"
     ]
    }
   ],
   "source": [
    "# Write your solution here\n",
    "\n",
    "\n",
    "def minutes_to_seconds(minutes):\n",
    "    seconds_per_minute = 60\n",
    "    return minutes * seconds_per_minute\n",
    "\n",
    "\n",
    "print(minutes_to_seconds(1))"
   ]
  },
  {
   "cell_type": "markdown",
   "metadata": {},
   "source": [
    "# Exercise 6\n",
    "\n",
    "Create a variable called `carname` and assign it the value `Honda`. Then print how many characters `carname` has."
   ]
  },
  {
   "cell_type": "code",
   "execution_count": 6,
   "metadata": {},
   "outputs": [
    {
     "name": "stdout",
     "output_type": "stream",
     "text": [
      "5\n"
     ]
    }
   ],
   "source": [
    "# Write your solution here\n",
    "\n",
    "carname = \"Honda\"\n",
    "print(len(carname))"
   ]
  },
  {
   "cell_type": "markdown",
   "metadata": {},
   "source": [
    "# Exercise 7\n",
    "\n",
    "Write code that asks users to enter the year they were born. Print how old they will be in 2024."
   ]
  },
  {
   "cell_type": "code",
   "execution_count": 10,
   "metadata": {},
   "outputs": [
    {
     "name": "stdout",
     "output_type": "stream",
     "text": [
      "32\n"
     ]
    }
   ],
   "source": [
    "# Write your solution here\n",
    "\n",
    "\n",
    "def age(year_born):\n",
    "    return 2024 - year_born\n",
    "\n",
    "\n",
    "print(age(1992))"
   ]
  },
  {
   "cell_type": "markdown",
   "metadata": {},
   "source": [
    "# Exercise 8\n",
    "\n",
    "Write a function called `bucket`. Takes an integer and returns the cube of that integer value. Write code to assign a variable named `xyz` the value `5 * 5 * 5` (five cubed). Use the cube function, instead of simply multiplying with *."
   ]
  },
  {
   "cell_type": "code",
   "execution_count": 11,
   "metadata": {},
   "outputs": [
    {
     "name": "stdout",
     "output_type": "stream",
     "text": [
      "125\n"
     ]
    }
   ],
   "source": [
    "# Write your solution here\n",
    "\n",
    "\n",
    "def cubo(number):\n",
    "    return number**3\n",
    "\n",
    "\n",
    "xyz = cubo(5)\n",
    "\n",
    "print(xyz)"
   ]
  },
  {
   "cell_type": "markdown",
   "metadata": {},
   "source": [
    "# Exercise 9\n",
    "\n",
    "Write code to assign the number of characters in the string `rv` to a variable `num_chars`."
   ]
  },
  {
   "cell_type": "code",
   "execution_count": 12,
   "metadata": {},
   "outputs": [
    {
     "name": "stdout",
     "output_type": "stream",
     "text": [
      "348\n"
     ]
    }
   ],
   "source": [
    "rv = \"\"\"Once upon a midnight dreary, while I pondered, weak and weary,\n",
    "    Over many a quaint and curious volume of forgotten lore,\n",
    "    While I nodded, nearly napping, suddenly there came a tapping,\n",
    "    As of some one gently rapping, rapping at my chamber door.\n",
    "    'Tis some visitor, I muttered, tapping at my chamber door;\n",
    "    Only this and nothing more.\"\"\"\n",
    "\n",
    "# Write your solution here\n",
    "\n",
    "num_chars = len(rv)\n",
    "print(num_chars)"
   ]
  },
  {
   "cell_type": "markdown",
   "metadata": {},
   "source": [
    "# Exercise 10\n",
    "\n",
    "What values ​​are obtained from these expressions?\n",
    "\n",
    ">\n",
    "1. 3 == 3\n",
    "2. 3! = 3\n",
    "3. 3 >= 4\n",
    "4. not (3 < 4)\n",
    ">"
   ]
  },
  {
   "cell_type": "code",
   "execution_count": 13,
   "metadata": {},
   "outputs": [
    {
     "name": "stdout",
     "output_type": "stream",
     "text": [
      "True\n",
      "False\n",
      "False\n",
      "False\n"
     ]
    }
   ],
   "source": [
    "print(3 == 3)\n",
    "print(3 != 3)\n",
    "print(3 >= 4)\n",
    "print(not (3) < 4)"
   ]
  },
  {
   "cell_type": "markdown",
   "metadata": {},
   "source": [
    "If you have time, I invite you to explore the [chapter 2 exercises](https://runestone.academy/runestone/books/published/fopp/SimplePythonData/Exercises.html) from the original tutorial"
   ]
  }
 ],
 "metadata": {
  "kernelspec": {
   "display_name": "Python 3.7.9 64-bit ('base': conda)",
   "metadata": {
    "interpreter": {
     "hash": "fcc1d2c210046f8d6f0962280d91bf96fd89619bab60881df3e6b70c67140f94"
    }
   },
   "name": "python3"
  },
  "language_info": {
   "codemirror_mode": {
    "name": "ipython",
    "version": 3
   },
   "file_extension": ".py",
   "mimetype": "text/x-python",
   "name": "python",
   "nbconvert_exporter": "python",
   "pygments_lexer": "ipython3",
   "version": "3.10.14"
  },
  "orig_nbformat": 2
 },
 "nbformat": 4,
 "nbformat_minor": 2
}
