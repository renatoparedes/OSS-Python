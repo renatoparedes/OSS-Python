{
 "cells": [
  {
   "cell_type": "markdown",
   "metadata": {},
   "source": [
    "# Coursework: Predictive Models"
   ]
  },
  {
   "cell_type": "markdown",
   "metadata": {},
   "source": [
    "You are asked to build a predictive model of adherence to treatment based on the following data:"
   ]
  },
  {
   "cell_type": "code",
   "execution_count": 2,
   "metadata": {},
   "outputs": [
    {
     "name": "stdout",
     "output_type": "stream",
     "text": [
      "Requirement already satisfied: pyreadstat in /home/renato/.virtualenvs/oss/lib/python3.10/site-packages (1.2.7)\n",
      "Requirement already satisfied: pandas>=1.2.0 in /home/renato/.virtualenvs/oss/lib/python3.10/site-packages (from pyreadstat) (2.0.3)\n",
      "Requirement already satisfied: python-dateutil>=2.8.2 in /home/renato/.virtualenvs/oss/lib/python3.10/site-packages (from pandas>=1.2.0->pyreadstat) (2.9.0.post0)\n",
      "Requirement already satisfied: pytz>=2020.1 in /home/renato/.virtualenvs/oss/lib/python3.10/site-packages (from pandas>=1.2.0->pyreadstat) (2024.1)\n",
      "Requirement already satisfied: tzdata>=2022.1 in /home/renato/.virtualenvs/oss/lib/python3.10/site-packages (from pandas>=1.2.0->pyreadstat) (2024.1)\n",
      "Requirement already satisfied: numpy>=1.21.0 in /home/renato/.virtualenvs/oss/lib/python3.10/site-packages (from pandas>=1.2.0->pyreadstat) (1.25.2)\n",
      "Requirement already satisfied: six>=1.5 in /home/renato/.virtualenvs/oss/lib/python3.10/site-packages (from python-dateutil>=2.8.2->pandas>=1.2.0->pyreadstat) (1.16.0)\n",
      "--2024-07-19 00:38:37--  https://github.com/renatoparedes/EstadisticaYPsicologiaMatematica/raw/main/INEE/BaseReporte3.sav\n",
      "Resolving github.com (github.com)... 20.201.28.151\n",
      "Connecting to github.com (github.com)|20.201.28.151|:443... connected.\n",
      "HTTP request sent, awaiting response... 302 Found\n",
      "Location: https://raw.githubusercontent.com/renatoparedes/EstadisticaYPsicologiaMatematica/main/INEE/BaseReporte3.sav [following]\n",
      "--2024-07-19 00:38:38--  https://raw.githubusercontent.com/renatoparedes/EstadisticaYPsicologiaMatematica/main/INEE/BaseReporte3.sav\n",
      "Resolving raw.githubusercontent.com (raw.githubusercontent.com)... 185.199.109.133, 185.199.110.133, 185.199.108.133, ...\n",
      "Connecting to raw.githubusercontent.com (raw.githubusercontent.com)|185.199.109.133|:443... connected.\n",
      "HTTP request sent, awaiting response... 200 OK\n",
      "Length: 5112 (5.0K) [application/octet-stream]\n",
      "Saving to: ‘BaseReporte3.sav’\n",
      "\n",
      "BaseReporte3.sav    100%[===================>]   4.99K  --.-KB/s    in 0s      \n",
      "\n",
      "2024-07-19 00:38:38 (47.3 MB/s) - ‘BaseReporte3.sav’ saved [5112/5112]\n",
      "\n"
     ]
    }
   ],
   "source": [
    "!pip install pyreadstat\n",
    "!wget https://github.com/renatoparedes/EstadisticaYPsicologiaMatematica/raw/main/INEE/BaseReporte3.sav"
   ]
  },
  {
   "cell_type": "code",
   "execution_count": 5,
   "metadata": {},
   "outputs": [
    {
     "data": {
      "text/html": [
       "<div>\n",
       "<style scoped>\n",
       "    .dataframe tbody tr th:only-of-type {\n",
       "        vertical-align: middle;\n",
       "    }\n",
       "\n",
       "    .dataframe tbody tr th {\n",
       "        vertical-align: top;\n",
       "    }\n",
       "\n",
       "    .dataframe thead th {\n",
       "        text-align: right;\n",
       "    }\n",
       "</style>\n",
       "<table border=\"1\" class=\"dataframe\">\n",
       "  <thead>\n",
       "    <tr style=\"text-align: right;\">\n",
       "      <th></th>\n",
       "      <th>Código</th>\n",
       "      <th>Sexo</th>\n",
       "      <th>Edad</th>\n",
       "      <th>Adherencia</th>\n",
       "      <th>CVRS</th>\n",
       "      <th>SoporteFam</th>\n",
       "      <th>TTratamiento</th>\n",
       "      <th>MemCorto</th>\n",
       "    </tr>\n",
       "  </thead>\n",
       "  <tbody>\n",
       "    <tr>\n",
       "      <th>0</th>\n",
       "      <td>001</td>\n",
       "      <td>Hombre</td>\n",
       "      <td>59.0</td>\n",
       "      <td>No</td>\n",
       "      <td>37.0</td>\n",
       "      <td>23.50</td>\n",
       "      <td>10.0</td>\n",
       "      <td>56.0</td>\n",
       "    </tr>\n",
       "    <tr>\n",
       "      <th>1</th>\n",
       "      <td>002</td>\n",
       "      <td>Hombre</td>\n",
       "      <td>54.0</td>\n",
       "      <td>No</td>\n",
       "      <td>38.0</td>\n",
       "      <td>22.50</td>\n",
       "      <td>3.0</td>\n",
       "      <td>43.0</td>\n",
       "    </tr>\n",
       "    <tr>\n",
       "      <th>2</th>\n",
       "      <td>003</td>\n",
       "      <td>Hombre</td>\n",
       "      <td>60.0</td>\n",
       "      <td>No</td>\n",
       "      <td>38.5</td>\n",
       "      <td>23.50</td>\n",
       "      <td>5.0</td>\n",
       "      <td>52.0</td>\n",
       "    </tr>\n",
       "    <tr>\n",
       "      <th>3</th>\n",
       "      <td>004</td>\n",
       "      <td>Hombre</td>\n",
       "      <td>62.0</td>\n",
       "      <td>No</td>\n",
       "      <td>38.0</td>\n",
       "      <td>22.25</td>\n",
       "      <td>7.0</td>\n",
       "      <td>55.0</td>\n",
       "    </tr>\n",
       "    <tr>\n",
       "      <th>4</th>\n",
       "      <td>005</td>\n",
       "      <td>Hombre</td>\n",
       "      <td>55.0</td>\n",
       "      <td>No</td>\n",
       "      <td>38.0</td>\n",
       "      <td>22.75</td>\n",
       "      <td>6.0</td>\n",
       "      <td>52.0</td>\n",
       "    </tr>\n",
       "    <tr>\n",
       "      <th>...</th>\n",
       "      <td>...</td>\n",
       "      <td>...</td>\n",
       "      <td>...</td>\n",
       "      <td>...</td>\n",
       "      <td>...</td>\n",
       "      <td>...</td>\n",
       "      <td>...</td>\n",
       "      <td>...</td>\n",
       "    </tr>\n",
       "    <tr>\n",
       "      <th>135</th>\n",
       "      <td>136</td>\n",
       "      <td>Hombre</td>\n",
       "      <td>62.0</td>\n",
       "      <td>Sí</td>\n",
       "      <td>37.5</td>\n",
       "      <td>21.75</td>\n",
       "      <td>12.0</td>\n",
       "      <td>58.0</td>\n",
       "    </tr>\n",
       "    <tr>\n",
       "      <th>136</th>\n",
       "      <td>137</td>\n",
       "      <td>Hombre</td>\n",
       "      <td>68.0</td>\n",
       "      <td>Sí</td>\n",
       "      <td>37.0</td>\n",
       "      <td>23.25</td>\n",
       "      <td>9.0</td>\n",
       "      <td>59.0</td>\n",
       "    </tr>\n",
       "    <tr>\n",
       "      <th>137</th>\n",
       "      <td>138</td>\n",
       "      <td>Hombre</td>\n",
       "      <td>56.0</td>\n",
       "      <td>Sí</td>\n",
       "      <td>37.5</td>\n",
       "      <td>23.25</td>\n",
       "      <td>8.0</td>\n",
       "      <td>51.0</td>\n",
       "    </tr>\n",
       "    <tr>\n",
       "      <th>138</th>\n",
       "      <td>139</td>\n",
       "      <td>Hombre</td>\n",
       "      <td>53.0</td>\n",
       "      <td>Sí</td>\n",
       "      <td>37.5</td>\n",
       "      <td>24.25</td>\n",
       "      <td>8.0</td>\n",
       "      <td>51.0</td>\n",
       "    </tr>\n",
       "    <tr>\n",
       "      <th>139</th>\n",
       "      <td>140</td>\n",
       "      <td>Hombre</td>\n",
       "      <td>44.0</td>\n",
       "      <td>Sí</td>\n",
       "      <td>38.5</td>\n",
       "      <td>21.75</td>\n",
       "      <td>8.0</td>\n",
       "      <td>51.0</td>\n",
       "    </tr>\n",
       "  </tbody>\n",
       "</table>\n",
       "<p>140 rows × 8 columns</p>\n",
       "</div>"
      ],
      "text/plain": [
       "    Código    Sexo  Edad Adherencia  CVRS  SoporteFam  TTratamiento  MemCorto\n",
       "0      001  Hombre  59.0         No  37.0       23.50          10.0      56.0\n",
       "1      002  Hombre  54.0         No  38.0       22.50           3.0      43.0\n",
       "2      003  Hombre  60.0         No  38.5       23.50           5.0      52.0\n",
       "3      004  Hombre  62.0         No  38.0       22.25           7.0      55.0\n",
       "4      005  Hombre  55.0         No  38.0       22.75           6.0      52.0\n",
       "..     ...     ...   ...        ...   ...         ...           ...       ...\n",
       "135    136  Hombre  62.0         Sí  37.5       21.75          12.0      58.0\n",
       "136    137  Hombre  68.0         Sí  37.0       23.25           9.0      59.0\n",
       "137    138  Hombre  56.0         Sí  37.5       23.25           8.0      51.0\n",
       "138    139  Hombre  53.0         Sí  37.5       24.25           8.0      51.0\n",
       "139    140  Hombre  44.0         Sí  38.5       21.75           8.0      51.0\n",
       "\n",
       "[140 rows x 8 columns]"
      ]
     },
     "execution_count": 5,
     "metadata": {},
     "output_type": "execute_result"
    }
   ],
   "source": [
    "import pandas as pd\n",
    "\n",
    "df = pd.read_spss(\"BaseReporte3.sav\")\n",
    "df"
   ]
  },
  {
   "cell_type": "markdown",
   "metadata": {},
   "source": [
    "1. Preprocess numeric and categorical features using scikit-learn to standardize numerical columns and encode categorical columns:\n",
    "> Ignore the columns `Código` and `Sexo`."
   ]
  },
  {
   "cell_type": "code",
   "execution_count": null,
   "metadata": {},
   "outputs": [],
   "source": [
    "# Write your solution here"
   ]
  },
  {
   "cell_type": "markdown",
   "metadata": {},
   "source": [
    "2. Split the data into training and testing sets."
   ]
  },
  {
   "cell_type": "code",
   "execution_count": null,
   "metadata": {},
   "outputs": [],
   "source": [
    "# Write your solution here"
   ]
  },
  {
   "cell_type": "markdown",
   "metadata": {},
   "source": [
    "3. Train a Logistic Regression model and make predictions of the testing set."
   ]
  },
  {
   "cell_type": "code",
   "execution_count": null,
   "metadata": {},
   "outputs": [],
   "source": [
    "# Write your solution here"
   ]
  },
  {
   "cell_type": "markdown",
   "metadata": {},
   "source": [
    "4. Evaluate the model performance."
   ]
  },
  {
   "cell_type": "code",
   "execution_count": null,
   "metadata": {},
   "outputs": [],
   "source": [
    "# Write your solution here"
   ]
  },
  {
   "cell_type": "markdown",
   "metadata": {},
   "source": [
    "Bonus: Compare how the model compares against a SVM"
   ]
  },
  {
   "cell_type": "code",
   "execution_count": null,
   "metadata": {},
   "outputs": [],
   "source": [
    "# Write your solution here"
   ]
  }
 ],
 "metadata": {
  "kernelspec": {
   "display_name": "oss",
   "language": "python",
   "name": "python3"
  },
  "language_info": {
   "codemirror_mode": {
    "name": "ipython",
    "version": 3
   },
   "file_extension": ".py",
   "mimetype": "text/x-python",
   "name": "python",
   "nbconvert_exporter": "python",
   "pygments_lexer": "ipython3",
   "version": "3.10.12"
  }
 },
 "nbformat": 4,
 "nbformat_minor": 2
}
