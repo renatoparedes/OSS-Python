{
 "cells": [
  {
   "cell_type": "markdown",
   "metadata": {},
   "source": [
    "# Coursework: Programming Fundamentals II\n",
    "\n",
    "This material is a selection from the [Foundations of Python Programming](https://runestone.academy/runestone/books/published/fopp/index.html) tutorial developed by Brad Miller, Paul Resnick, Lauren Murphy, Jeffrey Elkner, Peter Wentworth, Allen B. Downey, Chris as part of the [Runstone Interactive](http://runestoneinteractive.org/) project.\n",
    "\n",
    ">Barbara Ericson and Bradley Miller. 2020 Runestone: A Platform for Free, On-line, and Interactive Ebooks In Proceedings of the 51st ACM Technical Symposium on Computer Science Education (SIGCSE ’20). Association for Computing Machinery, New York, NY, USA, 1240."
   ]
  },
  {
   "cell_type": "markdown",
   "metadata": {},
   "source": [
    "# Exercise 1\n",
    "\n",
    "Consider the list `letters` present in the following cell. Write code that allows you to do the following:\n",
    "\n",
    "- Print the letter \"C\" from this list\n",
    "- Print the length of this list\n",
    "- Print the first item in this list\n",
    "- Print the last item in this list\n",
    "- Create a variable called grade and assign it the third element (\"C\") of the list of letters in the list (print the variable to make sure you did the correct indexing)"
   ]
  },
  {
   "cell_type": "code",
   "execution_count": 1,
   "metadata": {},
   "outputs": [],
   "source": [
    "letters = [\"A\", \"B\", \"C\", \"D\", \"E\"]\n",
    "\n",
    "## Write your solution here"
   ]
  },
  {
   "cell_type": "markdown",
   "metadata": {},
   "source": [
    "# Exercise 2\n",
    "\n",
    "Write a program that prints the length of each element in the list `students`, as well as the first and last character of the element."
   ]
  },
  {
   "cell_type": "code",
   "execution_count": 2,
   "metadata": {},
   "outputs": [],
   "source": [
    "students = [\n",
    "    \"Claudia\",\n",
    "    \"Fernando\",\n",
    "    \"Jesus\",\n",
    "    \"Silvana\",\n",
    "    \"Gloria\",\n",
    "    \"Jose Carlos\",\n",
    "    \"Carlos\",\n",
    "    \"Chyristian\",\n",
    "    \"Arlis\",\n",
    "    \"Ricardo\",\n",
    "    \"Zulma\",\n",
    "    \"María\",\n",
    "    \"Alex\",\n",
    "    \"Melanie\",\n",
    "    \"Almendra\",\n",
    "]\n",
    "\n",
    "## Write your solution here"
   ]
  },
  {
   "cell_type": "markdown",
   "metadata": {},
   "source": [
    "# Exercise 3\n",
    "\n",
    "Write code to determine how many \"t\"s there are in the following sentences.\n"
   ]
  },
  {
   "cell_type": "code",
   "execution_count": null,
   "metadata": {},
   "outputs": [],
   "source": [
    "sentences = [\n",
    "    \"¿En qué momento se jodió el Perú, Zavalita?\",\n",
    "    \"Señor Ministro de Salud: ¿qué hacer? ¡Ah! desgraciadamente, hombre humanos, hay, hermanos, muchísimo que hacer.\",\n",
    "    \"¡Los viejos a la tumba, los jóvenes a la obra!\",\n",
    "]\n",
    "\n",
    "# Write your solution here"
   ]
  },
  {
   "cell_type": "markdown",
   "metadata": {},
   "source": [
    "# Exercise 4\n",
    "\n",
    "You have a list of numbers `12, 10, 32, 3, 66, 17, 42, 99, 20`\n",
    "\n",
    "1. Write a loop that prints each of the numbers on a new line.\n",
    "\n",
    "2. Write a loop that prints each number and its square on a new line."
   ]
  },
  {
   "cell_type": "code",
   "execution_count": 4,
   "metadata": {},
   "outputs": [],
   "source": [
    "# Write your solution here"
   ]
  },
  {
   "cell_type": "markdown",
   "metadata": {},
   "source": [
    "# Exercise 5\n",
    "\n",
    "Write a for loop to print each character of the string `my_str` on a separate line."
   ]
  },
  {
   "cell_type": "code",
   "execution_count": 3,
   "metadata": {},
   "outputs": [],
   "source": [
    "my_str = \"ESTRUENDOMUDO\"\n",
    "\n",
    "## Write your solution here"
   ]
  },
  {
   "cell_type": "markdown",
   "metadata": {},
   "source": [
    "# Exercise 6\n",
    "\n",
    "This code should produce acronyms, which are the concatenation of the first letters (in uppercase) of each word present in `lst`. The code has an error and does not produce the expected result. Make any necessary corrections. You should have only one answer: MAPS."
   ]
  },
  {
   "cell_type": "code",
   "execution_count": 4,
   "metadata": {},
   "outputs": [
    {
     "ename": "IndentationError",
     "evalue": "expected an indented block after 'for' statement on line 4 (<ipython-input-4-c4c507df8879>, line 5)",
     "output_type": "error",
     "traceback": [
      "\u001b[0;36m  File \u001b[0;32m\"<ipython-input-4-c4c507df8879>\"\u001b[0;36m, line \u001b[0;32m5\u001b[0m\n\u001b[0;31m    acronym = ''\u001b[0m\n\u001b[0m    ^\u001b[0m\n\u001b[0;31mIndentationError\u001b[0m\u001b[0;31m:\u001b[0m expected an indented block after 'for' statement on line 4\n"
     ]
    }
   ],
   "source": [
    "lst = ['mathematics', 'astronomy', 'physics', 'stuff']\n",
    "# Don't modify the variable lst\n",
    "\n",
    "for word in lst:\n",
    "acronym = ''\n",
    "acronym = word[1] + acronym\n",
    "\n",
    "print(acronym.capitalize())"
   ]
  },
  {
   "cell_type": "markdown",
   "metadata": {},
   "source": [
    "# Exercise 7\n",
    "\n",
    "Write a function that prompts the user to enter a numerical score (0-100). In response, you should print the score and corresponding letter grade, according to the table below.\n",
    "\n",
    "| Score | Grade |\n",
    "|:-------:|:----:|\n",
    "|  >= 90  |   A  |\n",
    "| [80-90) |   B  |\n",
    "| [70-80) |   C  |\n",
    "| [60-70) |   D  |\n",
    "|   <60   |   E  |\n",
    "\n",
    "Brackets and parentheses denote closed and open intervals. A closed interval includes the number and an open interval excludes it. So 79.99999 gets the C grade, but 80 gets the B grade."
   ]
  },
  {
   "cell_type": "code",
   "execution_count": null,
   "metadata": {},
   "outputs": [],
   "source": [
    "# Write your solution here"
   ]
  },
  {
   "cell_type": "markdown",
   "metadata": {},
   "source": [
    "# Exercise 8\n",
    "\n",
    "Write a program that prints a greeting for each student in the `students` list. This program should also keep track of how many students have been received and take into account each time a new student is greeted. When only one student has entered, the program should say “The first student has entered!” Then the program should say \"There are {number here} students in the classroom!\"\n"
   ]
  },
  {
   "cell_type": "code",
   "execution_count": 13,
   "metadata": {},
   "outputs": [],
   "source": [
    "students = [\n",
    "    \"Claudia\",\n",
    "    \"Fernando\",\n",
    "    \"Jesus\",\n",
    "    \"Silvana\",\n",
    "    \"Gloria\",\n",
    "    \"Jose Carlos\",\n",
    "    \"Carlos\",\n",
    "    \"Chyristian\",\n",
    "    \"Arlis\",\n",
    "    \"Ricardo\",\n",
    "    \"Zulma\",\n",
    "    \"María\",\n",
    "    \"Alex\",\n",
    "    \"Melanie\",\n",
    "    \"Almendra\",\n",
    "]\n",
    "\n",
    "# Write your solution here"
   ]
  },
  {
   "cell_type": "markdown",
   "metadata": {},
   "source": [
    "If you have time, I invite you to explore the [exercises in chapters 6, 7 and 8](https://runestone.academy/runestone/books/published/fopp/index.html) from the original tutorial."
   ]
  }
 ],
 "metadata": {
  "kernelspec": {
   "display_name": "oss",
   "language": "python",
   "name": "python3"
  },
  "language_info": {
   "codemirror_mode": {
    "name": "ipython",
    "version": 3
   },
   "file_extension": ".py",
   "mimetype": "text/x-python",
   "name": "python",
   "nbconvert_exporter": "python",
   "pygments_lexer": "ipython3",
   "version": "3.10.14"
  },
  "orig_nbformat": 2
 },
 "nbformat": 4,
 "nbformat_minor": 2
}
