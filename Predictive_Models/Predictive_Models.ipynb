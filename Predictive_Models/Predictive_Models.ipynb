{
 "cells": [
  {
   "cell_type": "markdown",
   "metadata": {},
   "source": [
    "# Predictive Models\n",
    "\n",
    ">This material is an adaptation of the article [Regression and Classification](https://machinelearningmodels.org/regression-and-classification) developed by Andrew Nailman at the [Machine Learning Models](https://machinelearningmodels.org/) website."
   ]
  },
  {
   "cell_type": "markdown",
   "metadata": {
    "vscode": {
     "languageId": "plaintext"
    }
   },
   "source": [
    "In Machine Learnnig (ML), predictive modeling is the use of algorithms to predict the outcome of future events based on historical data. It involves building a mathematical model that takes relevant input variables and generates a predicted output variable. Machine learning algorithms are used to train and improve these models to help you make better decisions."
   ]
  },
  {
   "cell_type": "markdown",
   "metadata": {},
   "source": [
    "Regression and classification are fundamental techniques in machine learning, each serving distinct purposes. Regression models predict continuous values, while classification models categorize data into predefined classes. Mastering these techniques involves understanding the data, choosing the right model, and optimizing it for accuracy and efficiency"
   ]
  },
  {
   "cell_type": "markdown",
   "metadata": {},
   "source": [
    "## Scikit-learn"
   ]
  },
  {
   "cell_type": "markdown",
   "metadata": {},
   "source": [
    "One of the most popular and accessible libraries for implementing machine learning algorithms in Python is scikit-learn.\n",
    "\n",
    "Scikit-learn is a versatile and powerful library designed to streamline the process of implementing machine learning algorithms. It offers a wide range of tools for various tasks, including classification, regression, clustering, and dimensionality reduction. One of the main advantages of scikit-learn is its user-friendly API, which makes it accessible even to those with limited programming experience."
   ]
  },
  {
   "cell_type": "markdown",
   "metadata": {},
   "source": [
    "## Data Preprocessing in Scikit-Learn\n",
    "\n",
    "Effective data preprocessing is crucial for building accurate and reliable machine learning models. Scikit-learn offers a variety of tools for transforming raw data into a format suitable for analysis. These tools include functions for handling missing values, scaling numerical features, and encoding categorical variables.\n",
    "\n",
    "For example, let's load a dataset with both numeric and categorical variables:"
   ]
  },
  {
   "cell_type": "code",
   "execution_count": 80,
   "metadata": {},
   "outputs": [
    {
     "name": "stdout",
     "output_type": "stream",
     "text": [
      "--2024-07-18 23:37:35--  https://github.com/renatoparedes/EstadisticaYPsicologiaMatematica/raw/main/INEE/Clase15_BaseRegresionLogistica.sav\n",
      "Resolving github.com (github.com)... 20.201.28.151\n",
      "Connecting to github.com (github.com)|20.201.28.151|:443... connected.\n",
      "HTTP request sent, awaiting response... 302 Found\n",
      "Location: https://raw.githubusercontent.com/renatoparedes/EstadisticaYPsicologiaMatematica/main/INEE/Clase15_BaseRegresionLogistica.sav [following]\n",
      "--2024-07-18 23:37:36--  https://raw.githubusercontent.com/renatoparedes/EstadisticaYPsicologiaMatematica/main/INEE/Clase15_BaseRegresionLogistica.sav\n",
      "Resolving raw.githubusercontent.com (raw.githubusercontent.com)... 185.199.110.133, 185.199.108.133, 185.199.109.133, ...\n",
      "Connecting to raw.githubusercontent.com (raw.githubusercontent.com)|185.199.110.133|:443... connected.\n",
      "HTTP request sent, awaiting response... 200 OK\n",
      "Length: 2694 (2.6K) [application/octet-stream]\n",
      "Saving to: ‘Clase15_BaseRegresionLogistica.sav’\n",
      "\n",
      "Clase15_BaseRegresi 100%[===================>]   2.63K  --.-KB/s    in 0s      \n",
      "\n",
      "2024-07-18 23:37:36 (69.6 MB/s) - ‘Clase15_BaseRegresionLogistica.sav’ saved [2694/2694]\n",
      "\n"
     ]
    }
   ],
   "source": [
    "!wget https://github.com/renatoparedes/EstadisticaYPsicologiaMatematica/raw/main/INEE/Clase15_BaseRegresionLogistica.sav\n",
    "!pip install pyreadstat"
   ]
  },
  {
   "cell_type": "code",
   "execution_count": 86,
   "metadata": {},
   "outputs": [
    {
     "data": {
      "text/html": [
       "<div>\n",
       "<style scoped>\n",
       "    .dataframe tbody tr th:only-of-type {\n",
       "        vertical-align: middle;\n",
       "    }\n",
       "\n",
       "    .dataframe tbody tr th {\n",
       "        vertical-align: top;\n",
       "    }\n",
       "\n",
       "    .dataframe thead th {\n",
       "        text-align: right;\n",
       "    }\n",
       "</style>\n",
       "<table border=\"1\" class=\"dataframe\">\n",
       "  <thead>\n",
       "    <tr style=\"text-align: right;\">\n",
       "      <th></th>\n",
       "      <th>ProbSueño</th>\n",
       "      <th>Estrés</th>\n",
       "      <th>Ansiedad</th>\n",
       "      <th>Depresión</th>\n",
       "    </tr>\n",
       "  </thead>\n",
       "  <tbody>\n",
       "    <tr>\n",
       "      <th>0</th>\n",
       "      <td>Sí</td>\n",
       "      <td>5.0</td>\n",
       "      <td>7.0</td>\n",
       "      <td>3.0</td>\n",
       "    </tr>\n",
       "    <tr>\n",
       "      <th>1</th>\n",
       "      <td>Sí</td>\n",
       "      <td>8.0</td>\n",
       "      <td>6.0</td>\n",
       "      <td>1.0</td>\n",
       "    </tr>\n",
       "    <tr>\n",
       "      <th>2</th>\n",
       "      <td>No</td>\n",
       "      <td>2.0</td>\n",
       "      <td>3.0</td>\n",
       "      <td>1.0</td>\n",
       "    </tr>\n",
       "    <tr>\n",
       "      <th>3</th>\n",
       "      <td>No</td>\n",
       "      <td>2.0</td>\n",
       "      <td>1.0</td>\n",
       "      <td>2.0</td>\n",
       "    </tr>\n",
       "    <tr>\n",
       "      <th>4</th>\n",
       "      <td>No</td>\n",
       "      <td>8.0</td>\n",
       "      <td>2.0</td>\n",
       "      <td>5.0</td>\n",
       "    </tr>\n",
       "    <tr>\n",
       "      <th>...</th>\n",
       "      <td>...</td>\n",
       "      <td>...</td>\n",
       "      <td>...</td>\n",
       "      <td>...</td>\n",
       "    </tr>\n",
       "    <tr>\n",
       "      <th>95</th>\n",
       "      <td>Sí</td>\n",
       "      <td>6.0</td>\n",
       "      <td>6.0</td>\n",
       "      <td>3.0</td>\n",
       "    </tr>\n",
       "    <tr>\n",
       "      <th>96</th>\n",
       "      <td>No</td>\n",
       "      <td>6.0</td>\n",
       "      <td>4.0</td>\n",
       "      <td>0.0</td>\n",
       "    </tr>\n",
       "    <tr>\n",
       "      <th>97</th>\n",
       "      <td>Sí</td>\n",
       "      <td>7.0</td>\n",
       "      <td>12.0</td>\n",
       "      <td>11.0</td>\n",
       "    </tr>\n",
       "    <tr>\n",
       "      <th>98</th>\n",
       "      <td>Sí</td>\n",
       "      <td>7.0</td>\n",
       "      <td>14.0</td>\n",
       "      <td>9.0</td>\n",
       "    </tr>\n",
       "    <tr>\n",
       "      <th>99</th>\n",
       "      <td>Sí</td>\n",
       "      <td>6.0</td>\n",
       "      <td>6.0</td>\n",
       "      <td>3.0</td>\n",
       "    </tr>\n",
       "  </tbody>\n",
       "</table>\n",
       "<p>100 rows × 4 columns</p>\n",
       "</div>"
      ],
      "text/plain": [
       "   ProbSueño  Estrés  Ansiedad  Depresión\n",
       "0         Sí     5.0       7.0        3.0\n",
       "1         Sí     8.0       6.0        1.0\n",
       "2         No     2.0       3.0        1.0\n",
       "3         No     2.0       1.0        2.0\n",
       "4         No     8.0       2.0        5.0\n",
       "..       ...     ...       ...        ...\n",
       "95        Sí     6.0       6.0        3.0\n",
       "96        No     6.0       4.0        0.0\n",
       "97        Sí     7.0      12.0       11.0\n",
       "98        Sí     7.0      14.0        9.0\n",
       "99        Sí     6.0       6.0        3.0\n",
       "\n",
       "[100 rows x 4 columns]"
      ]
     },
     "execution_count": 86,
     "metadata": {},
     "output_type": "execute_result"
    }
   ],
   "source": [
    "import pandas as pd\n",
    "\n",
    "df = pd.read_spss(\"Clase15_BaseRegresionLogistica.sav\")\n",
    "data = df.drop(columns=[\"Código\", \"Sexo\", \"Edad\"])\n",
    "data"
   ]
  },
  {
   "cell_type": "markdown",
   "metadata": {},
   "source": [
    "This code shows how to preprocess numeric and categorical features using scikit-learn's Pipeline and ColumnTransformer, standardizing numerical columns and one-hot encoding categorical columns:"
   ]
  },
  {
   "cell_type": "code",
   "execution_count": 87,
   "metadata": {},
   "outputs": [
    {
     "name": "stdout",
     "output_type": "stream",
     "text": [
      "[[-0.21762085  0.21267069 -0.19200932  0.          1.        ]\n",
      " [ 1.03788405 -0.05998404 -0.84288838  0.          1.        ]\n",
      " [-1.47312575 -0.87794821 -0.84288838  1.          0.        ]\n",
      " [-1.47312575 -1.42325766 -0.51744885  1.          0.        ]\n",
      " [ 1.03788405 -1.15060294  0.45886973  1.          0.        ]\n",
      " [ 1.87488732 -0.60529349  1.10974879  0.          1.        ]\n",
      " [ 1.03788405 -0.60529349 -1.16832791  1.          0.        ]\n",
      " [-1.47312575  0.75798013 -0.51744885  1.          0.        ]\n",
      " [ 1.03788405  0.75798013 -0.19200932  0.          1.        ]\n",
      " [ 1.03788405  1.30328958  0.78430926  0.          1.        ]\n",
      " [ 1.45638569  0.48532541  0.13343021  1.          0.        ]\n",
      " [ 0.61938242  1.57594431  1.76062785  0.          1.        ]\n",
      " [-0.63612248 -0.33263876 -1.16832791  0.          1.        ]\n",
      " [-0.21762085 -0.33263876 -0.84288838  1.          0.        ]\n",
      " [-0.21762085 -0.87794821  0.13343021  1.          0.        ]\n",
      " [ 0.61938242  2.39390848 -0.84288838  0.          1.        ]\n",
      " [ 1.03788405 -0.05998404  1.10974879  1.          0.        ]\n",
      " [-1.47312575 -0.05998404  0.45886973  1.          0.        ]\n",
      " [ 1.45638569  2.66656321  2.4115069   0.          1.        ]\n",
      " [ 1.45638569  1.30328958  1.10974879  1.          0.        ]\n",
      " [-1.05462412 -0.87794821 -0.84288838  1.          0.        ]\n",
      " [-0.63612248 -0.33263876 -0.84288838  1.          0.        ]\n",
      " [ 0.61938242  0.21267069 -0.51744885  1.          0.        ]\n",
      " [ 1.03788405  0.48532541 -0.19200932  1.          0.        ]\n",
      " [-1.47312575 -1.15060294 -0.84288838  1.          0.        ]\n",
      " [ 0.20088078 -0.05998404 -0.51744885  1.          0.        ]\n",
      " [-1.05462412 -0.60529349 -1.16832791  1.          0.        ]\n",
      " [ 1.03788405  2.66656321  2.4115069   0.          1.        ]\n",
      " [-0.21762085  1.03063486  0.78430926  0.          1.        ]\n",
      " [-0.63612248 -0.60529349 -0.84288838  1.          0.        ]\n",
      " [ 0.61938242 -0.87794821 -0.19200932  1.          0.        ]\n",
      " [-1.05462412 -0.60529349 -0.84288838  1.          0.        ]\n",
      " [-0.21762085  0.21267069  2.08606738  0.          1.        ]\n",
      " [-1.47312575 -1.69591239 -1.16832791  1.          0.        ]\n",
      " [ 0.61938242  0.48532541  0.45886973  0.          1.        ]\n",
      " [-1.47312575 -1.15060294 -0.19200932  1.          0.        ]\n",
      " [ 0.61938242  1.03063486  1.43518832  0.          1.        ]\n",
      " [ 1.03788405  0.48532541 -0.84288838  1.          0.        ]\n",
      " [ 0.20088078 -0.60529349 -0.84288838  1.          0.        ]\n",
      " [ 0.61938242 -0.60529349 -0.19200932  1.          0.        ]\n",
      " [-1.89162739 -1.69591239 -1.16832791  1.          0.        ]\n",
      " [-1.47312575 -1.42325766 -0.84288838  1.          0.        ]\n",
      " [ 1.45638569  2.93921793  0.13343021  0.          1.        ]\n",
      " [-1.05462412 -0.60529349 -0.51744885  0.          1.        ]\n",
      " [-1.47312575 -1.42325766 -1.16832791  1.          0.        ]\n",
      " [-0.21762085  0.21267069  0.13343021  1.          0.        ]\n",
      " [ 1.03788405  1.03063486  1.76062785  1.          0.        ]\n",
      " [ 0.61938242 -0.33263876 -0.19200932  0.          1.        ]\n",
      " [ 0.61938242  0.21267069  1.10974879  0.          1.        ]\n",
      " [-0.63612248  0.21267069 -0.84288838  0.          1.        ]\n",
      " [-1.05462412  0.75798013  1.76062785  1.          0.        ]\n",
      " [ 1.03788405 -0.05998404 -0.51744885  0.          1.        ]\n",
      " [ 1.03788405  1.57594431  2.4115069   0.          1.        ]\n",
      " [-0.21762085 -0.87794821  0.13343021  1.          0.        ]\n",
      " [ 1.03788405  0.21267069  0.13343021  0.          1.        ]\n",
      " [ 1.03788405 -0.60529349 -0.51744885  1.          0.        ]\n",
      " [ 0.61938242 -0.05998404  0.45886973  0.          1.        ]\n",
      " [-1.05462412 -0.87794821 -0.51744885  1.          0.        ]\n",
      " [ 1.45638569  1.30328958 -0.51744885  1.          0.        ]\n",
      " [ 1.03788405  0.48532541  0.78430926  0.          1.        ]\n",
      " [ 0.20088078  0.48532541  0.78430926  0.          1.        ]\n",
      " [-0.63612248 -0.05998404  0.13343021  1.          0.        ]\n",
      " [ 1.03788405 -1.15060294  0.13343021  0.          1.        ]\n",
      " [ 1.03788405  1.57594431  1.43518832  0.          1.        ]\n",
      " [-0.21762085  1.57594431 -0.19200932  0.          1.        ]\n",
      " [-1.05462412  0.21267069  1.43518832  1.          0.        ]\n",
      " [-0.21762085 -0.87794821 -0.84288838  1.          0.        ]\n",
      " [-0.21762085 -0.33263876  1.10974879  0.          1.        ]\n",
      " [ 0.61938242  0.48532541  1.10974879  0.          1.        ]\n",
      " [ 0.61938242  0.75798013  1.43518832  0.          1.        ]\n",
      " [-1.05462412 -0.05998404 -0.51744885  0.          1.        ]\n",
      " [-1.47312575 -0.60529349 -0.84288838  1.          0.        ]\n",
      " [-1.05462412 -1.15060294 -1.16832791  0.          1.        ]\n",
      " [ 1.45638569  0.75798013  1.10974879  0.          1.        ]\n",
      " [-1.05462412 -0.60529349 -0.84288838  1.          0.        ]\n",
      " [ 0.61938242  0.21267069 -0.84288838  1.          0.        ]\n",
      " [-1.47312575 -0.60529349 -0.19200932  1.          0.        ]\n",
      " [-1.47312575 -0.33263876 -0.84288838  1.          0.        ]\n",
      " [-0.21762085 -0.87794821 -0.19200932  1.          0.        ]\n",
      " [-0.63612248 -0.87794821 -0.84288838  0.          1.        ]\n",
      " [ 0.61938242 -1.15060294 -0.19200932  0.          1.        ]\n",
      " [ 1.45638569  1.03063486  0.78430926  0.          1.        ]\n",
      " [ 1.03788405 -0.05998404 -0.19200932  0.          1.        ]\n",
      " [ 0.20088078  0.48532541  2.08606738  1.          0.        ]\n",
      " [-1.47312575 -1.15060294 -0.84288838  1.          0.        ]\n",
      " [-0.63612248  0.21267069 -0.51744885  0.          1.        ]\n",
      " [ 1.45638569 -0.05998404 -0.84288838  1.          0.        ]\n",
      " [-0.63612248 -0.33263876 -0.19200932  1.          0.        ]\n",
      " [-1.05462412  0.48532541 -0.51744885  0.          1.        ]\n",
      " [ 0.61938242  0.48532541 -0.51744885  0.          1.        ]\n",
      " [-0.21762085 -1.15060294 -1.16832791  0.          1.        ]\n",
      " [-1.47312575 -0.33263876 -0.84288838  1.          0.        ]\n",
      " [ 0.20088078 -0.60529349 -1.16832791  1.          0.        ]\n",
      " [-1.05462412 -1.42325766 -1.16832791  1.          0.        ]\n",
      " [-1.47312575 -1.42325766 -0.19200932  1.          0.        ]\n",
      " [ 0.20088078 -0.05998404 -0.19200932  0.          1.        ]\n",
      " [ 0.20088078 -0.60529349 -1.16832791  1.          0.        ]\n",
      " [ 0.61938242  1.57594431  2.4115069   0.          1.        ]\n",
      " [ 0.61938242  2.12125376  1.76062785  0.          1.        ]\n",
      " [ 0.20088078 -0.05998404 -0.19200932  0.          1.        ]]\n"
     ]
    }
   ],
   "source": [
    "from sklearn.preprocessing import StandardScaler, OneHotEncoder\n",
    "from sklearn.compose import ColumnTransformer\n",
    "from sklearn.pipeline import Pipeline\n",
    "\n",
    "# Define preprocessing steps\n",
    "numeric_features = [\"Estrés\", \"Ansiedad\", \"Depresión\"]\n",
    "numeric_transformer = Pipeline(steps=[(\"scaler\", StandardScaler())])\n",
    "\n",
    "categorical_features = [\"ProbSueño\"]\n",
    "categorical_transformer = Pipeline(steps=[(\"onehot\", OneHotEncoder())])\n",
    "\n",
    "preprocessor = ColumnTransformer(\n",
    "    transformers=[\n",
    "        (\"num\", numeric_transformer, numeric_features),\n",
    "        (\"cat\", categorical_transformer, categorical_features),\n",
    "    ]\n",
    ")\n",
    "\n",
    "# Apply preprocessing\n",
    "preprocessed_data = preprocessor.fit_transform(data)\n",
    "preprocessed_data\n",
    "print(preprocessed_data)"
   ]
  },
  {
   "cell_type": "markdown",
   "metadata": {},
   "source": [
    "## Building Machine Learning Models in Scikit-learn"
   ]
  },
  {
   "cell_type": "markdown",
   "metadata": {},
   "source": [
    "### Classification Models to Predict Categorical Values\n",
    "\n",
    "Classification models predict categorical values, assigning inputs to one of several predefined classes. These models are crucial in applications like spam detection, image recognition, and medical diagnosis. Popular classification algorithms include logistic regression, decision trees, random forests, and support vector machines (SVM).\n",
    "\n",
    "Logistic regression estimates the probability of a binary outcome, while decision trees and random forests handle multi-class classification by learning decision rules from the data. Support vector machines are effective for both binary and multi-class classification, using hyperplanes to separate different classes."
   ]
  },
  {
   "cell_type": "markdown",
   "metadata": {},
   "source": [
    "Let's build a classifier with our previous example:"
   ]
  },
  {
   "cell_type": "code",
   "execution_count": 102,
   "metadata": {},
   "outputs": [],
   "source": [
    "from sklearn.model_selection import train_test_split\n",
    "\n",
    "# Load the data\n",
    "X = preprocessed_data[:, 0:3]  # Features: Estrés, Ansiedad, Depresión\n",
    "y = preprocessed_data[:, -1]  # Labels: ProbSueño\n",
    "\n",
    "# Split the data into training and testing sets\n",
    "X_train, X_test, y_train, y_test = train_test_split(\n",
    "    X, y, test_size=0.2, random_state=42\n",
    ")"
   ]
  },
  {
   "cell_type": "code",
   "execution_count": 143,
   "metadata": {},
   "outputs": [
    {
     "name": "stdout",
     "output_type": "stream",
     "text": [
      "[1. 0. 0. 0. 0. 0. 1. 0. 1. 0. 1. 0. 1. 0. 0. 0. 0. 0. 0. 0.]\n",
      "[0. 0. 1. 0. 0. 0. 0. 1. 0. 1. 1. 0. 1. 0. 1. 0. 0. 0. 1. 0.]\n"
     ]
    }
   ],
   "source": [
    "from sklearn.linear_model import LogisticRegression\n",
    "from sklearn.metrics import accuracy_score\n",
    "\n",
    "# Train a logistic regression model\n",
    "model = LogisticRegression()\n",
    "model.fit(X_train, y_train)\n",
    "\n",
    "# Make predictions on the testing data\n",
    "y_pred = model.predict(X_test)\n",
    "print(y_pred)\n",
    "print(y_test)"
   ]
  },
  {
   "cell_type": "markdown",
   "metadata": {},
   "source": [
    "Classification evaluation metrics assess the performance of models that predict categorical values. Key metrics include Accuracy, Precision, Recall, F1 Score, and the Confusion Matrix. These metrics provide a comprehensive view of the model's ability to classify correctly.\n",
    "\n",
    "Accuracy measures the proportion of correct predictions, while Precision assesses the proportion of true positives among predicted positives. Recall calculates the proportion of true positives among actual positives. The F1 Score balances Precision and Recall, providing a single metric for performance evaluation. The Confusion Matrix visualizes the true positives, true negatives, false positives, and false negatives, offering detailed insights into the model's classification performance."
   ]
  },
  {
   "cell_type": "code",
   "execution_count": 144,
   "metadata": {},
   "outputs": [
    {
     "name": "stdout",
     "output_type": "stream",
     "text": [
      "Accuracy: 0.6, Precision: 0.4, Recall: 0.2857142857142857, F1 Score: 0.3333333333333333\n"
     ]
    }
   ],
   "source": [
    "from sklearn.metrics import (\n",
    "    accuracy_score,\n",
    "    precision_score,\n",
    "    recall_score,\n",
    "    f1_score,\n",
    "    confusion_matrix,\n",
    ")\n",
    "\n",
    "## Evaluate the model\n",
    "# Calculate metrics\n",
    "accuracy = accuracy_score(y_test, y_pred)\n",
    "precision = precision_score(y_test, y_pred)\n",
    "recall = recall_score(y_test, y_pred)\n",
    "f1 = f1_score(y_test, y_pred)\n",
    "conf_matrix = confusion_matrix(y_test, y_pred)\n",
    "\n",
    "print(\n",
    "    f\"Accuracy: {accuracy}, Precision: {precision}, Recall: {recall}, F1 Score: {f1}\"\n",
    ")"
   ]
  },
  {
   "cell_type": "code",
   "execution_count": 145,
   "metadata": {},
   "outputs": [
    {
     "data": {
      "image/png": "[encoded data removed]",
      "text/plain": [
       "<Figure size 432x288 with 2 Axes>"
      ]
     },
     "metadata": {
      "needs_background": "light"
     },
     "output_type": "display_data"
    }
   ],
   "source": [
    "from sklearn.metrics import ConfusionMatrixDisplay\n",
    "\n",
    "cm_display = ConfusionMatrixDisplay.from_estimator(model, X_test, y_test)"
   ]
  },
  {
   "cell_type": "code",
   "execution_count": 146,
   "metadata": {},
   "outputs": [
    {
     "data": {
      "image/png": "[encoded data removed]",
      "text/plain": [
       "<Figure size 432x288 with 1 Axes>"
      ]
     },
     "metadata": {
      "needs_background": "light"
     },
     "output_type": "display_data"
    }
   ],
   "source": [
    "from sklearn.metrics import RocCurveDisplay\n",
    "\n",
    "roc_display = RocCurveDisplay.from_estimator(model, X_test, y_test)"
   ]
  },
  {
   "cell_type": "code",
   "execution_count": 147,
   "metadata": {},
   "outputs": [
    {
     "data": {
      "image/png": "[encoded data removed]",
      "text/plain": [
       "<Figure size 432x288 with 1 Axes>"
      ]
     },
     "metadata": {
      "needs_background": "light"
     },
     "output_type": "display_data"
    }
   ],
   "source": [
    "from sklearn.metrics import PrecisionRecallDisplay\n",
    "\n",
    "pr_display = PrecisionRecallDisplay.from_estimator(model, X_test, y_test)"
   ]
  },
  {
   "cell_type": "code",
   "execution_count": 148,
   "metadata": {},
   "outputs": [
    {
     "data": {
      "text/plain": [
       "<sklearn.metrics._plot.det_curve.DetCurveDisplay at 0x7fb4835d3be0>"
      ]
     },
     "execution_count": 148,
     "metadata": {},
     "output_type": "execute_result"
    },
    {
     "data": {
      "image/png": "[encoded data removed]",
      "text/plain": [
       "<Figure size 432x288 with 1 Axes>"
      ]
     },
     "metadata": {
      "needs_background": "light"
     },
     "output_type": "display_data"
    }
   ],
   "source": [
    "from sklearn.metrics import DetCurveDisplay\n",
    "\n",
    "DetCurveDisplay.from_estimator(model, X_test, y_test)"
   ]
  },
  {
   "cell_type": "markdown",
   "metadata": {},
   "source": [
    "### Regression Models to Predict Continuous Values"
   ]
  },
  {
   "cell_type": "markdown",
   "metadata": {},
   "source": [
    "Regression models are used to predict continuous values, making them ideal for problems where the outcome is a real number. These models establish a relationship between independent variables (features) and a dependent variable (target). Common regression techniques include linear regression, polynomial regression, and support vector regression.\n",
    "\n",
    "Linear regression is the simplest form, modeling the relationship between variables by fitting a linear equation to observed data. For more complex relationships, polynomial regression can capture non-linear patterns by introducing polynomial terms of the predictors. Support vector regression (SVR) extends the capabilities to handle non-linear relationships using kernel functions."
   ]
  },
  {
   "cell_type": "markdown",
   "metadata": {},
   "source": [
    "Let's try it with our previous example:"
   ]
  },
  {
   "cell_type": "code",
   "execution_count": 157,
   "metadata": {},
   "outputs": [],
   "source": [
    "from sklearn.model_selection import train_test_split\n",
    "\n",
    "# Load the data\n",
    "X = preprocessed_data[:, [0, -1]]  # Features: Estrés, ProbSueño\n",
    "y = preprocessed_data[:, 2]  # Value: Depresión\n",
    "\n",
    "# Split the data into training and testing sets\n",
    "X_train, X_test, y_train, y_test = train_test_split(\n",
    "    X, y, test_size=0.2, random_state=42\n",
    ")"
   ]
  },
  {
   "cell_type": "code",
   "execution_count": 161,
   "metadata": {},
   "outputs": [
    {
     "data": {
      "text/plain": [
       "array([-0.24955117, -0.35667869,  0.08550487, -0.35667869, -0.67806128,\n",
       "       -0.14242364, -0.14242364,  0.51401498,  0.07183142,  0.29975992,\n",
       "        0.72827003, -0.14242364,  0.72827003, -0.67806128,  0.29975992,\n",
       "       -0.03529611, -0.67806128, -0.67806128,  0.19263239, -0.57093375])"
      ]
     },
     "execution_count": 161,
     "metadata": {},
     "output_type": "execute_result"
    }
   ],
   "source": [
    "from sklearn.linear_model import LinearRegression\n",
    "\n",
    "# Train a linear regression model\n",
    "model = LinearRegression()\n",
    "model.fit(X_train, y_train)\n",
    "\n",
    "# Make predictions on the testing data\n",
    "y_pred = model.predict(X_test)\n",
    "y_pred"
   ]
  },
  {
   "cell_type": "code",
   "execution_count": 165,
   "metadata": {},
   "outputs": [
    {
     "name": "stdout",
     "output_type": "stream",
     "text": [
      "Mean Squared Error: 0.7618673678642518\n",
      "R2: 0.20161204210460826\n"
     ]
    }
   ],
   "source": [
    "from sklearn.metrics import mean_squared_error, r2_score\n",
    "\n",
    "# Evaluate the model\n",
    "mse = mean_squared_error(y_test, y_pred)\n",
    "r2 = r2_score(y_test, y_pred)\n",
    "print(f\"Mean Squared Error: {mse}\")\n",
    "print(f\"R2: {r2}\")"
   ]
  },
  {
   "cell_type": "code",
   "execution_count": 166,
   "metadata": {},
   "outputs": [
    {
     "data": {
      "text/plain": [
       "<sklearn.metrics._plot.regression.PredictionErrorDisplay at 0x7fb4c2f264a0>"
      ]
     },
     "execution_count": 166,
     "metadata": {},
     "output_type": "execute_result"
    },
    {
     "data": {
      "image/png": "[encoded data removed]",
      "text/plain": [
       "<Figure size 432x288 with 1 Axes>"
      ]
     },
     "metadata": {
      "needs_background": "light"
     },
     "output_type": "display_data"
    }
   ],
   "source": [
    "from sklearn.metrics import PredictionErrorDisplay\n",
    "\n",
    "PredictionErrorDisplay.from_estimator(model, X_test, y_test)"
   ]
  }
 ],
 "metadata": {
  "kernelspec": {
   "display_name": "oss",
   "language": "python",
   "name": "python3"
  },
  "language_info": {
   "codemirror_mode": {
    "name": "ipython",
    "version": 3
   },
   "file_extension": ".py",
   "mimetype": "text/x-python",
   "name": "python",
   "nbconvert_exporter": "python",
   "pygments_lexer": "ipython3",
   "version": "3.10.12"
  }
 },
 "nbformat": 4,
 "nbformat_minor": 2
}
