{
 "cells": [
  {
   "cell_type": "markdown",
   "metadata": {},
   "source": [
    "# Coursework: Programming Fundamentals II\n",
    "\n",
    "This material is a selection from the [Foundations of Python Programming](https://runestone.academy/runestone/books/published/fopp/index.html) tutorial developed by Brad Miller, Paul Resnick, Lauren Murphy, Jeffrey Elkner, Peter Wentworth, Allen B. Downey, Chris as part of the [Runstone Interactive](http://runestoneinteractive.org/) project.\n",
    "\n",
    ">Barbara Ericson and Bradley Miller. 2020 Runestone: A Platform for Free, On-line, and Interactive Ebooks In Proceedings of the 51st ACM Technical Symposium on Computer Science Education (SIGCSE ’20). Association for Computing Machinery, New York, NY, USA, 1240."
   ]
  },
  {
   "cell_type": "markdown",
   "metadata": {},
   "source": [
    "# Exercise 1\n",
    "\n",
    "Consider the list `letters` present in the following cell. Write code that allows you to do the following:\n",
    "\n",
    "- Print the letter \"C\" from this list\n",
    "- Print the length of this list\n",
    "- Print the first item in this list\n",
    "- Print the last item in this list\n",
    "- Create a variable called grade and assign it the third element (\"C\") of the list of letters in the list (print the variable to make sure you did the correct indexing)"
   ]
  },
  {
   "cell_type": "code",
   "execution_count": 2,
   "metadata": {},
   "outputs": [
    {
     "name": "stdout",
     "output_type": "stream",
     "text": [
      "1. C\n",
      "2. 5\n",
      "3. A\n",
      "4. E\n",
      "5. C\n"
     ]
    }
   ],
   "source": [
    "letters = [\"A\", \"B\", \"C\", \"D\", \"E\"]\n",
    "\n",
    "## Write your solution here\n",
    "print(\"1.\", letters[2])\n",
    "print(\"2.\", len(letters))\n",
    "print(\"3.\", letters[0])\n",
    "print(\"4.\", letters[-1])\n",
    "\n",
    "calificacion = letters[2]\n",
    "print(\"5.\", calificacion)"
   ]
  },
  {
   "cell_type": "markdown",
   "metadata": {},
   "source": [
    "# Exercise 2\n",
    "\n",
    "Write a program that prints the length of each element in the list `students`, as well as the first and last character of the element."
   ]
  },
  {
   "cell_type": "code",
   "execution_count": 3,
   "metadata": {},
   "outputs": [
    {
     "name": "stdout",
     "output_type": "stream",
     "text": [
      "Claudia\n",
      "longitud: 7\n",
      "primer: C\n",
      "último: a\n",
      "Fernando\n",
      "longitud: 8\n",
      "primer: F\n",
      "último: o\n",
      "Jesus\n",
      "longitud: 5\n",
      "primer: J\n",
      "último: s\n",
      "Silvana\n",
      "longitud: 7\n",
      "primer: S\n",
      "último: a\n",
      "Gloria\n",
      "longitud: 6\n",
      "primer: G\n",
      "último: a\n",
      "Jose Carlos\n",
      "longitud: 11\n",
      "primer: J\n",
      "último: s\n",
      "Carlos\n",
      "longitud: 6\n",
      "primer: C\n",
      "último: s\n",
      "Chyristian\n",
      "longitud: 10\n",
      "primer: C\n",
      "último: n\n",
      "Arlis\n",
      "longitud: 5\n",
      "primer: A\n",
      "último: s\n",
      "Ricardo\n",
      "longitud: 7\n",
      "primer: R\n",
      "último: o\n",
      "Zulma\n",
      "longitud: 5\n",
      "primer: Z\n",
      "último: a\n",
      "María\n",
      "longitud: 5\n",
      "primer: M\n",
      "último: a\n",
      "Alex\n",
      "longitud: 4\n",
      "primer: A\n",
      "último: x\n",
      "Melanie\n",
      "longitud: 7\n",
      "primer: M\n",
      "último: e\n",
      "Almendra\n",
      "longitud: 8\n",
      "primer: A\n",
      "último: a\n"
     ]
    }
   ],
   "source": [
    "students = [\n",
    "    \"Claudia\",\n",
    "    \"Fernando\",\n",
    "    \"Jesus\",\n",
    "    \"Silvana\",\n",
    "    \"Gloria\",\n",
    "    \"Jose Carlos\",\n",
    "    \"Carlos\",\n",
    "    \"Chyristian\",\n",
    "    \"Arlis\",\n",
    "    \"Ricardo\",\n",
    "    \"Zulma\",\n",
    "    \"María\",\n",
    "    \"Alex\",\n",
    "    \"Melanie\",\n",
    "    \"Almendra\",\n",
    "]\n",
    "\n",
    "## Write your solution here\n",
    "\n",
    "for name in students:\n",
    "    print(name)\n",
    "    print(\"longitud:\", len(name))\n",
    "    print(\"primer:\", name[0])\n",
    "    print(\"último:\", name[-1])"
   ]
  },
  {
   "cell_type": "markdown",
   "metadata": {},
   "source": [
    "# Exercise 3\n",
    "\n",
    "Write code to determine how many \"t\"s there are in the following sentences.\n"
   ]
  },
  {
   "cell_type": "code",
   "execution_count": 4,
   "metadata": {},
   "outputs": [
    {
     "name": "stdout",
     "output_type": "stream",
     "text": [
      "\"¿En qué momento se jodió el Perú, Zavalita?\" has 2 \"t\"\n",
      "\"Señor Ministro de Salud: ¿qué hacer? ¡Ah! desgraciadamente, hombre humanos, hay, hermanos, muchísimo que hacer.\" has 2 \"t\"\n",
      "\"¡Los viejos a la tumba, los jóvenes a la obra!\" has 1 \"t\"\n"
     ]
    }
   ],
   "source": [
    "sentences = [\n",
    "    \"¿En qué momento se jodió el Perú, Zavalita?\",\n",
    "    \"Señor Ministro de Salud: ¿qué hacer? ¡Ah! desgraciadamente, hombre humanos, hay, hermanos, muchísimo que hacer.\",\n",
    "    \"¡Los viejos a la tumba, los jóvenes a la obra!\",\n",
    "]\n",
    "\n",
    "# Write your solution here\n",
    "\n",
    "for sentence in sentences:\n",
    "    count = 0\n",
    "    for letter in sentence:\n",
    "        if letter == \"t\":\n",
    "            count = count + 1\n",
    "    print('\"' + sentence + '\"', \"has\", str(count), '\"t\"')"
   ]
  },
  {
   "cell_type": "markdown",
   "metadata": {},
   "source": [
    "# Exercise 4\n",
    "\n",
    "You have a list of numbers `12, 10, 32, 3, 66, 17, 42, 99, 20`\n",
    "\n",
    "1. Write a loop that prints each of the numbers on a new line.\n",
    "\n",
    "2. Write a loop that prints each number and its square on a new line."
   ]
  },
  {
   "cell_type": "code",
   "execution_count": 5,
   "metadata": {},
   "outputs": [
    {
     "name": "stdout",
     "output_type": "stream",
     "text": [
      "Exercise 4.1\n",
      "12\n",
      "10\n",
      "32\n",
      "3\n",
      "66\n",
      "17\n",
      "42\n",
      "99\n",
      "20\n",
      "Exercise 4.2\n",
      "number: 12\n",
      "square: 144\n",
      "number: 10\n",
      "square: 100\n",
      "number: 32\n",
      "square: 1024\n",
      "number: 3\n",
      "square: 9\n",
      "number: 66\n",
      "square: 4356\n",
      "number: 17\n",
      "square: 289\n",
      "number: 42\n",
      "square: 1764\n",
      "number: 99\n",
      "square: 9801\n",
      "number: 20\n",
      "square: 400\n"
     ]
    }
   ],
   "source": [
    "# Write your solution here\n",
    "\n",
    "numbers = [12, 10, 32, 3, 66, 17, 42, 99, 20]\n",
    "\n",
    "print(\"Exercise 4.1\")\n",
    "for i in numbers:\n",
    "    print(i)\n",
    "\n",
    "print(\"Exercise 4.2\")\n",
    "for i in numbers:\n",
    "    print(\"number:\", i)\n",
    "    print(\"square:\", i**2)"
   ]
  },
  {
   "cell_type": "markdown",
   "metadata": {},
   "source": [
    "# Exercise 5\n",
    "\n",
    "Write a for loop to print each character of the string `my_str` on a separate line."
   ]
  },
  {
   "cell_type": "code",
   "execution_count": 6,
   "metadata": {},
   "outputs": [
    {
     "name": "stdout",
     "output_type": "stream",
     "text": [
      "E\n",
      "S\n",
      "T\n",
      "R\n",
      "U\n",
      "E\n",
      "N\n",
      "D\n",
      "O\n",
      "M\n",
      "U\n",
      "D\n",
      "O\n"
     ]
    }
   ],
   "source": [
    "my_str = \"ESTRUENDOMUDO\"\n",
    "\n",
    "## Write your solution here\n",
    "for i in my_str:\n",
    "    print(i)"
   ]
  },
  {
   "cell_type": "markdown",
   "metadata": {},
   "source": [
    "# Exercise 6\n",
    "\n",
    "This code should produce acronyms, which are the concatenation of the first letters (in uppercase) of each word present in `lst`. The code has an error and does not produce the expected result. Make any necessary corrections. You should have only one answer: MAPS."
   ]
  },
  {
   "cell_type": "code",
   "execution_count": 8,
   "metadata": {},
   "outputs": [
    {
     "name": "stdout",
     "output_type": "stream",
     "text": [
      "MAPS\n"
     ]
    }
   ],
   "source": [
    "lst = [\"mathematics\", \"astronomy\", \"physics\", \"stuff\"]\n",
    "# Don't modify the variable lst\n",
    "\n",
    "acronym = \"\"\n",
    "for word in lst:\n",
    "    acronym = acronym + word[0].capitalize()\n",
    "\n",
    "print(acronym)"
   ]
  },
  {
   "cell_type": "markdown",
   "metadata": {},
   "source": [
    "# Exercise 7\n",
    "\n",
    "Write a function that prompts the user to enter a numerical score (0-100). In response, you should print the score and corresponding letter grade, according to the table below.\n",
    "\n",
    "| Score | Grade |\n",
    "|:-------:|:----:|\n",
    "|  >= 90  |   A  |\n",
    "| [80-90) |   B  |\n",
    "| [70-80) |   C  |\n",
    "| [60-70) |   D  |\n",
    "|   <60   |   E  |\n",
    "\n",
    "Brackets and parentheses denote closed and open intervals. A closed interval includes the number and an open interval excludes it. So 79.99999 gets the C grade, but 80 gets the B grade."
   ]
  },
  {
   "cell_type": "code",
   "execution_count": 9,
   "metadata": {},
   "outputs": [
    {
     "name": "stdout",
     "output_type": "stream",
     "text": [
      "C\n",
      "B\n"
     ]
    }
   ],
   "source": [
    "# Write your solution here\n",
    "\n",
    "\n",
    "def mark(score):\n",
    "    if score >= 90:\n",
    "        grade = \"A\"\n",
    "    elif score >= 80 and score < 90:\n",
    "        grade = \"B\"\n",
    "    elif score >= 70 and score < 80:\n",
    "        grade = \"C\"\n",
    "    elif score >= 60 and score < 70:\n",
    "        grade = \"D\"\n",
    "    elif score < 60:\n",
    "        grade = \"E\"\n",
    "    return grade\n",
    "\n",
    "\n",
    "print(mark(79.99999))\n",
    "print(mark(80))"
   ]
  },
  {
   "cell_type": "markdown",
   "metadata": {},
   "source": [
    "# Exercise 8\n",
    "\n",
    "Write a program that prints a greeting for each student in the `students` list. This program should also keep track of how many students have been received and take into account each time a new student is greeted. When only one student has entered, the program should say “The first student has entered!” Then the program should say \"There are {number here} students in the classroom!\"\n"
   ]
  },
  {
   "cell_type": "code",
   "execution_count": 16,
   "metadata": {},
   "outputs": [
    {
     "name": "stdout",
     "output_type": "stream",
     "text": [
      "Hello, Claudia\n",
      "The first student has entered!\n",
      "Hello, Fernando\n",
      "There are 2 students in the classroom!\n",
      "Hello, Jesus\n",
      "There are 3 students in the classroom!\n",
      "Hello, Silvana\n",
      "There are 4 students in the classroom!\n",
      "Hello, Gloria\n",
      "There are 5 students in the classroom!\n",
      "Hello, Jose Carlos\n",
      "There are 6 students in the classroom!\n",
      "Hello, Carlos\n",
      "There are 7 students in the classroom!\n",
      "Hello, Chyristian\n",
      "There are 8 students in the classroom!\n",
      "Hello, Arlis\n",
      "There are 9 students in the classroom!\n",
      "Hello, Ricardo\n",
      "There are 10 students in the classroom!\n",
      "Hello, Zulma\n",
      "There are 11 students in the classroom!\n",
      "Hello, María\n",
      "There are 12 students in the classroom!\n",
      "Hello, Alex\n",
      "There are 13 students in the classroom!\n",
      "Hello, Melanie\n",
      "There are 14 students in the classroom!\n",
      "Hello, Almendra\n",
      "There are 15 students in the classroom!\n"
     ]
    }
   ],
   "source": [
    "students = [\n",
    "    \"Claudia\",\n",
    "    \"Fernando\",\n",
    "    \"Jesus\",\n",
    "    \"Silvana\",\n",
    "    \"Gloria\",\n",
    "    \"Jose Carlos\",\n",
    "    \"Carlos\",\n",
    "    \"Chyristian\",\n",
    "    \"Arlis\",\n",
    "    \"Ricardo\",\n",
    "    \"Zulma\",\n",
    "    \"María\",\n",
    "    \"Alex\",\n",
    "    \"Melanie\",\n",
    "    \"Almendra\",\n",
    "]\n",
    "\n",
    "# Write your solution here\n",
    "\n",
    "\n",
    "def greet_students(student_list):\n",
    "    count = 0\n",
    "    for student in student_list:\n",
    "        print(\"Hello,\", student)\n",
    "        count = count + 1\n",
    "\n",
    "        if count < 2:\n",
    "            print(\"The first student has entered!\")\n",
    "        else:\n",
    "            print(f\"There are {count} students in the classroom!\")\n",
    "\n",
    "\n",
    "greet_students(students)"
   ]
  },
  {
   "cell_type": "markdown",
   "metadata": {},
   "source": [
    "If you have time, I invite you to explore the [exercises in chapters 6, 7 and 8](https://runestone.academy/runestone/books/published/fopp/index.html) from the original tutorial."
   ]
  }
 ],
 "metadata": {
  "kernelspec": {
   "display_name": "oss",
   "language": "python",
   "name": "python3"
  },
  "language_info": {
   "codemirror_mode": {
    "name": "ipython",
    "version": 3
   },
   "file_extension": ".py",
   "mimetype": "text/x-python",
   "name": "python",
   "nbconvert_exporter": "python",
   "pygments_lexer": "ipython3",
   "version": "3.10.14"
  },
  "orig_nbformat": 2
 },
 "nbformat": 4,
 "nbformat_minor": 2
}
