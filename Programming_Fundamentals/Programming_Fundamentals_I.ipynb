{
 "cells": [
  {
   "cell_type": "markdown",
   "metadata": {
    "slideshow": {
     "slide_type": "slide"
    }
   },
   "source": [
    "# Programming Fundamentals I\n",
    "\n",
    "This material is a selection from the [Foundations of Python Programming](https://runestone.academy/runestone/books/published/fopp/index.html) tutorial developed by Brad Miller, Paul Resnick, Lauren Murphy, Jeffrey Elkner, Peter Wentworth, Allen B. Downey, Chris as part of the [Runstone Interactive](http://runestoneinteractive.org/) project.\n",
    "\n",
    ">Barbara Ericson and Bradley Miller. 2020 Runestone: A Platform for Free, On-line, and Interactive Ebooks In Proceedings of the 51st ACM Technical Symposium on Computer Science Education (SIGCSE ’20). Association for Computing Machinery, New York, NY, USA, 1240.\n"
   ]
  },
  {
   "cell_type": "markdown",
   "metadata": {
    "slideshow": {
     "slide_type": "slide"
    }
   },
   "source": [
    "# Values and Data Types\n",
    "\n",
    "A value is one of the fundamental things, like a word or a number, that a program manipulates. Some values are `5` (the result of adding `2 + 3`) and `\"Hello, world!\"` \n",
    "\n",
    "These objects are classified into different classes or data types: `4` is an integer (**integer**) and `\"Hello, world!\"` is a string (**string**), so called because it contains a string or sequence of letters. You (and the interpreter) can identify strings because they are enclosed in quotes."
   ]
  },
  {
   "cell_type": "markdown",
   "metadata": {
    "slideshow": {
     "slide_type": "subslide"
    }
   },
   "source": [
    "During the execution of a program, the Python interpreter creates an internal representation of literals that are specified in a program. It can then manipulate them, for example, by multiplying two numbers. We call internal representations **objects** or simply **values**.\n",
    "\n",
    "You cannot directly see the internal representations of values. However, you can use the `print` function to see a printed representation in the output window."
   ]
  },
  {
   "cell_type": "markdown",
   "metadata": {
    "slideshow": {
     "slide_type": "subslide"
    }
   },
   "source": [
    "Try printing decimal and literal values:"
   ]
  },
  {
   "cell_type": "code",
   "execution_count": 1,
   "metadata": {
    "slideshow": {
     "slide_type": "fragment"
    }
   },
   "outputs": [
    {
     "name": "stdout",
     "output_type": "stream",
     "text": [
      "3.2\n",
      "Hello, World!\n"
     ]
    }
   ],
   "source": [
    "print(3.2)\n",
    "print(\"Hello, World!\")"
   ]
  },
  {
   "cell_type": "markdown",
   "metadata": {
    "slideshow": {
     "slide_type": "subslide"
    }
   },
   "source": [
    "> **Note** <br />\n",
    "**Literals** appear in programs. The Python interpreter converts literals into **values**, which have internal representations that people can never see directly. The **outputs** are external representations of values that appear in the output window. In this tutorial we will use the terms in this way. Sometimes, however, we will get a little sloppy and refer to literals or external representations as **values**."
   ]
  },
  {
   "cell_type": "markdown",
   "metadata": {
    "slideshow": {
     "slide_type": "subslide"
    }
   },
   "source": [
    "Numbers with a decimal point belong to a type called **float**, because these numbers are represented in a format called floating-point.\n",
    "\n",
    "Soon you will also encounter other types of objects, such as **lists** and **dictionaries**. Each of these has its own special representation for specifying an object as a literal in a program and for displaying an object when printed. For example, the contents of the list are enclosed in square brackets `[]`. \n",
    "\n",
    "You will also find some more complicated objects that do not have very nice printed representations: printing them will not be very useful."
   ]
  },
  {
   "cell_type": "markdown",
   "metadata": {
    "slideshow": {
     "slide_type": "slide"
    }
   },
   "source": [
    "# Operators and operands\n",
    "\n",
    "You can build complex expressions from simpler expressions using **operators**. Operators are special symbols that represent calculations such as addition, multiplication and division. \n",
    "\n",
    "The values that the operator works with are called operands.\n",
    "\n",
    "The symbols `+`, `-` and `*`, and the use of parentheses for grouping, mean in Python what they mean in mathematics. The asterisk (`*`) is the symbol for multiplication and `**` is the symbol for potentiation. Addition, subtraction, multiplication and potentiation do what you expect them to do"
   ]
  },
  {
   "cell_type": "markdown",
   "metadata": {
    "slideshow": {
     "slide_type": "subslide"
    }
   },
   "source": [
    "The following are Python legal expressions whose meaning is more or less clear:\n",
    "\n",
    ">20 + 32<br />\n",
    "5 ** 2<br />\n",
    "(5 + 9) * (15 - 7)"
   ]
  },
  {
   "cell_type": "markdown",
   "metadata": {
    "slideshow": {
     "slide_type": "fragment"
    }
   },
   "source": [
    "Remember to use `print` to display the result of operations."
   ]
  },
  {
   "cell_type": "code",
   "execution_count": 2,
   "metadata": {
    "slideshow": {
     "slide_type": "fragment"
    }
   },
   "outputs": [
    {
     "name": "stdout",
     "output_type": "stream",
     "text": [
      "12\n"
     ]
    }
   ],
   "source": [
    "20 + 32\n",
    "5**2\n",
    "(5 + 9) * (15 - 7)\n",
    "print(7 + 5)"
   ]
  },
  {
   "cell_type": "markdown",
   "metadata": {
    "slideshow": {
     "slide_type": "subslide"
    }
   },
   "source": [
    "In Python the division operator `/` produces a floating-point result (even if the result is an integer; `4/2` is `2.0`). \n",
    "\n",
    "If you want a truncated division, which ignores the remainder, you can use the `//` operator (for example: `5 // 2` is `2`)."
   ]
  },
  {
   "cell_type": "code",
   "execution_count": 3,
   "metadata": {
    "slideshow": {
     "slide_type": "subslide"
    }
   },
   "outputs": [
    {
     "name": "stdout",
     "output_type": "stream",
     "text": [
      "1.8\n",
      "0.5555555555555556\n",
      "1\n"
     ]
    }
   ],
   "source": [
    "print(9 / 5)\n",
    "print(5 / 9)\n",
    "print(9 // 5)"
   ]
  },
  {
   "cell_type": "markdown",
   "metadata": {
    "slideshow": {
     "slide_type": "fragment"
    }
   },
   "source": [
    "Pay special attention to the examples above. Note that `9 // 5` truncates instead of rounding, so it produces the value 1 instead of 2.\n",
    "\n",
    "The truncated division operator, `//`, also works with floating-point numbers. It truncates to the nearest integer, but still produces a floating-point result. \n",
    "\n",
    "Thus, `7.0 // 3.0` is `2.0`."
   ]
  },
  {
   "cell_type": "code",
   "execution_count": 4,
   "metadata": {
    "slideshow": {
     "slide_type": "fragment"
    }
   },
   "outputs": [
    {
     "name": "stdout",
     "output_type": "stream",
     "text": [
      "2.3333333333333335\n",
      "2.0\n"
     ]
    }
   ],
   "source": [
    "print(7.0 / 3.0)\n",
    "print(7.0 // 3.0)"
   ]
  },
  {
   "cell_type": "markdown",
   "metadata": {
    "slideshow": {
     "slide_type": "subslide"
    }
   },
   "source": [
    "The **modulus** operator, sometimes also called the **remainder** operator or **integer remainder** operator, works with integers (and integer expressions) and produces the remainder when the first operand is divided by the second. "
   ]
  },
  {
   "cell_type": "markdown",
   "metadata": {
    "slideshow": {
     "slide_type": "subslide"
    }
   },
   "source": [
    "In Python, the modulus operator is a percent sign (`%`). The syntax is the same as for other operators."
   ]
  },
  {
   "cell_type": "code",
   "execution_count": 5,
   "metadata": {
    "slideshow": {
     "slide_type": "fragment"
    }
   },
   "outputs": [
    {
     "name": "stdout",
     "output_type": "stream",
     "text": [
      "2\n",
      "1\n"
     ]
    }
   ],
   "source": [
    "print(7 // 3)  # Este es operador de división de enteros\n",
    "print(7 % 3)  # Este es el operador de residuo o módulo"
   ]
  },
  {
   "cell_type": "markdown",
   "metadata": {
    "slideshow": {
     "slide_type": "fragment"
    }
   },
   "source": [
    "In the example above, 7 divided by 3 is 2 when using integer division and there is a remainder of 1.\n",
    "\n",
    "The modulus operator is surprisingly useful. For example, you can check if a number is divisible by another number; if `x % y` is zero, then x is divisible by y. In addition, you can extract the rightmost digit(s) of a number. For example, `x % 10` produces the rightmost digit of `x` (in base 10). Similarly, `x % 100` produces the last two digits."
   ]
  },
  {
   "cell_type": "markdown",
   "metadata": {
    "slideshow": {
     "slide_type": "slide"
    }
   },
   "source": [
    "# Use of functions\n",
    "\n",
    "The Python interpreter can calculate new values using functions. You are familiar with the idea of functions from high school algebra. \n",
    "\n",
    "There you can define a function `f` by specifying how it transforms an input into an output, `f (x) = 3x + 2`. Then, you can write `f(5)` and expect to get the value 17.\n",
    "\n",
    "Python adopts a similar syntax for invoking functions. If there is a function named `foo` that takes a single input, we can invoke foo on the value 5 by typing `foo (5)`.\n",
    "\n",
    "There are many built-in functions available in Python. We will look at some of them in this tutorial."
   ]
  },
  {
   "cell_type": "markdown",
   "metadata": {
    "slideshow": {
     "slide_type": "subslide"
    }
   },
   "source": [
    "Functions are like factories that take some material, perform some operation and then send the resulting object. In this case, we refer to the materials as arguments or inputs (**input**) and the resulting object is called output or return value (**output**). This process of taking information, doing something and then returning the output is demonstrated in the following gif: \n",
    "\n",
    "<center><img src=\"https://runestone.academy/runestone/books/published/fopp/_images/function_calls.gif\" alt=\"Funciones\"\n",
    "\ttitle=\"Funciones\" width=\"300\" height=\"300\" /></center>"
   ]
  },
  {
   "cell_type": "markdown",
   "metadata": {
    "slideshow": {
     "slide_type": "subslide"
    }
   },
   "source": [
    "It is also possible for programmers to define new functions in their programs. Here are a couple of examples of functions defined by a user like you: "
   ]
  },
  {
   "cell_type": "code",
   "execution_count": 6,
   "metadata": {
    "slideshow": {
     "slide_type": "fragment"
    }
   },
   "outputs": [],
   "source": [
    "def square(x):\n",
    "    return x * x\n",
    "\n",
    "\n",
    "def sub(x, y):\n",
    "    return x - y"
   ]
  },
  {
   "cell_type": "markdown",
   "metadata": {
    "slideshow": {
     "slide_type": "fragment"
    }
   },
   "source": [
    "The `square` function takes a single input parameter and returns that input multiplied by itself. The `sub` function takes two input parameters and returns the result of subtracting the second from the first. \n",
    "\n",
    "Obviously, these functions are not particularly useful, since we have the `*` and `-` operators available, but they illustrate how the functions operate."
   ]
  },
  {
   "cell_type": "markdown",
   "metadata": {
    "slideshow": {
     "slide_type": "subslide"
    }
   },
   "source": [
    "The image below illustrates how the `square` function operates.\n",
    "\n",
    "<center><img src=\"https://runestone.academy/runestone/books/published/fopp/_images/square_function.gif\" alt=\"Square\"\n",
    "\ttitle=\"Square\" width=\"800\" height=\"400\" /></center>"
   ]
  },
  {
   "cell_type": "code",
   "execution_count": 7,
   "metadata": {
    "slideshow": {
     "slide_type": "subslide"
    }
   },
   "outputs": [
    {
     "name": "stdout",
     "output_type": "stream",
     "text": [
      "9\n",
      "2\n",
      "-4\n"
     ]
    }
   ],
   "source": [
    "print(square(3))\n",
    "square(5)\n",
    "print(sub(6, 4))\n",
    "print(sub(5, 9))"
   ]
  },
  {
   "cell_type": "markdown",
   "metadata": {
    "slideshow": {
     "slide_type": "fragment"
    }
   },
   "source": [
    "Note that when a function takes more than one input parameter, the inputs are separated by a comma. Also note that the order of the inputs is important. The value before the comma is treated as the first input, the value after it as the second input."
   ]
  },
  {
   "cell_type": "markdown",
   "metadata": {
    "slideshow": {
     "slide_type": "slide"
    }
   },
   "source": [
    "## Use of functions as part of complex expressions\n",
    "\n",
    "Anywhere in an expression where you can write a literal as a number, you can also write a function invocation that produces a number.\n",
    "\n",
    "For example:"
   ]
  },
  {
   "cell_type": "code",
   "execution_count": 8,
   "metadata": {
    "slideshow": {
     "slide_type": "fragment"
    }
   },
   "outputs": [
    {
     "name": "stdout",
     "output_type": "stream",
     "text": [
      "11\n",
      "5\n"
     ]
    }
   ],
   "source": [
    "print(square(3) + 2)\n",
    "print(sub(square(3), square(1 + 1)))"
   ]
  },
  {
   "cell_type": "markdown",
   "metadata": {
    "slideshow": {
     "slide_type": "slide"
    }
   },
   "source": [
    "## Functions are objects. Parentheses invoke functions\n",
    "\n",
    "Functions are themselves just objects. If you tell Python to print the function object, instead of printing the results of invoking the function object, you get a not-so-nice printed representation.\n",
    "\n",
    "Simply typing the function name produces a reference to the function as an object. Typing the function name followed by parentheses `()` invokes the function."
   ]
  },
  {
   "cell_type": "code",
   "execution_count": 9,
   "metadata": {
    "slideshow": {
     "slide_type": "subslide"
    }
   },
   "outputs": [
    {
     "name": "stdout",
     "output_type": "stream",
     "text": [
      "<function square at 0x7f5d279241f0>\n",
      "9\n"
     ]
    }
   ],
   "source": [
    "print(square)\n",
    "print(square(3))"
   ]
  },
  {
   "cell_type": "markdown",
   "metadata": {
    "slideshow": {
     "slide_type": "slide"
    }
   },
   "source": [
    "# Data types\n",
    "If you're not sure what type of data a given value is, Python has a function called `type` that can tell you."
   ]
  },
  {
   "cell_type": "code",
   "execution_count": 10,
   "metadata": {
    "slideshow": {
     "slide_type": "fragment"
    }
   },
   "outputs": [
    {
     "name": "stdout",
     "output_type": "stream",
     "text": [
      "<class 'str'>\n",
      "<class 'int'>\n",
      "Hello, World\n",
      "<class 'float'>\n"
     ]
    }
   ],
   "source": [
    "print(type(\"Hello, World!\"))\n",
    "print(type(17))\n",
    "print(\"Hello, World\")\n",
    "print(type(3.2))"
   ]
  },
  {
   "cell_type": "markdown",
   "metadata": {
    "slideshow": {
     "slide_type": "subslide"
    }
   },
   "source": [
    "What about values like `\"17\"` and `\"3,2\"`? They look like numbers, but are enclosed in quotes as strings."
   ]
  },
  {
   "cell_type": "code",
   "execution_count": 11,
   "metadata": {
    "slideshow": {
     "slide_type": "fragment"
    }
   },
   "outputs": [
    {
     "name": "stdout",
     "output_type": "stream",
     "text": [
      "<class 'str'>\n",
      "<class 'str'>\n"
     ]
    }
   ],
   "source": [
    "print(type(\"17\"))\n",
    "print(type(\"3.2\"))"
   ]
  },
  {
   "cell_type": "markdown",
   "metadata": {
    "slideshow": {
     "slide_type": "fragment"
    }
   },
   "source": [
    "They are strings!"
   ]
  },
  {
   "cell_type": "markdown",
   "metadata": {
    "slideshow": {
     "slide_type": "subslide"
    }
   },
   "source": [
    "Strings in Python can be enclosed in single quotes (`''`) or double quotes (`\"`), or three of each (`'''` or `\"\"\"`)."
   ]
  },
  {
   "cell_type": "code",
   "execution_count": 12,
   "metadata": {
    "slideshow": {
     "slide_type": "fragment"
    }
   },
   "outputs": [
    {
     "name": "stdout",
     "output_type": "stream",
     "text": [
      "<class 'str'>\n",
      "<class 'str'>\n",
      "<class 'str'>\n",
      "<class 'str'>\n"
     ]
    }
   ],
   "source": [
    "print(type(\"This is a string.\"))\n",
    "print(type(\"And so is this.\"))\n",
    "print(type(\"\"\"and this.\"\"\"))\n",
    "print(type(\"\"\"and even this...\"\"\"))"
   ]
  },
  {
   "cell_type": "markdown",
   "metadata": {
    "slideshow": {
     "slide_type": "subslide"
    }
   },
   "source": [
    "Python doesn't care whether you use single or double quotes or triple quotes to surround its strings. Once it has parsed the text of your program or command, the way it stores the value is identical in all cases, and the surrounding quotes are not part of the value."
   ]
  },
  {
   "cell_type": "code",
   "execution_count": 13,
   "metadata": {
    "slideshow": {
     "slide_type": "fragment"
    }
   },
   "outputs": [
    {
     "name": "stdout",
     "output_type": "stream",
     "text": [
      "This is a string.\n",
      "And so is this.\n"
     ]
    }
   ],
   "source": [
    "print(\"This is a string.\")\n",
    "print(\"\"\"And so is this.\"\"\")"
   ]
  },
  {
   "cell_type": "markdown",
   "metadata": {
    "slideshow": {
     "slide_type": "subslide"
    }
   },
   "source": [
    "When writing a large integer, you may be tempted to use commas between groups of three digits, as in `42,000`. This is not legal in Python, but it means something else:"
   ]
  },
  {
   "cell_type": "code",
   "execution_count": 14,
   "metadata": {
    "slideshow": {
     "slide_type": "fragment"
    }
   },
   "outputs": [
    {
     "name": "stdout",
     "output_type": "stream",
     "text": [
      "42500\n",
      "42 500\n"
     ]
    }
   ],
   "source": [
    "print(42500)\n",
    "print(42, 500)"
   ]
  },
  {
   "cell_type": "markdown",
   "metadata": {
    "slideshow": {
     "slide_type": "fragment"
    }
   },
   "source": [
    "Well, that's not what we expected at all! Because of the comma, Python chose to treat this as a value pair. "
   ]
  },
  {
   "cell_type": "markdown",
   "metadata": {
    "slideshow": {
     "slide_type": "subslide"
    }
   },
   "source": [
    "In fact, a `print` statement can print any number of values as long as they are separated by commas. Note that values are separated by spaces when printed."
   ]
  },
  {
   "cell_type": "code",
   "execution_count": 15,
   "metadata": {
    "slideshow": {
     "slide_type": "fragment"
    }
   },
   "outputs": [
    {
     "name": "stdout",
     "output_type": "stream",
     "text": [
      "42 17 56 34 11 4.35 32\n",
      "3.4 hello 45\n"
     ]
    }
   ],
   "source": [
    "print(42, 17, 56, 34, 11, 4.35, 32)\n",
    "print(3.4, \"hello\", 45)"
   ]
  },
  {
   "cell_type": "markdown",
   "metadata": {
    "slideshow": {
     "slide_type": "fragment"
    }
   },
   "source": [
    "Remember not to put commas or spaces in integers, no matter how big they are. \n",
    "\n",
    "*Formal languages are strict, notation is concise and even the smallest change can mean something quite different from what was intended."
   ]
  },
  {
   "cell_type": "markdown",
   "metadata": {
    "slideshow": {
     "slide_type": "slide"
    }
   },
   "source": [
    "# Variables\n",
    "\n",
    "One of the most powerful features of a programming language is the ability to manipulate variables. A variable is a name that refers to a value."
   ]
  },
  {
   "cell_type": "markdown",
   "metadata": {
    "slideshow": {
     "slide_type": "subslide"
    }
   },
   "source": [
    "**Assignment statements** create new variables and also give them values ​​to reference.\n",
    "\n",
    ">message = \"What's up, Doc?\"<br />\n",
    "n = 17<br />\n",
    "pi = 3.14159\n",
    "\n",
    "This example makes three assignments. The first assigns the string value `\"What's up, Doc?\"` to a new variable called `message`. The second assigns the integer `17` to `n`, and the third assigns the floating point number `3.14159` to a variable called `pi`."
   ]
  },
  {
   "cell_type": "markdown",
   "metadata": {
    "slideshow": {
     "slide_type": "subslide"
    }
   },
   "source": [
    "The assignment token, `=`, should not be confused with equality (we will see later that equality uses the `==` token).\n",
    "\n",
    "The assignment statement links a name, on the left side of the operator, to a *value*, on the right side. That's why you'll get an error if you enter:\n",
    "\n",
    ">17 = n"
   ]
  },
  {
   "cell_type": "markdown",
   "metadata": {
    "slideshow": {
     "slide_type": "subslide"
    }
   },
   "source": [
    ">**Tip**: When reading or writing code, say \"n is assigned 17\" or \"n gets the value 17\" or \"n is a reference to object 17\" or \"n refers to object 17.\" Don't say \"n is equal to 17.\""
   ]
  },
  {
   "cell_type": "markdown",
   "metadata": {
    "slideshow": {
     "slide_type": "subslide"
    }
   },
   "source": [
    "If your program includes a variable in any expression, whenever that expression is executed it will produce the value that is bound to the variable at the time of execution.\n",
    "\n",
    "In other words, evaluating a variable looks for its value. For example:"
   ]
  },
  {
   "cell_type": "code",
   "execution_count": 16,
   "metadata": {
    "slideshow": {
     "slide_type": "fragment"
    }
   },
   "outputs": [
    {
     "name": "stdout",
     "output_type": "stream",
     "text": [
      "What's up, Doc?\n",
      "17\n",
      "3.14159\n"
     ]
    }
   ],
   "source": [
    "message = \"What's up, Doc?\"\n",
    "n = 17\n",
    "pi = 3.14159\n",
    "\n",
    "print(message)\n",
    "print(n)\n",
    "print(pi)"
   ]
  },
  {
   "cell_type": "markdown",
   "metadata": {
    "slideshow": {
     "slide_type": "subslide"
    }
   },
   "source": [
    "**We use variables in a program to \"remember\" things**, like the current score in the soccer game.\n",
    "\n",
    "But **variables are mutable**. This means they can change over time, just like the score in a soccer game. You can assign one value to a variable and then assign a different value to the same variable.\n",
    "\n",
    "A big part of **programming is making the computer remember things**. For example, we may want to track the number of missed calls on your phone. Each time another call is missed, we will arrange to update or change the variable so that it always reflects the correct value."
   ]
  },
  {
   "cell_type": "markdown",
   "metadata": {
    "slideshow": {
     "slide_type": "subslide"
    }
   },
   "source": [
    "Anywhere in a Python program where a number or string is expected, you can put a variable name instead. The Python interpreter will replace the value with the name of the variable.\n",
    "\n",
    "For example, we can find out the data type of the current value of a variable by putting the variable name in parentheses after the `type` function:"
   ]
  },
  {
   "cell_type": "code",
   "execution_count": 17,
   "metadata": {
    "slideshow": {
     "slide_type": "fragment"
    }
   },
   "outputs": [
    {
     "name": "stdout",
     "output_type": "stream",
     "text": [
      "<class 'str'>\n",
      "<class 'int'>\n",
      "<class 'float'>\n"
     ]
    }
   ],
   "source": [
    "message = \"What's up, Doc?\"\n",
    "n = 17\n",
    "pi = 3.14159\n",
    "\n",
    "print(type(message))\n",
    "print(type(n))\n",
    "print(type(pi))"
   ]
  },
  {
   "cell_type": "markdown",
   "metadata": {
    "slideshow": {
     "slide_type": "slide"
    }
   },
   "source": [
    "# Boolean values ​​and boolean expressions\n",
    "\n",
    "The data type in Python used to store true and false values ​​is called `bool`, named after British mathematician George Boole. George Boole created Boolean algebra, which is the basis of all modern computer arithmetic.\n",
    "\n",
    "There are only two boolean values: They are true (`True`) or false (`False`).\n",
    "\n",
    "Capitalization is important, since `true` and `false` are not boolean values ​​(remember that Python is case-sensitive)."
   ]
  },
  {
   "cell_type": "code",
   "execution_count": 18,
   "metadata": {
    "slideshow": {
     "slide_type": "subslide"
    }
   },
   "outputs": [
    {
     "name": "stdout",
     "output_type": "stream",
     "text": [
      "True\n",
      "<class 'bool'>\n",
      "<class 'bool'>\n"
     ]
    }
   ],
   "source": [
    "print(True)\n",
    "print(type(True))\n",
    "print(type(False))"
   ]
  },
  {
   "cell_type": "markdown",
   "metadata": {
    "slideshow": {
     "slide_type": "subslide"
    }
   },
   "source": [
    "Boolean values ​​are not strings!\n",
    "\n",
    "It is extremely important to realize that `True` and `False` are not strings. They are not surrounded by quotes. They are the only two values ​​of the `bool` data type.\n",
    "\n",
    "Take a close look at the types below:"
   ]
  },
  {
   "cell_type": "code",
   "execution_count": 19,
   "metadata": {
    "slideshow": {
     "slide_type": "fragment"
    }
   },
   "outputs": [
    {
     "name": "stdout",
     "output_type": "stream",
     "text": [
      "<class 'bool'>\n",
      "<class 'str'>\n"
     ]
    }
   ],
   "source": [
    "print(type(True))\n",
    "print(type(\"True\"))"
   ]
  },
  {
   "cell_type": "markdown",
   "metadata": {
    "slideshow": {
     "slide_type": "subslide"
    }
   },
   "source": [
    "A Boolean expression is an expression that results in a Boolean value. The equality operator, `==`, compares two values ​​and produces a Boolean value that indicates whether the two values ​​are equal to each other. For example:"
   ]
  },
  {
   "cell_type": "code",
   "execution_count": 20,
   "metadata": {
    "slideshow": {
     "slide_type": "fragment"
    }
   },
   "outputs": [
    {
     "name": "stdout",
     "output_type": "stream",
     "text": [
      "True\n",
      "False\n"
     ]
    }
   ],
   "source": [
    "print(5 == 5)\n",
    "print(5 == 6)"
   ]
  },
  {
   "cell_type": "markdown",
   "metadata": {
    "slideshow": {
     "slide_type": "fragment"
    }
   },
   "source": [
    "In the first statement, the two operands are equal, so the expression evaluates to `True`. In the second statement, 5 is not equal to 6, so we get `False`."
   ]
  },
  {
   "cell_type": "markdown",
   "metadata": {
    "slideshow": {
     "slide_type": "subslide"
    }
   },
   "source": [
    "The `==` operator is one of the six common comparison operators, the others are:\n",
    "\n",
    ">x != y : x is not equal to y <br />\n",
    "x > y : x is greater than y <br />\n",
    "x < y : x is less than y <br />\n",
    "x >= y : x is greater than or equal to y <br />\n",
    "x <= y : x is less than or equal to y <br />"
   ]
  },
  {
   "cell_type": "markdown",
   "metadata": {
    "slideshow": {
     "slide_type": "subslide"
    }
   },
   "source": [
    "Although these operations are probably familiar to you, **Python symbols are different from mathematical symbols**. A common mistake is to use a single equal sign (`=`) instead of a double equal sign (`==`). Remember that `=` is an assignment operator and `==` is a comparison operator.\n",
    "\n",
    "Note also that an equality test is symmetric, but the assignment is not. For example, if a == 7 then 7 == a. But in Python, the statement `a = 7` is legal and `7 = a` is not."
   ]
  },
  {
   "cell_type": "markdown",
   "metadata": {
    "slideshow": {
     "slide_type": "slide"
    }
   },
   "source": [
    "## Logical operators\n",
    "\n",
    "There are three logical operators: `and`, `or` and `not`. All three operators take boolean operands and produce boolean values.\n",
    "\n",
    "The meaning of these operators is similar to their meaning in English:\n",
    "\n",
    "`x and y` is true if both `x` and `y` are `True`. Otherwise, it produces `False`.\n",
    "\n",
    "`x or y` returns `True` if `x` or `y` is `True`. Only if both operands are `False`, `or` produces `False`.\n",
    "\n",
    "`not x` produces `False` if x is `True`, and vice versa."
   ]
  },
  {
   "cell_type": "markdown",
   "metadata": {
    "slideshow": {
     "slide_type": "subslide"
    }
   },
   "source": [
    "Look at the following example. See if you can predict the exit. Then run the cell to see if your predictions were correct:"
   ]
  },
  {
   "cell_type": "code",
   "execution_count": 21,
   "metadata": {
    "slideshow": {
     "slide_type": "fragment"
    }
   },
   "outputs": [
    {
     "name": "stdout",
     "output_type": "stream",
     "text": [
      "True\n",
      "False\n",
      "False\n"
     ]
    }
   ],
   "source": [
    "x = True\n",
    "y = False\n",
    "print(x or y)\n",
    "print(x and y)\n",
    "print(not x)"
   ]
  },
  {
   "cell_type": "markdown",
   "metadata": {
    "slideshow": {
     "slide_type": "fragment"
    }
   },
   "source": [
    "Although you can use Boolean operators with variables or simple Boolean literals as in the previous example, they are often combined with comparison operators, as in this example."
   ]
  },
  {
   "cell_type": "markdown",
   "metadata": {
    "slideshow": {
     "slide_type": "subslide"
    }
   },
   "source": [
    "Again, before running this, see if you can predict the result:"
   ]
  },
  {
   "cell_type": "code",
   "execution_count": 22,
   "metadata": {
    "slideshow": {
     "slide_type": "fragment"
    }
   },
   "outputs": [
    {
     "name": "stdout",
     "output_type": "stream",
     "text": [
      "True\n",
      "False\n"
     ]
    }
   ],
   "source": [
    "x = 5\n",
    "print(x > 0 and x < 10)\n",
    "\n",
    "n = 25\n",
    "print(n % 2 == 0 or n % 3 == 0)"
   ]
  },
  {
   "cell_type": "markdown",
   "metadata": {
    "slideshow": {
     "slide_type": "fragment"
    }
   },
   "source": [
    "The expression `x>0 and x<10` is `True` only if `x` is greater than 0 and at the same time `x` is less than 10. In other words, this expression is `True` if ` x` is between 0 and 10, not including the extremes."
   ]
  },
  {
   "cell_type": "markdown",
   "metadata": {
    "slideshow": {
     "slide_type": "slide"
    }
   },
   "source": [
    "# Declarations and expressions\n",
    "\n",
    "A **statement** is a statement that can be executed by the Python interpreter. So far, you've only seen the **assignment** statement. Some other types of statements you'll see later are `while`, `for`, `if`, and `import` statements (There are other types too!).\n",
    "\n",
    "An **expression** is a combination of literals, variable names, operators, and function calls. Expressions must be evaluated. The result of evaluating an expression is a *value* or *object*."
   ]
  },
  {
   "cell_type": "markdown",
   "metadata": {
    "slideshow": {
     "slide_type": "subslide"
    }
   },
   "source": [
    "If you ask Python to print an expression, the interpreter evaluates the expression and displays the result:"
   ]
  },
  {
   "cell_type": "code",
   "execution_count": 23,
   "metadata": {
    "slideshow": {
     "slide_type": "fragment"
    }
   },
   "outputs": [
    {
     "name": "stdout",
     "output_type": "stream",
     "text": [
      "8\n",
      "5\n"
     ]
    }
   ],
   "source": [
    "print(1 + 1 + (2 * 3))\n",
    "print(len(\"hello\"))"
   ]
  },
  {
   "cell_type": "markdown",
   "metadata": {
    "slideshow": {
     "slide_type": "fragment"
    }
   },
   "source": [
    "In this example, `len` is a Python function that returns the number of characters in a string."
   ]
  },
  {
   "cell_type": "markdown",
   "metadata": {
    "slideshow": {
     "slide_type": "subslide"
    }
   },
   "source": [
    "*Evaluating an expression* produces a value, so expressions can appear on the right side of assignment statements. A literal itself is a simple expression, and also a variable."
   ]
  },
  {
   "cell_type": "code",
   "execution_count": 24,
   "metadata": {
    "slideshow": {
     "slide_type": "fragment"
    }
   },
   "outputs": [
    {
     "name": "stdout",
     "output_type": "stream",
     "text": [
      "5\n",
      "3.14\n"
     ]
    }
   ],
   "source": [
    "y = 3.14\n",
    "x = len(\"hello\")\n",
    "print(x)\n",
    "print(y)"
   ]
  },
  {
   "cell_type": "markdown",
   "metadata": {
    "slideshow": {
     "slide_type": "fragment"
    }
   },
   "source": [
    "In a program, anywhere a literal value (a string or a number) is acceptable, a more complicated expression is also acceptable."
   ]
  },
  {
   "cell_type": "markdown",
   "metadata": {
    "slideshow": {
     "slide_type": "subslide"
    }
   },
   "source": [
    "Below are all the types of expressions we have seen so far:\n",
    "\n",
    "**literal** <br/>\n",
    "for example, \"Hello\" or 3.14\n",
    "\n",
    "**variable name** <br/>\n",
    "for example x or len\n",
    "\n",
    "**operator expression** <br/>\n",
    "<expression> operator-name <expression>\n",
    "\n",
    "**function call expressions** <br/>\n",
    "<expression> (<comma-separated expressions>)\n",
    "\n",
    "Note that operator expressions (such as `+` and `*`) have subexpressions before and after the operator. Each of these can be simple or complex expressions."
   ]
  },
  {
   "cell_type": "markdown",
   "metadata": {
    "slideshow": {
     "slide_type": "subslide"
    }
   },
   "source": [
    "That way, you can end up with quite complicated expressions:"
   ]
  },
  {
   "cell_type": "code",
   "execution_count": 25,
   "metadata": {
    "slideshow": {
     "slide_type": "fragment"
    }
   },
   "outputs": [
    {
     "name": "stdout",
     "output_type": "stream",
     "text": [
      "17\n"
     ]
    }
   ],
   "source": [
    "print(2 * len(\"hello\") + len(\"goodbye\"))"
   ]
  },
  {
   "cell_type": "markdown",
   "metadata": {
    "slideshow": {
     "slide_type": "subslide"
    }
   },
   "source": [
    "Similarly, when calling a function, instead of putting a literal in parentheses, you can put a complex expression in parentheses:"
   ]
  },
  {
   "cell_type": "code",
   "execution_count": 26,
   "metadata": {
    "slideshow": {
     "slide_type": "fragment"
    }
   },
   "outputs": [
    {
     "name": "stdout",
     "output_type": "stream",
     "text": [
      "16\n",
      "25\n",
      "-3\n"
     ]
    }
   ],
   "source": [
    "x = 2\n",
    "y = 1\n",
    "print(square(y + 3))\n",
    "print(square(y + square(x)))\n",
    "print(sub(square(y), square(x)))"
   ]
  },
  {
   "cell_type": "markdown",
   "metadata": {
    "slideshow": {
     "slide_type": "fragment"
    }
   },
   "source": [
    "With a function call, it is even possible to have a complex expression before the left parenthesis, as long as that expression evaluates to a function object."
   ]
  },
  {
   "cell_type": "markdown",
   "metadata": {
    "slideshow": {
     "slide_type": "slide"
    }
   },
   "source": [
    "It is important to start **learning to read code that contains complex expressions**. The Python interpreter examines any line of code and parses it into components.\n",
    "\n",
    "For example, if it sees a `=` symbol, it will try to treat the entire line as an assignment statement. It will expect to see a valid variable name to the left of `=` and will parse everything to the right of `=` as an expression.\n",
    "\n",
    "She will try to figure out if the right side is a literal, a variable name, an operator expression, or a function call expression. "
   ]
  },
  {
   "cell_type": "markdown",
   "metadata": {
    "slideshow": {
     "slide_type": "subslide"
    }
   },
   "source": [
    "**To evaluate an operator expression, the Python interpreter first fully evaluates the expression before the operator**, then the next one, then combines the two resulting values ​​using the operator.\n",
    "\n",
    "**To evaluate a function call expression, the interpreter evaluates the expression before the parentheses (that is, looks up the function name)**. Then try to evaluate each of the expressions in parentheses. There can be more than one, separated by commas. The values ​​of those expressions are passed as inputs to the function when the function is called."
   ]
  },
  {
   "cell_type": "markdown",
   "metadata": {
    "slideshow": {
     "slide_type": "subslide"
    }
   },
   "source": [
    "If a function call expression is a subexpression of some more complicated expression, such as `square(x)` is in `sub(square(y), square(x))`, then the return value of `square(x )` is passed as input to the subfunction. This is one of the difficult things you'll have to get used to when reading (or writing) code.\n",
    "\n",
    "In this example, the `square` function is called (twice) before `sub` is called, although the `sub` function appears first when reading the code from left to right."
   ]
  },
  {
   "cell_type": "markdown",
   "metadata": {
    "slideshow": {
     "slide_type": "slide"
    }
   },
   "source": [
    "If you have time, I invite you to explore [Chapter 2](https://runestone.academy/runestone/books/published/fopp/SimplePythonData/intro-VariablesExpressionsandStatements.html) of the original tutorial."
   ]
  }
 ],
 "metadata": {
  "celltoolbar": "Slideshow",
  "kernelspec": {
   "display_name": "Python 3 (ipykernel)",
   "language": "python",
   "name": "python3"
  },
  "language_info": {
   "codemirror_mode": {
    "name": "ipython",
    "version": 3
   },
   "file_extension": ".py",
   "mimetype": "text/x-python",
   "name": "python",
   "nbconvert_exporter": "python",
   "pygments_lexer": "ipython3",
   "version": "3.10.14"
  }
 },
 "nbformat": 4,
 "nbformat_minor": 2
}
