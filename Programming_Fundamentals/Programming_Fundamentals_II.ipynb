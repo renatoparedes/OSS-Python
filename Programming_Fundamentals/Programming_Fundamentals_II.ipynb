{
 "cells": [
  {
   "cell_type": "markdown",
   "metadata": {
    "slideshow": {
     "slide_type": "slide"
    }
   },
   "source": [
    "# Programming Fundamentals II\n",
    "\n",
    "This material is a selection from the [Foundations of Python Programming](https://runestone.academy/runestone/books/published/fopp/index.html) tutorial developed by Brad Miller, Paul Resnick, Lauren Murphy, Jeffrey Elkner, Peter Wentworth, Allen B. Downey, Chris as part of the [Runstone Interactive](http://runestoneinteractive.org/) project.\n",
    "\n",
    ">Barbara Ericson and Bradley Miller. 2020 Runestone: A Platform for Free, On-line, and Interactive Ebooks In Proceedings of the 51st ACM Technical Symposium on Computer Science Education (SIGCSE ’20). Association for Computing Machinery, New York, NY, USA, 1240."
   ]
  },
  {
   "cell_type": "markdown",
   "metadata": {
    "slideshow": {
     "slide_type": "slide"
    }
   },
   "source": [
    "## Strings and lists\n",
    "\n",
    "So far we have used strings to represent words or phrases that we wanted to print. Our definition was simple: a string is simply some characters enclosed in quotes. In this tutorial we will explore strings in much more detail.\n",
    "\n",
    "Additionally, we'll explore lists, which are very similar to strings but can contain different types."
   ]
  },
  {
   "cell_type": "markdown",
   "metadata": {
    "slideshow": {
     "slide_type": "subslide"
    }
   },
   "source": [
    "### Strings\n",
    "\n",
    "Strings can be defined as sequential collections of characters. This means that the individual characters that make up a string are in a particular order from left to right.\n",
    "\n",
    "A string that contains no characters, often called an **empty string**, is still considered a string. It is simply a sequence of zero characters and is represented by \"\" or \"\" (two single or two double quotes with nothing between them)."
   ]
  },
  {
   "cell_type": "markdown",
   "metadata": {
    "slideshow": {
     "slide_type": "subslide"
    }
   },
   "source": [
    "### Lists\n",
    "\n",
    "A **list** is a sequential collection of Python data values, where each value is identified by an index. The values ​​that make up a list are called **items**.\n",
    "\n",
    "Lists are similar to strings, which are ordered collections of characters, except that the elements of a list can be of any type, and for any list, the elements can be of different types."
   ]
  },
  {
   "cell_type": "markdown",
   "metadata": {
    "slideshow": {
     "slide_type": "subslide"
    }
   },
   "source": [
    "There are several ways to create a new list. The simplest is to enclose the elements in square brackets (`[` and `]`).\n",
    "\n",
    "For example:"
   ]
  },
  {
   "cell_type": "code",
   "execution_count": 1,
   "metadata": {
    "slideshow": {
     "slide_type": "fragment"
    }
   },
   "outputs": [
    {
     "name": "stdout",
     "output_type": "stream",
     "text": [
      "[10, 20, 30, 40]\n",
      "['spam', 'bungee', 'swallow']\n"
     ]
    }
   ],
   "source": [
    "list1 = [10, 20, 30, 40]\n",
    "list2 = [\"spam\", \"bungee\", \"swallow\"]\n",
    "\n",
    "print(list1)\n",
    "print(list2)"
   ]
  },
  {
   "cell_type": "markdown",
   "metadata": {
    "slideshow": {
     "slide_type": "fragment"
    }
   },
   "source": [
    "The first example is a list of four integers. The second is a list of three strings. As we said before, the elements of a list do not have to be of the same type."
   ]
  },
  {
   "cell_type": "markdown",
   "metadata": {
    "slideshow": {
     "slide_type": "subslide"
    }
   },
   "source": [
    "The following list contains a string, a float, an integer, and another list:"
   ]
  },
  {
   "cell_type": "code",
   "execution_count": 2,
   "metadata": {
    "slideshow": {
     "slide_type": "fragment"
    }
   },
   "outputs": [
    {
     "name": "stdout",
     "output_type": "stream",
     "text": [
      "['hello', 2.0, 5, [10, 20]]\n"
     ]
    }
   ],
   "source": [
    "list3 = [\"hello\", 2.0, 5, [10, 20]]\n",
    "print(list3)"
   ]
  },
  {
   "cell_type": "markdown",
   "metadata": {
    "slideshow": {
     "slide_type": "fragment"
    }
   },
   "source": [
    "**Note**<br />\n",
    "Don't mix types!\n",
    "You'll probably see us do this to give you strange combinations, but when you create lists you generally shouldn't mix types. A list of only strings or only integers or only floats is generally easier to handle."
   ]
  },
  {
   "cell_type": "markdown",
   "metadata": {
    "slideshow": {
     "slide_type": "slide"
    }
   },
   "source": [
    "## Tuples\n",
    "\n",
    "A **tuple**, like a list, is a sequence of elements of any type. The printed representation of a tuple is a sequence of values ​​separated by commas in parentheses. In other words, the representation is like a list, except with parentheses `()` instead of square brackets `[]`."
   ]
  },
  {
   "cell_type": "markdown",
   "metadata": {
    "slideshow": {
     "slide_type": "subslide"
    }
   },
   "source": [
    "One way to create a tuple is to write an expression, enclosed in parentheses, that consists of several other expressions, separated by commas:"
   ]
  },
  {
   "cell_type": "code",
   "execution_count": 3,
   "metadata": {
    "slideshow": {
     "slide_type": "fragment"
    }
   },
   "outputs": [
    {
     "name": "stdout",
     "output_type": "stream",
     "text": [
      "('Julia', 'Roberts', 1967, 'Duplicity', 2009, 'Actress', 'Atlanta, Georgia')\n"
     ]
    }
   ],
   "source": [
    "julia = (\n",
    "    \"Julia\",\n",
    "    \"Roberts\",\n",
    "    1967,\n",
    "    \"Duplicity\",\n",
    "    2009,\n",
    "    \"Actress\",\n",
    "    \"Atlanta, Georgia\",\n",
    ")\n",
    "print(julia)"
   ]
  },
  {
   "cell_type": "markdown",
   "metadata": {
    "slideshow": {
     "slide_type": "fragment"
    }
   },
   "source": [
    "The key difference between lists and tuples is that a tuple is immutable, meaning that its contents cannot be changed after the tuple is created."
   ]
  },
  {
   "cell_type": "markdown",
   "metadata": {
    "slideshow": {
     "slide_type": "subslide"
    }
   },
   "source": [
    "To create a tuple with a single element (although you probably won't do this too often), we have to include the trailing comma, because without the trailing comma, Python treats the `(5)` below as an integer in parentheses:"
   ]
  },
  {
   "cell_type": "code",
   "execution_count": 4,
   "metadata": {
    "slideshow": {
     "slide_type": "fragment"
    }
   },
   "outputs": [
    {
     "name": "stdout",
     "output_type": "stream",
     "text": [
      "<class 'tuple'>\n",
      "<class 'int'>\n"
     ]
    }
   ],
   "source": [
    "t = (5,)\n",
    "print(type(t))\n",
    "\n",
    "x = 5\n",
    "print(type(x))"
   ]
  },
  {
   "cell_type": "markdown",
   "metadata": {
    "slideshow": {
     "slide_type": "slide"
    }
   },
   "source": [
    "## Index operator: working with the characters of a string\n",
    "\n",
    "The **indexing operator** (Python uses square brackets to enclose the index) selects a single character from a string. Characters are accessed by their position or index value. For example, in the string shown below, the 14 characters are indexed from left to right from position 0 to position 13.\n",
    "\n",
    "<center><img src=\"https://runestone.academy/runestone/books/published/fopp/_images/indexvalues.png\" alt=\"IndexOp\"\n",
    "  title=\"IndexOp\" /></center>\n",
    "\n",
    "It is also the case that positions are named from right to left using negative numbers where -1 is the rightmost index and so on. Note that the character at index 6 (or -8) is the blank character."
   ]
  },
  {
   "cell_type": "code",
   "execution_count": 5,
   "metadata": {
    "slideshow": {
     "slide_type": "subslide"
    }
   },
   "outputs": [
    {
     "name": "stdout",
     "output_type": "stream",
     "text": [
      "t\n",
      "e\n"
     ]
    }
   ],
   "source": [
    "school = \"Luther College\"\n",
    "m = school[2]\n",
    "print(m)\n",
    "\n",
    "lastchar = school[-1]\n",
    "print(lastchar)"
   ]
  },
  {
   "cell_type": "markdown",
   "metadata": {
    "slideshow": {
     "slide_type": "fragment"
    }
   },
   "source": [
    "The expression `school[2]` selects the character at index 2 of school and creates a new string containing only this character. The variable `m` refers to the result.\n",
    "\n",
    "The letter at index zero of `\"Luther College\"` is `L`. So, at position `[2]` we have the letter `t`."
   ]
  },
  {
   "cell_type": "markdown",
   "metadata": {
    "slideshow": {
     "slide_type": "subslide"
    }
   },
   "source": [
    "If you want the letter \"0th\" from a string, simply put 0, or any expression with the value 0, in square brackets. Try it:"
   ]
  },
  {
   "cell_type": "code",
   "execution_count": 6,
   "metadata": {
    "slideshow": {
     "slide_type": "fragment"
    }
   },
   "outputs": [
    {
     "name": "stdout",
     "output_type": "stream",
     "text": [
      "L\n"
     ]
    }
   ],
   "source": [
    "firstchar = school[0]\n",
    "print(firstchar)"
   ]
  },
  {
   "cell_type": "markdown",
   "metadata": {
    "slideshow": {
     "slide_type": "subslide"
    }
   },
   "source": [
    "The expression in parentheses is called the **index**. An index specifies a member of an ordered collection. In this case, the collection of characters in the string.\n",
    "\n",
    "The index *indicates* which character you want. It can be any integer expression as long as it evaluates to a valid index value.\n",
    "\n",
    "Note that indexing returns a *string*: Python does not have a special type for a single character. It's just a string of length 1."
   ]
  },
  {
   "cell_type": "markdown",
   "metadata": {
    "slideshow": {
     "slide_type": "slide"
    }
   },
   "source": [
    "### Index operator: Access to elements of a list or tuple\n",
    "\n",
    "The syntax for accessing the elements of a list or tuple is the same as the syntax for accessing the characters of a string. We use the index operator (`[]` - not to be confused with an empty list).\n",
    "\n",
    "The expression in square brackets specifies the index. **Remember that indices start at 0**.\n",
    "\n",
    "Any integer expression can be used as an index, and as with strings, negative index values ​​will locate elements from the right instead of the left."
   ]
  },
  {
   "cell_type": "markdown",
   "metadata": {
    "slideshow": {
     "slide_type": "subslide"
    }
   },
   "source": [
    "When we say the first, third, or nth character of a sequence, we usually mean counting in the usual way, starting with 1.\n",
    "\n",
    "The nth character and the character AT INDEX n are different then: **The nth character is at index n-1.**\n",
    "\n",
    "Make sure you are clear about what you want to say!"
   ]
  },
  {
   "cell_type": "markdown",
   "metadata": {
    "slideshow": {
     "slide_type": "subslide"
    }
   },
   "source": [
    "Try predicting what will be printed with the following code and then run it to verify your prediction:\n",
    "\n",
    ">In general, it's a good idea to always do that with code examples. You'll learn a lot more if you force yourself to make a prediction before seeing the result"
   ]
  },
  {
   "cell_type": "code",
   "execution_count": 7,
   "metadata": {
    "slideshow": {
     "slide_type": "fragment"
    }
   },
   "outputs": [
    {
     "name": "stdout",
     "output_type": "stream",
     "text": [
      "87\n",
      "123\n",
      "8398\n"
     ]
    }
   ],
   "source": [
    "numbers = [17, 123, 87, 34, 66, 8398, 44]\n",
    "print(numbers[2])\n",
    "print(numbers[9 - 8])\n",
    "print(numbers[-2])"
   ]
  },
  {
   "cell_type": "code",
   "execution_count": 8,
   "metadata": {
    "slideshow": {
     "slide_type": "fragment"
    }
   },
   "outputs": [
    {
     "name": "stdout",
     "output_type": "stream",
     "text": [
      "1.99\n",
      "100.98\n",
      "20.95\n"
     ]
    }
   ],
   "source": [
    "prices = (1.99, 2.00, 5.50, 20.95, 100.98)\n",
    "print(prices[0])\n",
    "print(prices[-1])\n",
    "print(prices[3 - 5])"
   ]
  },
  {
   "cell_type": "markdown",
   "metadata": {
    "slideshow": {
     "slide_type": "subslide"
    }
   },
   "source": [
    "## Disambiguating []: creation and indexing\n",
    "\n",
    "`[]` square brackets are used in several ways in Python. It may be confusing when you first learn how to use them, but with practice and repetition they will be easy to pick up.\n",
    "\n",
    "Currently, you have found two cases where we have used square brackets. The first is to create lists and the second is to index.\n",
    "\n",
    "At first glance, creation and indexing are difficult to distinguish: indexing requires referencing an already created list, while simply creating a list does not."
   ]
  },
  {
   "cell_type": "code",
   "execution_count": 9,
   "metadata": {
    "slideshow": {
     "slide_type": "subslide"
    }
   },
   "outputs": [],
   "source": [
    "new_lst = []"
   ]
  },
  {
   "cell_type": "markdown",
   "metadata": {
    "slideshow": {
     "slide_type": "fragment"
    }
   },
   "source": [
    "In the code above, a new list is created using the empty square brackets. However, since there is nothing in it, we cannot index it."
   ]
  },
  {
   "cell_type": "code",
   "execution_count": 10,
   "metadata": {
    "slideshow": {
     "slide_type": "subslide"
    }
   },
   "outputs": [],
   "source": [
    "new_lst = [\"NFLX\", \"AMZN\", \"GOOGL\", \"DIS\", \"XOM\"]\n",
    "part_of_new_lst = new_lst[0]"
   ]
  },
  {
   "cell_type": "markdown",
   "metadata": {
    "slideshow": {
     "slide_type": "fragment"
    }
   },
   "source": [
    "In the code above, you'll see how, now that we have elements inside `new_lst`, we can index them. To extract an element from the list, we use `[]`, but first we have to specify which list we are indexing.\n",
    "\n",
    "Imagine if there was another list in the active code. How would Python know which list we want to index on if we don't tell it? Additionally, we have to specify which element we want to extract. This belongs inside the supports."
   ]
  },
  {
   "cell_type": "markdown",
   "metadata": {
    "slideshow": {
     "slide_type": "subslide"
    }
   },
   "source": [
    "Although it may be easier to distinguish in the code above, the following may be a little more difficult:"
   ]
  },
  {
   "cell_type": "code",
   "execution_count": 11,
   "metadata": {
    "slideshow": {
     "slide_type": "fragment"
    }
   },
   "outputs": [
    {
     "name": "stdout",
     "output_type": "stream",
     "text": [
      "[0]\n",
      "0\n"
     ]
    }
   ],
   "source": [
    "lst = [0]\n",
    "n_lst = lst[0]\n",
    "\n",
    "print(lst)\n",
    "print(n_lst)"
   ]
  },
  {
   "cell_type": "markdown",
   "metadata": {
    "slideshow": {
     "slide_type": "fragment"
    }
   },
   "source": [
    "Here, we see a list named `lst` mapped to a list with one element, zero. Next, we see how `n_lst` is assigned the value associated with the first element of lst. Despite the variable names, only one of the variables above is assigned to a list.\n",
    "\n",
    "Note that in this example, what differentiates creation from indexing is the reference to the list so that Python knows that it is extracting an element from another list."
   ]
  },
  {
   "cell_type": "markdown",
   "metadata": {
    "slideshow": {
     "slide_type": "slide"
    }
   },
   "source": [
    "## Length\n",
    "\n",
    "The `len` function, when applied to a string, returns the number of characters in a string."
   ]
  },
  {
   "cell_type": "code",
   "execution_count": 12,
   "metadata": {
    "slideshow": {
     "slide_type": "fragment"
    }
   },
   "outputs": [
    {
     "name": "stdout",
     "output_type": "stream",
     "text": [
      "6\n"
     ]
    }
   ],
   "source": [
    "fruit = \"Banana\"\n",
    "print(len(fruit))"
   ]
  },
  {
   "cell_type": "markdown",
   "metadata": {
    "slideshow": {
     "slide_type": "subslide"
    }
   },
   "source": [
    "To get the last letter of a string, you might be tempted to try something like this:"
   ]
  },
  {
   "cell_type": "code",
   "execution_count": 13,
   "metadata": {
    "slideshow": {
     "slide_type": "fragment"
    }
   },
   "outputs": [
    {
     "ename": "IndexError",
     "evalue": "string index out of range",
     "output_type": "error",
     "traceback": [
      "\u001b[0;31m---------------------------------------------------------------------------\u001b[0m",
      "\u001b[0;31mIndexError\u001b[0m                                Traceback (most recent call last)",
      "\u001b[0;32m<ipython-input-13-99e0d0921ccd>\u001b[0m in \u001b[0;36m<cell line: 3>\u001b[0;34m()\u001b[0m\n\u001b[1;32m      1\u001b[0m \u001b[0mfruit\u001b[0m \u001b[0;34m=\u001b[0m \u001b[0;34m\"Banana\"\u001b[0m\u001b[0;34m\u001b[0m\u001b[0;34m\u001b[0m\u001b[0m\n\u001b[1;32m      2\u001b[0m \u001b[0msz\u001b[0m \u001b[0;34m=\u001b[0m \u001b[0mlen\u001b[0m\u001b[0;34m(\u001b[0m\u001b[0mfruit\u001b[0m\u001b[0;34m)\u001b[0m\u001b[0;34m\u001b[0m\u001b[0;34m\u001b[0m\u001b[0m\n\u001b[0;32m----> 3\u001b[0;31m \u001b[0mlast\u001b[0m \u001b[0;34m=\u001b[0m \u001b[0mfruit\u001b[0m\u001b[0;34m[\u001b[0m\u001b[0msz\u001b[0m\u001b[0;34m]\u001b[0m  \u001b[0;31m# ¡ERROR!\u001b[0m\u001b[0;34m\u001b[0m\u001b[0;34m\u001b[0m\u001b[0m\n\u001b[0m\u001b[1;32m      4\u001b[0m \u001b[0mprint\u001b[0m\u001b[0;34m(\u001b[0m\u001b[0mlast\u001b[0m\u001b[0;34m)\u001b[0m\u001b[0;34m\u001b[0m\u001b[0;34m\u001b[0m\u001b[0m\n",
      "\u001b[0;31mIndexError\u001b[0m: string index out of range"
     ]
    }
   ],
   "source": [
    "fruit = \"Banana\"\n",
    "sz = len(fruit)\n",
    "last = fruit[sz]  # ¡ERROR!\n",
    "print(last)"
   ]
  },
  {
   "cell_type": "markdown",
   "metadata": {
    "slideshow": {
     "slide_type": "fragment"
    }
   },
   "source": [
    "That will not work. Causes runtime error `IndexError: string index out of range`. The reason is that there is no letter at index position 6 in `\"Banana\"`. Since we start counting from zero, the six indices are numbered 0 to 5.\n",
    "\n",
    "To get the last character, we have to subtract 1 from the length. Try it in the example above."
   ]
  },
  {
   "cell_type": "markdown",
   "metadata": {
    "slideshow": {
     "slide_type": "subslide"
    }
   },
   "source": [
    "As with strings, the `len` function returns the length of a list (the number of elements in the list).\n",
    "\n",
    "However, since lists can have elements that are themselves sequences (e.g. strings), it is important to note that `len` only returns the length of the specified list:"
   ]
  },
  {
   "cell_type": "code",
   "execution_count": 14,
   "metadata": {
    "slideshow": {
     "slide_type": "fragment"
    }
   },
   "outputs": [
    {
     "name": "stdout",
     "output_type": "stream",
     "text": [
      "3\n",
      "5\n"
     ]
    }
   ],
   "source": [
    "alist = [\"hello\", 2.0, 5]\n",
    "print(len(alist))\n",
    "print(len(alist[0]))"
   ]
  },
  {
   "cell_type": "markdown",
   "metadata": {
    "slideshow": {
     "slide_type": "fragment"
    }
   },
   "source": [
    "Note that `alist[0]` is the string `\"hello\"`, which has a length of 5."
   ]
  },
  {
   "cell_type": "markdown",
   "metadata": {
    "slideshow": {
     "slide_type": "slide"
    }
   },
   "source": [
    "## The slice operator\n",
    "\n",
    "A substring of a string is called a **slice**. Selecting a substring is similar to selecting a character:"
   ]
  },
  {
   "cell_type": "code",
   "execution_count": 15,
   "metadata": {
    "slideshow": {
     "slide_type": "fragment"
    }
   },
   "outputs": [
    {
     "name": "stdout",
     "output_type": "stream",
     "text": [
      "Peter\n",
      "Paul\n",
      "Mary\n"
     ]
    }
   ],
   "source": [
    "singers = \"Peter, Paul, and Mary\"\n",
    "print(singers[0:5])\n",
    "print(singers[7:11])\n",
    "print(singers[17:21])"
   ]
  },
  {
   "cell_type": "markdown",
   "metadata": {
    "slideshow": {
     "slide_type": "fragment"
    }
   },
   "source": [
    "The `slice` operator on `[n: m]` returns the part of the string that starts with the character at index n and goes up to but not including the character at index m. Or with normal counting from 1, this is the (n + 1) first character up to and including character m."
   ]
  },
  {
   "cell_type": "markdown",
   "metadata": {
    "slideshow": {
     "slide_type": "subslide"
    }
   },
   "source": [
    "If you omit the first index (before the colon), the segment starts at the beginning of the string. If you omit the second index, the segment reaches the end of the string.\n",
    "\n",
    "For example:"
   ]
  },
  {
   "cell_type": "code",
   "execution_count": 16,
   "metadata": {
    "slideshow": {
     "slide_type": "fragment"
    }
   },
   "outputs": [
    {
     "name": "stdout",
     "output_type": "stream",
     "text": [
      "ban\n",
      "ana\n"
     ]
    }
   ],
   "source": [
    "fruit = \"banana\"\n",
    "print(fruit[:3])\n",
    "print(fruit[3:])"
   ]
  },
  {
   "cell_type": "markdown",
   "metadata": {
    "slideshow": {
     "slide_type": "subslide"
    }
   },
   "source": [
    "What do you think `fruit[:]` means?"
   ]
  },
  {
   "cell_type": "code",
   "execution_count": 17,
   "metadata": {
    "slideshow": {
     "slide_type": "fragment"
    }
   },
   "outputs": [
    {
     "name": "stdout",
     "output_type": "stream",
     "text": [
      "banana\n"
     ]
    }
   ],
   "source": [
    "print(fruit[:])"
   ]
  },
  {
   "cell_type": "markdown",
   "metadata": {
    "slideshow": {
     "slide_type": "slide"
    }
   },
   "source": [
    "## Concatenation and repetition\n",
    "\n",
    "As with strings, the `+` operator concatenates lists. Similarly, the `*` operator repeats the elements of a list a given number of times.\n",
    "\n",
    "Let's look at an example:"
   ]
  },
  {
   "cell_type": "code",
   "execution_count": 18,
   "metadata": {
    "slideshow": {
     "slide_type": "fragment"
    }
   },
   "outputs": [
    {
     "name": "stdout",
     "output_type": "stream",
     "text": [
      "[1, 2, 3, 4]\n",
      "['apple', 'orange', 'banana', 'cherry', 6, 7, 8, 9]\n",
      "[0, 0, 0, 0]\n"
     ]
    }
   ],
   "source": [
    "fruit = [\"apple\", \"orange\", \"banana\", \"cherry\"]\n",
    "print([1, 2] + [3, 4])\n",
    "print(fruit + [6, 7, 8, 9])\n",
    "\n",
    "print([0] * 4)"
   ]
  },
  {
   "cell_type": "markdown",
   "metadata": {
    "slideshow": {
     "slide_type": "fragment"
    }
   },
   "source": [
    "It is important to see that these operators create new lists from the elements of the operand lists.\n",
    "\n",
    "If you concatenate a list with 2 elements and a list with 4 elements, you will get a new list with 6 elements (not a list with two sublists). Similarly, repeating a 2-item list 4 times will result in an 8-item list."
   ]
  },
  {
   "cell_type": "markdown",
   "metadata": {
    "slideshow": {
     "slide_type": "subslide"
    }
   },
   "source": [
    "Be careful when adding different types together! **Python doesn't understand how to concatenate different types together**.\n",
    "\n",
    "Therefore, if we try to add a string to a list with `['first'] + \"second\"`, the interpreter will return an error.\n",
    "\n",
    "To do this, you will need to make the two objects the same type. In this case, it means putting the string in its own list and then adding the two together like this: `['first'] + [\"second\"]`.\n",
    "\n",
    "However, this process will look different for other types. Remember that there are functions to convert types!"
   ]
  },
  {
   "cell_type": "markdown",
   "metadata": {
    "slideshow": {
     "slide_type": "slide"
    }
   },
   "source": [
    "## The **For** loop\n",
    "\n",
    "A basic component of all programs is being able to repeat code over and over again. We refer to this idea of ​​repetition as **iteration**. In this section, we will explore some mechanisms for basic iteration.\n",
    "\n",
    "In Python, the **for** statement allows us to write programs that implement iteration.\n",
    "\n",
    "As a simple example, let's say we have some friends, and we would like to send each of them an email inviting them to our party."
   ]
  },
  {
   "cell_type": "markdown",
   "metadata": {
    "slideshow": {
     "slide_type": "subslide"
    }
   },
   "source": [
    "We don't know how to send emails yet, so for now we'll just print one message for each friend:"
   ]
  },
  {
   "cell_type": "code",
   "execution_count": 20,
   "metadata": {
    "slideshow": {
     "slide_type": "fragment"
    }
   },
   "outputs": [
    {
     "name": "stdout",
     "output_type": "stream",
     "text": [
      "Hello Joe Please come to my party on Friday!\n",
      "Hello Amy Please come to my party on Friday!\n",
      "Hello Brad Please come to my party on Friday!\n",
      "Hello Angelina Please come to my party on Friday!\n",
      "Hello Zuki Please come to my party on Friday!\n",
      "Hello Thandi Please come to my party on Friday!\n"
     ]
    }
   ],
   "source": [
    "for name in [\"Joe\", \"Amy\", \"Brad\", \"Angelina\", \"Zuki\", \"Thandi\"]:\n",
    "    print(\"Hello\", name, \"Please come to my party on Friday!\")"
   ]
  },
  {
   "cell_type": "markdown",
   "metadata": {
    "slideshow": {
     "slide_type": "fragment"
    }
   },
   "source": [
    "Take a look at the output produced when you run the cell. There is a line printed for each friend.\n",
    "\n",
    "Is that how it works:\n",
    "\n",
    "- **name** in this `for` statement is called **loop variable** or alternatively **iterator variable**.\n",
    "- The list of names in square brackets is the sequence we will iterate over.\n",
    "- Line 2 is the **body of the loop**. The loop body is always indented. Indentation determines exactly which statements are \"in the loop.\" The body of the loop is done once for each name in the list.\n"
   ]
  },
  {
   "cell_type": "code",
   "execution_count": 22,
   "metadata": {
    "slideshow": {
     "slide_type": "subslide"
    }
   },
   "outputs": [
    {
     "name": "stdout",
     "output_type": "stream",
     "text": [
      "Hello Joe Please come to my party on Friday!\n",
      "Hello Amy Please come to my party on Friday!\n",
      "Hello Brad Please come to my party on Friday!\n",
      "Hello Angelina Please come to my party on Friday!\n",
      "Hello Zuki Please come to my party on Friday!\n",
      "Hello Thandi Please come to my party on Friday!\n"
     ]
    }
   ],
   "source": [
    "for name in [\"Joe\", \"Amy\", \"Brad\", \"Angelina\", \"Zuki\", \"Thandi\"]:\n",
    "    print(\"Hello\", name, \"Please come to my party on Friday!\")"
   ]
  },
  {
   "cell_type": "markdown",
   "metadata": {
    "slideshow": {
     "slide_type": "fragment"
    }
   },
   "source": [
    "- In each *iteration* or pass of the loop, a check is first performed to see if there are still more elements to process. If none remain (this is called the **termination condition** of the loop), the loop has ended. Program execution continues in the next statement after the loop body.\n",
    "- If there are still items to process, the loop variable is updated to reference the next item in the list. This means, in this case, that the body of the loop is executed here 7 times, and each time `name` will refer to a different friend.\n",
    "- At the end of each execution of the loop body, Python returns to the `for` statement to see if there are more elements to handle."
   ]
  },
  {
   "cell_type": "markdown",
   "metadata": {
    "slideshow": {
     "slide_type": "subslide"
    }
   },
   "source": [
    "The general syntax is `for <loop_var_name> in <sequence>`:\n",
    "\n",
    "- Between the words *for* and *in*, there must be a variable name for the loop variable. You can't put a complete expression there.\n",
    "- Two points are required at the end of the line.\n",
    "- After the word *in* and before the colon there is an expression that must be evaluated as a sequence (for example, a string, a list, or a tuple). It can be a literal, a variable, or a more complex expression."
   ]
  },
  {
   "cell_type": "markdown",
   "metadata": {
    "slideshow": {
     "slide_type": "slide"
    }
   },
   "source": [
    "## For loop execution flow\n",
    "\n",
    "As a program runs, the interpreter always keeps track of which statement is about to be executed. We call this **control flow** or **execution flow** of the program. When humans run programs, they often use their finger to point at each statement in turn. So you could think of control flow as \"Python's moving finger.\"\n",
    "\n",
    "The flow of control so far has been strictly top to bottom, one statement at a time. We call this type of control **sequential**. Sequential flow of control is always assumed to be the default behavior of a computer program. The `for` statement changes this."
   ]
  },
  {
   "cell_type": "markdown",
   "metadata": {
    "slideshow": {
     "slide_type": "subslide"
    }
   },
   "source": [
    "Control flow is often easy to visualize and understand if we draw a flowchart. This flowchart shows the exact steps and logic of how the `for` statement is executed.\n",
    "\n",
    "<center><img src=\"https://runestone.academy/runestone/books/published/fopp/_images/new_flowchart_for.png\n",
    "\" alt=\"FlowFor\"\n",
    "\ttitle=\"FlowFor\" /></center>\n"
   ]
  },
  {
   "cell_type": "markdown",
   "metadata": {
    "slideshow": {
     "slide_type": "slide"
    }
   },
   "source": [
    "## Lists and For Loops\n",
    "\n",
    "It is also possible to perform a list traversal using per-item iteration. A list is a sequence of elements, so the `for` loop iterates over each element in the list automatically:"
   ]
  },
  {
   "cell_type": "code",
   "execution_count": 23,
   "metadata": {
    "slideshow": {
     "slide_type": "fragment"
    }
   },
   "outputs": [
    {
     "name": "stdout",
     "output_type": "stream",
     "text": [
      "apple\n",
      "orange\n",
      "banana\n",
      "cherry\n"
     ]
    }
   ],
   "source": [
    "fruits = [\"apple\", \"orange\", \"banana\", \"cherry\"]\n",
    "\n",
    "for afruit in fruits:  # by item\n",
    "    print(afruit)"
   ]
  },
  {
   "cell_type": "markdown",
   "metadata": {
    "slideshow": {
     "slide_type": "subslide"
    }
   },
   "source": [
    "### Using the range function to generate a sequence to iterate over\n",
    "\n",
    "We are now in a position to understand the inner workings of the following expression:\n"
   ]
  },
  {
   "cell_type": "code",
   "execution_count": 24,
   "metadata": {
    "slideshow": {
     "slide_type": "fragment"
    }
   },
   "outputs": [
    {
     "name": "stdout",
     "output_type": "stream",
     "text": [
      "This will execute first\n",
      "This line will execute three times\n",
      "This line will also execute three times\n",
      "This line will execute three times\n",
      "This line will also execute three times\n",
      "This line will execute three times\n",
      "This line will also execute three times\n",
      "Now we are outside of the for loop!\n"
     ]
    }
   ],
   "source": [
    "print(\"This will execute first\")\n",
    "\n",
    "for _ in range(3):\n",
    "    print(\"This line will execute three times\")\n",
    "    print(\"This line will also execute three times\")\n",
    "\n",
    "print(\"Now we are outside of the for loop!\")"
   ]
  },
  {
   "cell_type": "markdown",
   "metadata": {
    "slideshow": {
     "slide_type": "fragment"
    }
   },
   "source": [
    "The `range` function takes an integer n as input and returns a sequence of numbers, starting at 0 and going up but not including n. Therefore, instead of `range(3)`, we could have written `[0, 1, 2]`."
   ]
  },
  {
   "cell_type": "markdown",
   "metadata": {
    "slideshow": {
     "slide_type": "subslide"
    }
   },
   "source": [
    "The loop variable `_` is bound to 0 the first time lines 4 and 5 are executed. The next time, `_` is bound to 1. The third time, it is bound to 2. `_` is a name strange for a variable, but if you look closely at the rules about variable names, it's a legal name.\n",
    "\n",
    "By convention, we use `_` as our loop variable when we never intend to refer to the loop variable. That is, we are just trying to repeat the code block several times (once for each element in a sequence), but we are not going to do anything with the particular elements. `_` will be bound to a different element each time, but we will never refer to those particular elements in the code."
   ]
  },
  {
   "cell_type": "markdown",
   "metadata": {
    "slideshow": {
     "slide_type": "subslide"
    }
   },
   "source": [
    "Instead, notice that in the active code window above, the loop variable is `afruit`. In that for loop, we do refer to each element, with `print(afruit)`."
   ]
  },
  {
   "cell_type": "markdown",
   "metadata": {
    "slideshow": {
     "slide_type": "slide"
    }
   },
   "source": [
    "## Conditionals\n",
    "\n",
    "To write useful programs, we almost always need the ability to check conditions and change the program's behavior accordingly. **select statements**, sometimes also called **conditional statements**, give us this capability.\n",
    "\n",
    "The simplest form of selection is the **if statement**. This is sometimes called **binary selection**, since there are two possible execution paths."
   ]
  },
  {
   "cell_type": "markdown",
   "metadata": {
    "slideshow": {
     "slide_type": "subslide"
    }
   },
   "source": [
    "Let's look at an example:"
   ]
  },
  {
   "cell_type": "code",
   "execution_count": 25,
   "metadata": {
    "slideshow": {
     "slide_type": "fragment"
    }
   },
   "outputs": [
    {
     "name": "stdout",
     "output_type": "stream",
     "text": [
      "15 is odd\n"
     ]
    }
   ],
   "source": [
    "x = 15\n",
    "\n",
    "if x % 2 == 0:\n",
    "    print(x, \"es even\")\n",
    "else:\n",
    "    print(x, \"is odd\")"
   ]
  },
  {
   "cell_type": "markdown",
   "metadata": {
    "slideshow": {
     "slide_type": "fragment"
    }
   },
   "source": [
    "The syntax of an `if` statement looks like this:\n",
    "\n",
    ">\n",
    "if BOOLEAN EXPRESSION: <br />\n",
    " STATEMENTS_1 # executed if the condition evaluates to True <br />\n",
    "else: <br />\n",
    " STATEMENTS_2 # executed if the condition evaluates to False <br />\n",
    ">\n"
   ]
  },
  {
   "cell_type": "markdown",
   "metadata": {
    "slideshow": {
     "slide_type": "subslide"
    }
   },
   "source": [
    "The boolean expression after the `if` statement is called **condition**. If true, then the indented statements are executed. If not, the indented statements under the `else` clause are executed.\n",
    "\n",
    "As with the `for` definition, the `if` statement consists of a header line and a body. The header line begins with the `if` keyword followed by a *boolean expression* and ends with a colon (:).\n",
    "\n",
    "The indented statements that follow are called a **block**. The first unindented statement marks the end of the block.\n",
    "\n",
    "Each of the statements within the first statement block is executed in order if the boolean expression evaluates to `True`. The entire first block of statements is skipped if the Boolean expression evaluates to `False` and all statements in the `else` clause are executed instead.\n",
    "\n",
    "There is no limit to the number of statements that can appear under the two clauses of an `if` statement, but there must be at least one statement in each block."
   ]
  },
  {
   "cell_type": "markdown",
   "metadata": {
    "slideshow": {
     "slide_type": "slide"
    }
   },
   "source": [
    "## Skip else clause: unary selection\n",
    "\n",
    "Another form of the `if` statement is one in which the `else` clause is omitted entirely. This creates what is sometimes called **unary selection**.\n",
    "\n",
    "In this case, when the condition evaluates to `True`, the statements are executed. Otherwise, the execution flow continues to the statement after the `if` body."
   ]
  },
  {
   "cell_type": "markdown",
   "metadata": {
    "slideshow": {
     "slide_type": "subslide"
    }
   },
   "source": [
    "For example:"
   ]
  },
  {
   "cell_type": "code",
   "execution_count": 30,
   "metadata": {
    "slideshow": {
     "slide_type": "fragment"
    }
   },
   "outputs": [
    {
     "name": "stdout",
     "output_type": "stream",
     "text": [
      "This is printed always\n"
     ]
    }
   ],
   "source": [
    "x = 10\n",
    "if x < 0:\n",
    "    print(\"The negative number \", x, \" is not valid here.\")\n",
    "print(\"This is printed always\")"
   ]
  },
  {
   "cell_type": "markdown",
   "metadata": {
    "slideshow": {
     "slide_type": "subslide"
    }
   },
   "source": [
    "## Nested conditionals\n",
    "\n",
    "A conditional can also be **nested** within another. For example, suppose we have two integer variables, `x` and `y`.\n",
    "\n",
    "The following selection pattern shows how we could decide how they relate to each other:"
   ]
  },
  {
   "cell_type": "code",
   "execution_count": 32,
   "metadata": {},
   "outputs": [
    {
     "name": "stdout",
     "output_type": "stream",
     "text": [
      "x and y must be equals\n"
     ]
    }
   ],
   "source": [
    "if x < y:\n",
    "    print(\"x is less than y\")\n",
    "else:\n",
    "    if x > y:\n",
    "        print(\"x is greater than y\")\n",
    "    else:\n",
    "        print(\"x and y must be equals\")"
   ]
  },
  {
   "cell_type": "markdown",
   "metadata": {
    "slideshow": {
     "slide_type": "fragment"
    }
   },
   "source": [
    "The external conditional contains two branches. The second branch (the outer else) contains another `if` statement, which has two branches of its own. Those two branches could also contain conditional statements."
   ]
  },
  {
   "cell_type": "markdown",
   "metadata": {
    "slideshow": {
     "slide_type": "subslide"
    }
   },
   "source": [
    "The control flow for this example can be seen in this flowchart illustration:\n",
    "\n",
    "<center><img src=\"https://runestone.academy/runestone/books/published/fopp/_images/flowchart_nested_conditional.png\n",
    "\" alt=\"FlowIf\"\n",
    "\ttitle=\"FlowIf\" /></center>"
   ]
  },
  {
   "cell_type": "markdown",
   "metadata": {
    "slideshow": {
     "slide_type": "subslide"
    }
   },
   "source": [
    "Here is a complete program that defines values ​​for `x` and `y`:"
   ]
  },
  {
   "cell_type": "code",
   "execution_count": 31,
   "metadata": {
    "slideshow": {
     "slide_type": "fragment"
    }
   },
   "outputs": [
    {
     "name": "stdout",
     "output_type": "stream",
     "text": [
      "x and y must be equal\n"
     ]
    }
   ],
   "source": [
    "x = 10\n",
    "y = 10\n",
    "\n",
    "if x < y:\n",
    "    print(\"x is less than y\")\n",
    "else:\n",
    "    if x > y:\n",
    "        print(\"x is greater than y\")\n",
    "    else:\n",
    "        print(\"x and y must be equals\")"
   ]
  },
  {
   "cell_type": "markdown",
   "metadata": {
    "slideshow": {
     "slide_type": "fragment"
    }
   },
   "source": [
    "Run the program and see the result. Then change the values ​​of the variables to change the control flow."
   ]
  },
  {
   "cell_type": "markdown",
   "metadata": {
    "slideshow": {
     "slide_type": "subslide"
    }
   },
   "source": [
    "## Chained conditionals\n",
    "\n",
    "Python provides an alternative way to write a nested selection like the one shown in the previous section. This is sometimes called a **chained conditional**."
   ]
  },
  {
   "cell_type": "code",
   "execution_count": 34,
   "metadata": {
    "slideshow": {
     "slide_type": "fragment"
    }
   },
   "outputs": [
    {
     "name": "stdout",
     "output_type": "stream",
     "text": [
      "x and y must be equal\n"
     ]
    }
   ],
   "source": [
    "if x < y:\n",
    "    print(\"x is less than y\")\n",
    "elif x > y:\n",
    "    print(\"x is greater than y\")\n",
    "else:\n",
    "    print(\"x and y must be equal\")"
   ]
  },
  {
   "cell_type": "markdown",
   "metadata": {
    "slideshow": {
     "slide_type": "subslide"
    }
   },
   "source": [
    "The control flow can be drawn in a different orientation, but the resulting pattern is identical to the one shown above.\n",
    "\n",
    "<center><img src=\"https://runestone.academy/runestone/books/published/fopp/_images/flowchart_chained_conditional.png\n",
    "\" alt=\"FlowIf\"\n",
    "\ttitle=\"FlowIf\" /></center>\n",
    "\n",
    "`elif` is an abbreviation of `else if`. Again, exactly one branch will be executed. There is no limit on the number of `elif` statements, but only a single (and optional) final `else` statement is allowed and must be the last branch in the statement.\n",
    "\n",
    "Each condition is checked in order. If the first one is false, the next one is marked and so on. If one of them is true, the corresponding branch is executed and the statement ends. Even if more than one condition is true, only the first true branch is executed."
   ]
  },
  {
   "cell_type": "markdown",
   "metadata": {
    "slideshow": {
     "slide_type": "subslide"
    }
   },
   "source": [
    "Here is the same program using `elif`:"
   ]
  },
  {
   "cell_type": "code",
   "execution_count": 35,
   "metadata": {
    "slideshow": {
     "slide_type": "fragment"
    }
   },
   "outputs": [
    {
     "name": "stdout",
     "output_type": "stream",
     "text": [
      "x e y deben ser iguales\n"
     ]
    }
   ],
   "source": [
    "x = 10\n",
    "y = 10\n",
    "\n",
    "if x < y:\n",
    "    print(\"x es menor que y\")\n",
    "elif x > y:\n",
    "    print(\"x es mayor que y\")\n",
    "else:\n",
    "    print(\"x e y deben ser iguales\")"
   ]
  },
  {
   "cell_type": "markdown",
   "metadata": {},
   "source": [
    "## Classes"
   ]
  },
  {
   "cell_type": "markdown",
   "metadata": {},
   "source": [
    "Python is an object-oriented programming language. In object-oriented programming, the focus is on creating **objects that jointly contain data and functions**.\n",
    "\n",
    "Typically, each object definition corresponds to some real-world object or concept, and the functions that operate on that object correspond to the ways in which real-world objects interact."
   ]
  },
  {
   "cell_type": "markdown",
   "metadata": {},
   "source": [
    "In Python, each value is actually an object. Whether it's a dictionary, a list, or even an integer, they are all objects. Programs manipulate these objects by performing calculations on them or by asking them to execute methods.\n",
    "\n",
    "To be more specific, we say that **an object has a state and a collection of methods that it can execute**. The state of an object represents the things the object knows about itself. **State is stored in instance variables**."
   ]
  },
  {
   "cell_type": "markdown",
   "metadata": {},
   "source": [
    "**Objects are instances of a class**. Classes are a detailed description, definition and template of what an object will be. But it is not the object itself.\n",
    "\n",
    "It is a user-defined data type, which **contains its own data and functions (methods)**, which can be accessed and used by creating an instance of that class (object). It is the **model of any object**."
   ]
  },
  {
   "cell_type": "markdown",
   "metadata": {},
   "source": [
    "We have already seen classes like `str`, `int`, `float` and `list`. These were defined by Python and made available to us for use. However, in many cases when we are solving problems we need to create data objects that are related to the problem we are trying to solve. We need to create our own classes.\n",
    "\n",
    "Once we have written a class and defined it, we can use it to create as many objects based on that class as we want. Let's look at an example:"
   ]
  },
  {
   "cell_type": "code",
   "execution_count": 36,
   "metadata": {},
   "outputs": [],
   "source": [
    "class Point:\n",
    "    \"\"\"Point class for representing and manipulating x,y coordinates.\"\"\"\n",
    "\n",
    "    def __init__(self):\n",
    "        \"\"\"Create a new point at the origin\"\"\"\n",
    "\n",
    "        self.x = 0\n",
    "\n",
    "        self.y = 0\n",
    "\n",
    "    def move_x_axis(self, value):\n",
    "        \"\"\"Moves the point along the x-axis\"\"\"\n",
    "\n",
    "        self.x = self.x + value\n",
    "\n",
    "    def move_y_axis(self, value):\n",
    "        \"\"\"Moves the point along the y-axis\"\"\"\n",
    "\n",
    "        self.y = self.y + value"
   ]
  },
  {
   "cell_type": "code",
   "execution_count": 37,
   "metadata": {},
   "outputs": [
    {
     "name": "stdout",
     "output_type": "stream",
     "text": [
      "<__main__.Point object at 0x7f572c10af20>\n",
      "0\n",
      "0\n"
     ]
    }
   ],
   "source": [
    "a = Point()\n",
    "print(a)\n",
    "print(a.x)\n",
    "print(a.y)"
   ]
  },
  {
   "cell_type": "code",
   "execution_count": 38,
   "metadata": {},
   "outputs": [
    {
     "name": "stdout",
     "output_type": "stream",
     "text": [
      "6\n"
     ]
    }
   ],
   "source": [
    "a.move_x_axis(6)\n",
    "print(a.x)"
   ]
  },
  {
   "cell_type": "markdown",
   "metadata": {},
   "source": [
    "If you have time, I invite you to explore [Chapter 20](https://runestone.academy/ns/books/published/fopp/Classes/intro-ClassesandObjectstheBasics.html) of the original tutorial."
   ]
  }
 ],
 "metadata": {
  "celltoolbar": "Slideshow",
  "kernelspec": {
   "display_name": "Python 3 (ipykernel)",
   "language": "python",
   "name": "python3"
  },
  "language_info": {
   "codemirror_mode": {
    "name": "ipython",
    "version": 3
   },
   "file_extension": ".py",
   "mimetype": "text/x-python",
   "name": "python",
   "nbconvert_exporter": "python",
   "pygments_lexer": "ipython3",
   "version": "3.10.14"
  }
 },
 "nbformat": 4,
 "nbformat_minor": 2
}
