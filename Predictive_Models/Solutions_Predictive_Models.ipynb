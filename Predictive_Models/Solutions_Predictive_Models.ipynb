{
 "cells": [
  {
   "cell_type": "markdown",
   "metadata": {},
   "source": [
    "# Coursework: Predictive Models"
   ]
  },
  {
   "cell_type": "markdown",
   "metadata": {},
   "source": [
    "You are asked to build a predictive model of adherence to treatment based on the following data:"
   ]
  },
  {
   "cell_type": "code",
   "execution_count": 2,
   "metadata": {},
   "outputs": [
    {
     "name": "stdout",
     "output_type": "stream",
     "text": [
      "Requirement already satisfied: pyreadstat in /home/renato/.virtualenvs/oss/lib/python3.10/site-packages (1.2.7)\n",
      "Requirement already satisfied: pandas>=1.2.0 in /home/renato/.virtualenvs/oss/lib/python3.10/site-packages (from pyreadstat) (2.0.3)\n",
      "Requirement already satisfied: python-dateutil>=2.8.2 in /home/renato/.virtualenvs/oss/lib/python3.10/site-packages (from pandas>=1.2.0->pyreadstat) (2.9.0.post0)\n",
      "Requirement already satisfied: pytz>=2020.1 in /home/renato/.virtualenvs/oss/lib/python3.10/site-packages (from pandas>=1.2.0->pyreadstat) (2024.1)\n",
      "Requirement already satisfied: tzdata>=2022.1 in /home/renato/.virtualenvs/oss/lib/python3.10/site-packages (from pandas>=1.2.0->pyreadstat) (2024.1)\n",
      "Requirement already satisfied: numpy>=1.21.0 in /home/renato/.virtualenvs/oss/lib/python3.10/site-packages (from pandas>=1.2.0->pyreadstat) (1.25.2)\n",
      "Requirement already satisfied: six>=1.5 in /home/renato/.virtualenvs/oss/lib/python3.10/site-packages (from python-dateutil>=2.8.2->pandas>=1.2.0->pyreadstat) (1.16.0)\n",
      "--2024-07-19 00:38:37--  https://github.com/renatoparedes/EstadisticaYPsicologiaMatematica/raw/main/INEE/BaseReporte3.sav\n",
      "Resolving github.com (github.com)... 20.201.28.151\n",
      "Connecting to github.com (github.com)|20.201.28.151|:443... connected.\n",
      "HTTP request sent, awaiting response... 302 Found\n",
      "Location: https://raw.githubusercontent.com/renatoparedes/EstadisticaYPsicologiaMatematica/main/INEE/BaseReporte3.sav [following]\n",
      "--2024-07-19 00:38:38--  https://raw.githubusercontent.com/renatoparedes/EstadisticaYPsicologiaMatematica/main/INEE/BaseReporte3.sav\n",
      "Resolving raw.githubusercontent.com (raw.githubusercontent.com)... 185.199.109.133, 185.199.110.133, 185.199.108.133, ...\n",
      "Connecting to raw.githubusercontent.com (raw.githubusercontent.com)|185.199.109.133|:443... connected.\n",
      "HTTP request sent, awaiting response... 200 OK\n",
      "Length: 5112 (5.0K) [application/octet-stream]\n",
      "Saving to: ‘BaseReporte3.sav’\n",
      "\n",
      "BaseReporte3.sav    100%[===================>]   4.99K  --.-KB/s    in 0s      \n",
      "\n",
      "2024-07-19 00:38:38 (47.3 MB/s) - ‘BaseReporte3.sav’ saved [5112/5112]\n",
      "\n"
     ]
    }
   ],
   "source": [
    "!pip install pyreadstat\n",
    "!wget https://github.com/renatoparedes/EstadisticaYPsicologiaMatematica/raw/main/INEE/BaseReporte3.sav"
   ]
  },
  {
   "cell_type": "code",
   "execution_count": 1,
   "metadata": {},
   "outputs": [
    {
     "data": {
      "text/html": [
       "<div>\n",
       "<style scoped>\n",
       "    .dataframe tbody tr th:only-of-type {\n",
       "        vertical-align: middle;\n",
       "    }\n",
       "\n",
       "    .dataframe tbody tr th {\n",
       "        vertical-align: top;\n",
       "    }\n",
       "\n",
       "    .dataframe thead th {\n",
       "        text-align: right;\n",
       "    }\n",
       "</style>\n",
       "<table border=\"1\" class=\"dataframe\">\n",
       "  <thead>\n",
       "    <tr style=\"text-align: right;\">\n",
       "      <th></th>\n",
       "      <th>Código</th>\n",
       "      <th>Sexo</th>\n",
       "      <th>Edad</th>\n",
       "      <th>Adherencia</th>\n",
       "      <th>CVRS</th>\n",
       "      <th>SoporteFam</th>\n",
       "      <th>TTratamiento</th>\n",
       "      <th>MemCorto</th>\n",
       "    </tr>\n",
       "  </thead>\n",
       "  <tbody>\n",
       "    <tr>\n",
       "      <th>0</th>\n",
       "      <td>001</td>\n",
       "      <td>Hombre</td>\n",
       "      <td>59.0</td>\n",
       "      <td>No</td>\n",
       "      <td>37.0</td>\n",
       "      <td>23.50</td>\n",
       "      <td>10.0</td>\n",
       "      <td>56.0</td>\n",
       "    </tr>\n",
       "    <tr>\n",
       "      <th>1</th>\n",
       "      <td>002</td>\n",
       "      <td>Hombre</td>\n",
       "      <td>54.0</td>\n",
       "      <td>No</td>\n",
       "      <td>38.0</td>\n",
       "      <td>22.50</td>\n",
       "      <td>3.0</td>\n",
       "      <td>43.0</td>\n",
       "    </tr>\n",
       "    <tr>\n",
       "      <th>2</th>\n",
       "      <td>003</td>\n",
       "      <td>Hombre</td>\n",
       "      <td>60.0</td>\n",
       "      <td>No</td>\n",
       "      <td>38.5</td>\n",
       "      <td>23.50</td>\n",
       "      <td>5.0</td>\n",
       "      <td>52.0</td>\n",
       "    </tr>\n",
       "    <tr>\n",
       "      <th>3</th>\n",
       "      <td>004</td>\n",
       "      <td>Hombre</td>\n",
       "      <td>62.0</td>\n",
       "      <td>No</td>\n",
       "      <td>38.0</td>\n",
       "      <td>22.25</td>\n",
       "      <td>7.0</td>\n",
       "      <td>55.0</td>\n",
       "    </tr>\n",
       "    <tr>\n",
       "      <th>4</th>\n",
       "      <td>005</td>\n",
       "      <td>Hombre</td>\n",
       "      <td>55.0</td>\n",
       "      <td>No</td>\n",
       "      <td>38.0</td>\n",
       "      <td>22.75</td>\n",
       "      <td>6.0</td>\n",
       "      <td>52.0</td>\n",
       "    </tr>\n",
       "    <tr>\n",
       "      <th>...</th>\n",
       "      <td>...</td>\n",
       "      <td>...</td>\n",
       "      <td>...</td>\n",
       "      <td>...</td>\n",
       "      <td>...</td>\n",
       "      <td>...</td>\n",
       "      <td>...</td>\n",
       "      <td>...</td>\n",
       "    </tr>\n",
       "    <tr>\n",
       "      <th>135</th>\n",
       "      <td>136</td>\n",
       "      <td>Hombre</td>\n",
       "      <td>62.0</td>\n",
       "      <td>Sí</td>\n",
       "      <td>37.5</td>\n",
       "      <td>21.75</td>\n",
       "      <td>12.0</td>\n",
       "      <td>58.0</td>\n",
       "    </tr>\n",
       "    <tr>\n",
       "      <th>136</th>\n",
       "      <td>137</td>\n",
       "      <td>Hombre</td>\n",
       "      <td>68.0</td>\n",
       "      <td>Sí</td>\n",
       "      <td>37.0</td>\n",
       "      <td>23.25</td>\n",
       "      <td>9.0</td>\n",
       "      <td>59.0</td>\n",
       "    </tr>\n",
       "    <tr>\n",
       "      <th>137</th>\n",
       "      <td>138</td>\n",
       "      <td>Hombre</td>\n",
       "      <td>56.0</td>\n",
       "      <td>Sí</td>\n",
       "      <td>37.5</td>\n",
       "      <td>23.25</td>\n",
       "      <td>8.0</td>\n",
       "      <td>51.0</td>\n",
       "    </tr>\n",
       "    <tr>\n",
       "      <th>138</th>\n",
       "      <td>139</td>\n",
       "      <td>Hombre</td>\n",
       "      <td>53.0</td>\n",
       "      <td>Sí</td>\n",
       "      <td>37.5</td>\n",
       "      <td>24.25</td>\n",
       "      <td>8.0</td>\n",
       "      <td>51.0</td>\n",
       "    </tr>\n",
       "    <tr>\n",
       "      <th>139</th>\n",
       "      <td>140</td>\n",
       "      <td>Hombre</td>\n",
       "      <td>44.0</td>\n",
       "      <td>Sí</td>\n",
       "      <td>38.5</td>\n",
       "      <td>21.75</td>\n",
       "      <td>8.0</td>\n",
       "      <td>51.0</td>\n",
       "    </tr>\n",
       "  </tbody>\n",
       "</table>\n",
       "<p>140 rows × 8 columns</p>\n",
       "</div>"
      ],
      "text/plain": [
       "    Código    Sexo  Edad Adherencia  CVRS  SoporteFam  TTratamiento  MemCorto\n",
       "0      001  Hombre  59.0         No  37.0       23.50          10.0      56.0\n",
       "1      002  Hombre  54.0         No  38.0       22.50           3.0      43.0\n",
       "2      003  Hombre  60.0         No  38.5       23.50           5.0      52.0\n",
       "3      004  Hombre  62.0         No  38.0       22.25           7.0      55.0\n",
       "4      005  Hombre  55.0         No  38.0       22.75           6.0      52.0\n",
       "..     ...     ...   ...        ...   ...         ...           ...       ...\n",
       "135    136  Hombre  62.0         Sí  37.5       21.75          12.0      58.0\n",
       "136    137  Hombre  68.0         Sí  37.0       23.25           9.0      59.0\n",
       "137    138  Hombre  56.0         Sí  37.5       23.25           8.0      51.0\n",
       "138    139  Hombre  53.0         Sí  37.5       24.25           8.0      51.0\n",
       "139    140  Hombre  44.0         Sí  38.5       21.75           8.0      51.0\n",
       "\n",
       "[140 rows x 8 columns]"
      ]
     },
     "execution_count": 1,
     "metadata": {},
     "output_type": "execute_result"
    }
   ],
   "source": [
    "import pandas as pd\n",
    "\n",
    "df = pd.read_spss(\"BaseReporte3.sav\")\n",
    "df"
   ]
  },
  {
   "cell_type": "markdown",
   "metadata": {},
   "source": [
    "1. Preprocess numeric and categorical features using scikit-learn to standardize numerical columns and encode categorical columns:\n",
    "> Ignore the columns `Código` and `Sexo`."
   ]
  },
  {
   "cell_type": "code",
   "execution_count": 48,
   "metadata": {},
   "outputs": [
    {
     "name": "stdout",
     "output_type": "stream",
     "text": [
      "[[ 5.78896822e-01  2.23590339e-01 -1.81209629e-01 -1.09213718e+00\n",
      "  -1.07037605e+00  1.00000000e+00  0.00000000e+00]\n",
      " [-1.42149042e-01  4.66246521e-01 -6.16734916e-01 -1.83488141e+00\n",
      "  -2.47389507e+00  1.00000000e+00  0.00000000e+00]\n",
      " [ 7.23105995e-01  5.87574612e-01 -1.81209629e-01 -1.62266878e+00\n",
      "  -1.50222805e+00  1.00000000e+00  0.00000000e+00]\n",
      " [ 1.01152434e+00  4.66246521e-01 -7.25616238e-01 -1.41045614e+00\n",
      "  -1.17833905e+00  1.00000000e+00  0.00000000e+00]\n",
      " [ 2.06013104e-03  4.66246521e-01 -5.07853594e-01 -1.51656246e+00\n",
      "  -1.50222805e+00  1.00000000e+00  0.00000000e+00]\n",
      " [ 1.46269304e-01  5.87574612e-01 -6.16734916e-01 -1.51656246e+00\n",
      "  -1.61019105e+00  1.00000000e+00  0.00000000e+00]\n",
      " [-5.74776560e-01  2.23590339e-01 -6.16734916e-01 -1.19824350e+00\n",
      "  -1.28630205e+00  1.00000000e+00  0.00000000e+00]\n",
      " [-7.18985733e-01  4.66246521e-01 -5.07853594e-01 -1.41045614e+00\n",
      "  -9.62413044e-01  1.00000000e+00  0.00000000e+00]\n",
      " [-1.44003160e+00  4.66246521e-01 -7.23283067e-02 -1.83488141e+00\n",
      "  -2.79778407e+00  1.00000000e+00  0.00000000e+00]\n",
      " [-1.29582242e+00  4.66246521e-01  1.45434337e-01 -1.72877509e+00\n",
      "  -2.47389507e+00  1.00000000e+00  0.00000000e+00]\n",
      " [-1.00740408e+00  5.87574612e-01 -6.16734916e-01 -1.83488141e+00\n",
      "  -2.25796906e+00  1.00000000e+00  0.00000000e+00]\n",
      " [-1.15161325e+00  4.66246521e-01 -5.07853594e-01 -1.72877509e+00\n",
      "  -2.25796906e+00  1.00000000e+00  0.00000000e+00]\n",
      " [-1.00740408e+00  7.08902703e-01 -1.81209629e-01 -1.72877509e+00\n",
      "  -2.68982107e+00  1.00000000e+00  0.00000000e+00]\n",
      " [-8.63194906e-01  7.08902703e-01 -1.81209629e-01 -1.83488141e+00\n",
      "  -2.47389507e+00  1.00000000e+00  0.00000000e+00]\n",
      " [ 2.02098855e+00  2.23590339e-01 -5.07853594e-01  1.02998920e+00\n",
      "   9.80920987e-01  1.00000000e+00  0.00000000e+00]\n",
      " [ 1.87677938e+00  4.66246521e-01  2.54315659e-01  1.66662711e+00\n",
      "   1.17216973e-01  1.00000000e+00  0.00000000e+00]\n",
      " [ 1.73257021e+00  4.66246521e-01 -1.81209629e-01 -8.79924544e-01\n",
      "  -4.22598035e-01  1.00000000e+00  0.00000000e+00]\n",
      " [ 1.58836103e+00  5.87574612e-01 -2.90090950e-01  6.05563920e-01\n",
      "   7.64994984e-01  1.00000000e+00  0.00000000e+00]\n",
      " [ 1.58836103e+00  5.87574612e-01 -5.07853594e-01  2.87244963e-01\n",
      "   8.72957985e-01  1.00000000e+00  0.00000000e+00]\n",
      " [ 1.29994269e+00  4.66246521e-01 -2.90090950e-01 -3.49392950e-01\n",
      "  -9.87090302e-02  1.00000000e+00  0.00000000e+00]\n",
      " [ 1.15573351e+00  4.66246521e-01 -5.07853594e-01  8.17776557e-01\n",
      "   9.80920987e-01  1.00000000e+00  0.00000000e+00]\n",
      " [ 1.15573351e+00  7.08902703e-01 -7.25616238e-01 -3.49392950e-01\n",
      "  -2.06672032e-01  1.00000000e+00  0.00000000e+00]\n",
      " [ 1.01152434e+00  3.44918430e-01 -5.07853594e-01  1.24220183e+00\n",
      "   4.41105979e-01  1.00000000e+00  0.00000000e+00]\n",
      " [ 1.01152434e+00  5.87574612e-01 -5.07853594e-01  4.99457601e-01\n",
      "   3.33142977e-01  1.00000000e+00  0.00000000e+00]\n",
      " [ 8.67315168e-01  4.66246521e-01 -7.25616238e-01  1.02998920e+00\n",
      "   6.57031982e-01  1.00000000e+00  0.00000000e+00]\n",
      " [ 7.23105995e-01  4.66246521e-01 -6.16734916e-01  1.56052079e+00\n",
      "   3.33142977e-01  0.00000000e+00  1.00000000e+00]\n",
      " [ 7.23105995e-01  5.87574612e-01  1.45434337e-01 -2.43286631e-01\n",
      "   5.49068980e-01  1.00000000e+00  0.00000000e+00]\n",
      " [ 2.16519772e+00  5.87574612e-01 -5.07853594e-01  7.50323255e-02\n",
      "   7.64994984e-01  1.00000000e+00  0.00000000e+00]\n",
      " [ 5.78896822e-01  4.66246521e-01 -6.16734916e-01  1.34830815e+00\n",
      "   3.33142977e-01  1.00000000e+00  0.00000000e+00]\n",
      " [ 1.01152434e+00  5.87574612e-01 -5.07853594e-01 -3.10739934e-02\n",
      "   6.57031982e-01  1.00000000e+00  0.00000000e+00]\n",
      " [-1.15161325e+00  2.23590339e-01 -1.81209629e-01  1.45441447e+00\n",
      "   2.25179975e-01  0.00000000e+00  1.00000000e+00]\n",
      " [ 4.34687650e-01  4.66246521e-01 -2.90090950e-01  1.02998920e+00\n",
      "   7.64994984e-01  1.00000000e+00  0.00000000e+00]\n",
      " [ 4.34687650e-01  2.23590339e-01 -5.07853594e-01 -1.37180312e-01\n",
      "   3.33142977e-01  1.00000000e+00  0.00000000e+00]\n",
      " [ 4.34687650e-01  4.66246521e-01 -5.07853594e-01  1.81138644e-01\n",
      "   7.64994984e-01  1.00000000e+00  0.00000000e+00]\n",
      " [ 4.34687650e-01  5.87574612e-01 -7.25616238e-01  6.05563920e-01\n",
      "   3.33142977e-01  1.00000000e+00  0.00000000e+00]\n",
      " [ 4.34687650e-01  4.66246521e-01 -1.16114153e+00  1.34830815e+00\n",
      "   1.17216973e-01  1.00000000e+00  0.00000000e+00]\n",
      " [ 4.34687650e-01  8.30230794e-01 -7.25616238e-01  1.66662711e+00\n",
      "  -9.87090302e-02  1.00000000e+00  0.00000000e+00]\n",
      " [ 4.34687650e-01  5.87574612e-01 -2.90090950e-01 -6.67711906e-01\n",
      "  -9.87090302e-02  1.00000000e+00  0.00000000e+00]\n",
      " [ 2.90478477e-01  3.44918430e-01 -6.16734916e-01 -3.10739934e-02\n",
      "   1.17216973e-01  1.00000000e+00  0.00000000e+00]\n",
      " [-8.63194906e-01  4.66246521e-01 -6.16734916e-01  1.81138644e-01\n",
      "   5.49068980e-01  1.00000000e+00  0.00000000e+00]\n",
      " [ 2.90478477e-01  3.44918430e-01 -5.07853594e-01 -3.49392950e-01\n",
      "   6.57031982e-01  1.00000000e+00  0.00000000e+00]\n",
      " [ 2.90478477e-01  4.66246521e-01 -1.81209629e-01  8.17776557e-01\n",
      "   9.80920987e-01  0.00000000e+00  1.00000000e+00]\n",
      " [ 1.46269304e-01  4.66246521e-01 -5.07853594e-01 -3.49392950e-01\n",
      "   1.17216973e-01  0.00000000e+00  1.00000000e+00]\n",
      " [ 1.58836103e+00  2.23590339e-01 -1.81209629e-01 -2.43286631e-01\n",
      "   2.25179975e-01  1.00000000e+00  0.00000000e+00]\n",
      " [ 2.06013104e-03  5.87574612e-01 -7.23283067e-02  4.99457601e-01\n",
      "   6.57031982e-01  1.00000000e+00  0.00000000e+00]\n",
      " [ 2.06013104e-03  7.08902703e-01 -5.07853594e-01  7.11670239e-01\n",
      "   9.80920987e-01  1.00000000e+00  0.00000000e+00]\n",
      " [-1.42149042e-01  4.66246521e-01 -6.16734916e-01  7.11670239e-01\n",
      "   8.72957985e-01  1.00000000e+00  0.00000000e+00]\n",
      " [ 2.06013104e-03  7.08902703e-01  1.23424756e+00  9.23882876e-01\n",
      "   1.19684699e+00  0.00000000e+00  1.00000000e+00]\n",
      " [ 2.06013104e-03 -2.08164339e+00 -7.25616238e-01 -1.37180312e-01\n",
      "   5.49068980e-01  1.00000000e+00  0.00000000e+00]\n",
      " [-7.18985733e-01 -1.47500293e+00 -7.25616238e-01 -3.10739934e-02\n",
      "   3.33142977e-01  1.00000000e+00  0.00000000e+00]\n",
      " [-1.00740408e+00  1.02262248e-01  1.99641681e+00  1.34830815e+00\n",
      "  -9.87090302e-02  0.00000000e+00  1.00000000e+00]\n",
      " [ 1.58836103e+00  4.66246521e-01 -1.81209629e-01 -3.10739934e-02\n",
      "   9.25397158e-03  1.00000000e+00  0.00000000e+00]\n",
      " [ 1.73257021e+00  2.23590339e-01  1.56089152e+00  1.77273343e+00\n",
      "  -9.87090302e-02  0.00000000e+00  1.00000000e+00]\n",
      " [-8.63194906e-01 -2.44562766e+00 -2.90090950e-01 -2.43286631e-01\n",
      "   7.64994984e-01  1.00000000e+00  0.00000000e+00]\n",
      " [ 2.06013104e-03 -1.47500293e+00 -1.81209629e-01 -3.49392950e-01\n",
      "  -9.87090302e-02  1.00000000e+00  0.00000000e+00]\n",
      " [-1.42149042e-01 -6.25706298e-01 -6.16734916e-01  2.87244963e-01\n",
      "   2.25179975e-01  1.00000000e+00  0.00000000e+00]\n",
      " [-1.42149042e-01 -8.68362480e-01 -5.07853594e-01  2.87244963e-01\n",
      "   6.57031982e-01  1.00000000e+00  0.00000000e+00]\n",
      " [-2.86358215e-01 -1.96031530e+00 -7.25616238e-01  8.17776557e-01\n",
      "   3.33142977e-01  1.00000000e+00  0.00000000e+00]\n",
      " [-2.86358215e-01  1.02262248e-01  1.23424756e+00  4.99457601e-01\n",
      "   3.33142977e-01  0.00000000e+00  1.00000000e+00]\n",
      " [-2.86358215e-01 -2.08164339e+00  3.63196981e-01  9.23882876e-01\n",
      "   7.64994984e-01  1.00000000e+00  0.00000000e+00]\n",
      " [-2.86358215e-01  7.08902703e-01  2.10529813e+00  1.13609551e+00\n",
      "   5.49068980e-01  0.00000000e+00  1.00000000e+00]\n",
      " [-4.30567387e-01  5.87574612e-01  2.64970474e+00  7.11670239e-01\n",
      "   9.80920987e-01  0.00000000e+00  1.00000000e+00]\n",
      " [-4.30567387e-01 -1.47500293e+00 -6.16734916e-01  1.13609551e+00\n",
      "   1.19684699e+00  1.00000000e+00  0.00000000e+00]\n",
      " [-4.30567387e-01  4.66246521e-01 -1.81209629e-01  4.99457601e-01\n",
      "   1.08888399e+00  0.00000000e+00  1.00000000e+00]\n",
      " [-5.74776560e-01  4.66246521e-01  2.43194210e+00 -4.55499269e-01\n",
      "   6.57031982e-01  0.00000000e+00  1.00000000e+00]\n",
      " [-5.74776560e-01  5.87574612e-01  1.12536623e+00 -1.37180312e-01\n",
      "   1.17216973e-01  0.00000000e+00  1.00000000e+00]\n",
      " [-7.18985733e-01 -1.83898721e+00  1.45434337e-01  1.56052079e+00\n",
      "   6.57031982e-01  1.00000000e+00  0.00000000e+00]\n",
      " [-7.18985733e-01  4.66246521e-01 -6.16734916e-01  7.50323255e-02\n",
      "   4.41105979e-01  0.00000000e+00  1.00000000e+00]\n",
      " [-7.18985733e-01 -1.71765912e+00 -7.23283067e-02 -3.10739934e-02\n",
      "   8.72957985e-01  1.00000000e+00  0.00000000e+00]\n",
      " [-7.18985733e-01 -2.32429957e+00 -6.16734916e-01  1.81138644e-01\n",
      "   4.41105979e-01  1.00000000e+00  0.00000000e+00]\n",
      " [ 1.87677938e+00  4.66246521e-01 -5.07853594e-01  1.34830815e+00\n",
      "   5.49068980e-01  0.00000000e+00  1.00000000e+00]\n",
      " [-7.18985733e-01 -2.08164339e+00 -6.16734916e-01 -4.55499269e-01\n",
      "  -2.06672032e-01  1.00000000e+00  0.00000000e+00]\n",
      " [-1.42149042e-01  4.66246521e-01  2.10529813e+00  2.87244963e-01\n",
      "   9.80920987e-01  0.00000000e+00  1.00000000e+00]\n",
      " [-2.86358215e-01 -2.20297148e+00 -1.81209629e-01  1.45441447e+00\n",
      "   9.80920987e-01  1.00000000e+00  0.00000000e+00]\n",
      " [ 1.46269304e-01  7.08902703e-01  1.88753549e+00  1.81138644e-01\n",
      "   9.80920987e-01  0.00000000e+00  1.00000000e+00]\n",
      " [-7.18985733e-01  4.66246521e-01  1.88753549e+00  9.23882876e-01\n",
      "   9.80920987e-01  0.00000000e+00  1.00000000e+00]\n",
      " [-8.63194906e-01 -1.96031530e+00 -6.16734916e-01  1.45441447e+00\n",
      "   8.72957985e-01  1.00000000e+00  0.00000000e+00]\n",
      " [ 2.90478477e-01  4.66246521e-01  2.32306078e+00  7.11670239e-01\n",
      "   1.30480999e+00  0.00000000e+00  1.00000000e+00]\n",
      " [-1.00740408e+00  7.08902703e-01 -7.25616238e-01  1.13609551e+00\n",
      "   1.30480999e+00  0.00000000e+00  1.00000000e+00]\n",
      " [ 1.46269304e-01  4.66246521e-01  1.12536623e+00  1.24220183e+00\n",
      "   8.72957985e-01  0.00000000e+00  1.00000000e+00]\n",
      " [-1.00740408e+00  5.87574612e-01  1.23424756e+00  1.81138644e-01\n",
      "   9.80920987e-01  0.00000000e+00  1.00000000e+00]\n",
      " [ 2.90478477e-01 -2.08164339e+00 -7.25616238e-01  4.99457601e-01\n",
      "   1.19684699e+00  1.00000000e+00  0.00000000e+00]\n",
      " [-1.15161325e+00  2.23590339e-01 -5.07853594e-01  1.24220183e+00\n",
      "   4.41105979e-01  1.00000000e+00  0.00000000e+00]\n",
      " [-7.18985733e-01  7.08902703e-01  2.43194210e+00  1.34830815e+00\n",
      "   2.25179975e-01  0.00000000e+00  1.00000000e+00]\n",
      " [-1.29582242e+00 -1.96031530e+00 -2.90090950e-01  1.56052079e+00\n",
      "   9.25397158e-03  1.00000000e+00  0.00000000e+00]\n",
      " [-5.74776560e-01  5.87574612e-01  1.23424756e+00  6.05563920e-01\n",
      "   5.49068980e-01  0.00000000e+00  1.00000000e+00]\n",
      " [-1.29582242e+00 -1.47500293e+00 -5.07853594e-01  7.50323255e-02\n",
      "   3.33142977e-01  1.00000000e+00  0.00000000e+00]\n",
      " [-1.29582242e+00  7.08902703e-01 -2.90090950e-01  3.93351282e-01\n",
      "   8.72957985e-01  0.00000000e+00  1.00000000e+00]\n",
      " [-1.29582242e+00 -2.32429957e+00 -7.25616238e-01  1.02998920e+00\n",
      "   9.80920987e-01  1.00000000e+00  0.00000000e+00]\n",
      " [-1.44003160e+00  4.66246521e-01  1.99641681e+00  4.99457601e-01\n",
      "   1.19684699e+00  0.00000000e+00  1.00000000e+00]\n",
      " [-1.44003160e+00  7.08902703e-01  2.54315659e-01  6.05563920e-01\n",
      "   1.08888399e+00  0.00000000e+00  1.00000000e+00]\n",
      " [-1.44003160e+00 -2.08164339e+00 -5.07853594e-01  1.13609551e+00\n",
      "   3.33142977e-01  1.00000000e+00  0.00000000e+00]\n",
      " [-1.44003160e+00  5.87574612e-01 -7.23283067e-02  8.17776557e-01\n",
      "   8.72957985e-01  0.00000000e+00  1.00000000e+00]\n",
      " [-1.58424077e+00 -1.47500293e+00 -7.25616238e-01  4.99457601e-01\n",
      "   9.80920987e-01  1.00000000e+00  0.00000000e+00]\n",
      " [-1.58424077e+00 -1.11101866e+00 -1.81209629e-01  4.99457601e-01\n",
      "   3.33142977e-01  1.00000000e+00  0.00000000e+00]\n",
      " [-4.30567387e-01  4.66246521e-01  1.88753549e+00 -3.10739934e-02\n",
      "   5.49068980e-01  0.00000000e+00  1.00000000e+00]\n",
      " [ 2.45361607e+00 -2.08164339e+00 -7.25616238e-01 -1.37180312e-01\n",
      "   3.33142977e-01  1.00000000e+00  0.00000000e+00]\n",
      " [ 2.06013104e-03  7.08902703e-01  2.43194210e+00 -2.43286631e-01\n",
      "   4.41105979e-01  0.00000000e+00  1.00000000e+00]\n",
      " [-1.00740408e+00 -1.47500293e+00 -1.81209629e-01 -3.49392950e-01\n",
      "  -2.06672032e-01  1.00000000e+00  0.00000000e+00]\n",
      " [-7.18985733e-01 -2.20297148e+00 -2.90090950e-01 -3.49392950e-01\n",
      "   9.25397158e-03  1.00000000e+00  0.00000000e+00]\n",
      " [-1.15161325e+00  9.51558885e-01  6.89840947e-01  1.81138644e-01\n",
      "   7.64994984e-01  0.00000000e+00  1.00000000e+00]\n",
      " [ 2.16519772e+00  4.66246521e-01  1.23424756e+00 -2.43286631e-01\n",
      "   7.64994984e-01  0.00000000e+00  1.00000000e+00]\n",
      " [ 1.46269304e-01  7.08902703e-01  1.99641681e+00 -5.61605588e-01\n",
      "   3.33142977e-01  0.00000000e+00  1.00000000e+00]\n",
      " [ 1.44415186e+00 -1.83898721e+00 -6.16734916e-01 -2.43286631e-01\n",
      "   9.25397158e-03  1.00000000e+00  0.00000000e+00]\n",
      " [-8.63194906e-01  5.87574612e-01 -5.07853594e-01 -4.55499269e-01\n",
      "   9.25397158e-03  0.00000000e+00  1.00000000e+00]\n",
      " [-8.63194906e-01  7.08902703e-01  2.54082342e+00 -3.49392950e-01\n",
      "   3.33142977e-01  0.00000000e+00  1.00000000e+00]\n",
      " [-2.30528663e+00 -2.32429957e+00 -1.05226020e+00 -4.55499269e-01\n",
      "   6.57031982e-01  1.00000000e+00  0.00000000e+00]\n",
      " [-2.86358215e-01  4.66246521e-01  1.23424756e+00 -4.55499269e-01\n",
      "   1.17216973e-01  0.00000000e+00  1.00000000e+00]\n",
      " [ 1.29994269e+00  7.08902703e-01  2.10529813e+00 -4.55499269e-01\n",
      "   3.33142977e-01  0.00000000e+00  1.00000000e+00]\n",
      " [-4.30567387e-01 -1.96031530e+00 -6.16734916e-01 -3.49392950e-01\n",
      "   2.25179975e-01  1.00000000e+00  0.00000000e+00]\n",
      " [-2.86358215e-01  4.66246521e-01  1.12536623e+00 -4.55499269e-01\n",
      "   5.49068980e-01  0.00000000e+00  1.00000000e+00]\n",
      " [-1.42149042e-01  4.66246521e-01  6.89840947e-01 -4.55499269e-01\n",
      "   1.17216973e-01  0.00000000e+00  1.00000000e+00]\n",
      " [ 2.06013104e-03  5.87574612e-01  1.01648491e+00 -4.55499269e-01\n",
      "   4.41105979e-01  0.00000000e+00  1.00000000e+00]\n",
      " [ 2.90478477e-01 -2.08164339e+00 -7.25616238e-01 -8.79924544e-01\n",
      "  -9.62413044e-01  1.00000000e+00  0.00000000e+00]\n",
      " [ 4.34687650e-01  4.66246521e-01  1.23424756e+00 -8.79924544e-01\n",
      "  -6.38524039e-01  0.00000000e+00  1.00000000e+00]\n",
      " [ 1.29994269e+00  2.23590339e-01  2.10529813e+00 -5.61605588e-01\n",
      "   1.17216973e-01  0.00000000e+00  1.00000000e+00]\n",
      " [ 1.73257021e+00 -9.89690571e-01  2.64970474e+00  1.02998920e+00\n",
      "   1.17216973e-01  1.00000000e+00  0.00000000e+00]\n",
      " [ 2.06013104e-03  5.87574612e-01 -1.16114153e+00 -8.79924544e-01\n",
      "  -9.62413044e-01  0.00000000e+00  1.00000000e+00]\n",
      " [-7.18985733e-01  7.08902703e-01 -6.16734916e-01 -7.73818225e-01\n",
      "  -5.30561037e-01  0.00000000e+00  1.00000000e+00]\n",
      " [ 7.23105995e-01 -2.08164339e+00 -1.05226020e+00 -9.86030863e-01\n",
      "  -8.54450042e-01  1.00000000e+00  0.00000000e+00]\n",
      " [ 8.67315168e-01  8.30230794e-01 -7.25616238e-01 -1.09213718e+00\n",
      "  -1.07037605e+00  0.00000000e+00  1.00000000e+00]\n",
      " [ 5.78896822e-01  9.51558885e-01 -1.05226020e+00 -8.79924544e-01\n",
      "  -3.14635034e-01  0.00000000e+00  1.00000000e+00]\n",
      " [ 4.34687650e-01  4.66246521e-01 -2.90090950e-01 -1.41045614e+00\n",
      "  -1.07037605e+00  0.00000000e+00  1.00000000e+00]\n",
      " [ 1.01152434e+00  3.44918430e-01 -7.25616238e-01 -1.30434982e+00\n",
      "  -1.61019105e+00  0.00000000e+00  1.00000000e+00]\n",
      " [ 1.15573351e+00  7.08902703e-01 -1.05226020e+00 -1.83488141e+00\n",
      "  -2.25796906e+00  0.00000000e+00  1.00000000e+00]\n",
      " [ 1.58836103e+00  8.30230794e-01 -9.43378882e-01 -2.04709405e+00\n",
      "  -3.12167308e+00  0.00000000e+00  1.00000000e+00]\n",
      " [-1.15161325e+00  5.87574612e-01 -1.05226020e+00 -1.72877509e+00\n",
      "  -2.68982107e+00  0.00000000e+00  1.00000000e+00]\n",
      " [ 1.44415186e+00  4.66246521e-01 -5.07853594e-01  2.09105238e+00\n",
      "  -6.38524039e-01  0.00000000e+00  1.00000000e+00]\n",
      " [ 2.06013104e-03  4.66246521e-01 -5.07853594e-01  1.87883975e+00\n",
      "  -8.54450042e-01  0.00000000e+00  1.00000000e+00]\n",
      " [-1.00740408e+00  7.08902703e-01 -7.25616238e-01 -6.67711906e-01\n",
      "  -6.38524039e-01  0.00000000e+00  1.00000000e+00]\n",
      " [-1.42149042e-01  5.87574612e-01 -6.16734916e-01 -3.49392950e-01\n",
      "   2.25179975e-01  0.00000000e+00  1.00000000e+00]\n",
      " [ 4.34687650e-01  5.87574612e-01 -1.16114153e+00 -6.67711906e-01\n",
      "   4.41105979e-01  0.00000000e+00  1.00000000e+00]\n",
      " [-1.44003160e+00  5.87574612e-01 -6.16734916e-01 -7.73818225e-01\n",
      "  -9.87090302e-02  0.00000000e+00  1.00000000e+00]\n",
      " [-1.00740408e+00  3.44918430e-01 -7.25616238e-01 -6.67711906e-01\n",
      "  -2.06672032e-01  0.00000000e+00  1.00000000e+00]\n",
      " [-4.30567387e-01  4.66246521e-01 -2.90090950e-01  1.77273343e+00\n",
      "  -6.38524039e-01  0.00000000e+00  1.00000000e+00]\n",
      " [ 1.01152434e+00  3.44918430e-01 -9.43378882e-01 -8.79924544e-01\n",
      "  -8.54450042e-01  0.00000000e+00  1.00000000e+00]\n",
      " [ 1.87677938e+00  2.23590339e-01 -2.90090950e-01 -1.19824350e+00\n",
      "  -7.46487041e-01  0.00000000e+00  1.00000000e+00]\n",
      " [ 1.46269304e-01  3.44918430e-01 -2.90090950e-01 -1.30434982e+00\n",
      "  -1.61019105e+00  0.00000000e+00  1.00000000e+00]\n",
      " [-2.86358215e-01  3.44918430e-01  1.45434337e-01 -1.30434982e+00\n",
      "  -1.61019105e+00  0.00000000e+00  1.00000000e+00]\n",
      " [-1.58424077e+00  5.87574612e-01 -9.43378882e-01 -1.30434982e+00\n",
      "  -1.61019105e+00  0.00000000e+00  1.00000000e+00]]\n"
     ]
    }
   ],
   "source": [
    "# Write your solution here\n",
    "from sklearn.preprocessing import StandardScaler, OneHotEncoder\n",
    "from sklearn.compose import ColumnTransformer\n",
    "from sklearn.pipeline import Pipeline\n",
    "\n",
    "data = df.drop(columns=[\"Código\", \"Sexo\"])\n",
    "\n",
    "# Define preprocessing steps\n",
    "numeric_features = [\"Edad\", \"CVRS\", \"SoporteFam\", \"TTratamiento\", \"MemCorto\"]\n",
    "numeric_transformer = Pipeline(steps=[(\"scaler\", StandardScaler())])\n",
    "\n",
    "categorical_features = [\"Adherencia\"]\n",
    "categorical_transformer = Pipeline(steps=[(\"onehot\", OneHotEncoder())])\n",
    "\n",
    "preprocessor = ColumnTransformer(\n",
    "    transformers=[\n",
    "        (\"num\", numeric_transformer, numeric_features),\n",
    "        (\"cat\", categorical_transformer, categorical_features),\n",
    "    ]\n",
    ")\n",
    "\n",
    "# Apply preprocessing\n",
    "preprocessed_data = preprocessor.fit_transform(data)\n",
    "preprocessed_data\n",
    "print(preprocessed_data)"
   ]
  },
  {
   "cell_type": "markdown",
   "metadata": {},
   "source": [
    "2. Split the data into training and testing sets."
   ]
  },
  {
   "cell_type": "code",
   "execution_count": 50,
   "metadata": {},
   "outputs": [],
   "source": [
    "# Write your solution here\n",
    "from sklearn.model_selection import train_test_split\n",
    "\n",
    "# Load the data\n",
    "X = preprocessed_data[\n",
    "    :, 0:5\n",
    "]  # Features: Edad, CVRS, SoporteFam, TTratamiento, MemCorto\n",
    "y = preprocessed_data[:, -1]  # Labels: Adherencia\n",
    "\n",
    "# Split the data into training and testing sets\n",
    "X_train, X_test, y_train, y_test = train_test_split(\n",
    "    X, y, test_size=0.2, random_state=42\n",
    ")"
   ]
  },
  {
   "cell_type": "markdown",
   "metadata": {},
   "source": [
    "3. Train a Logistic Regression model and make predictions of the testing set."
   ]
  },
  {
   "cell_type": "code",
   "execution_count": 52,
   "metadata": {},
   "outputs": [
    {
     "name": "stdout",
     "output_type": "stream",
     "text": [
      "[1. 0. 0. 0. 0. 1. 0. 0. 1. 0. 0. 0. 0. 0. 1. 1. 1. 0. 0. 1. 1. 1. 1. 0.\n",
      " 0. 1. 1. 0.]\n",
      "[1. 1. 0. 0. 1. 0. 0. 0. 1. 0. 0. 0. 0. 0. 1. 1. 0. 0. 1. 1. 0. 1. 1. 0.\n",
      " 1. 0. 1. 0.]\n"
     ]
    }
   ],
   "source": [
    "# Write your solution here\n",
    "from sklearn.linear_model import LogisticRegression\n",
    "\n",
    "# Train a logistic regression model\n",
    "model = LogisticRegression()\n",
    "model.fit(X_train, y_train)\n",
    "\n",
    "# Make predictions on the testing data\n",
    "y_pred = model.predict(X_test)\n",
    "print(y_pred)\n",
    "print(y_test)"
   ]
  },
  {
   "cell_type": "markdown",
   "metadata": {},
   "source": [
    "4. Evaluate the model performance."
   ]
  },
  {
   "cell_type": "code",
   "execution_count": 53,
   "metadata": {},
   "outputs": [
    {
     "name": "stdout",
     "output_type": "stream",
     "text": [
      "Accuracy: 0.7142857142857143, Precision: 0.6666666666666666, Recall: 0.6666666666666666, F1 Score: 0.6666666666666666\n"
     ]
    }
   ],
   "source": [
    "# Write your solution here\n",
    "from sklearn.metrics import (\n",
    "    accuracy_score,\n",
    "    precision_score,\n",
    "    recall_score,\n",
    "    f1_score,\n",
    "    confusion_matrix,\n",
    ")\n",
    "\n",
    "## Evaluate the model\n",
    "# Calculate metrics\n",
    "accuracy = accuracy_score(y_test, y_pred)\n",
    "precision = precision_score(y_test, y_pred)\n",
    "recall = recall_score(y_test, y_pred)\n",
    "f1 = f1_score(y_test, y_pred)\n",
    "conf_matrix = confusion_matrix(y_test, y_pred)\n",
    "\n",
    "print(\n",
    "    f\"Accuracy: {accuracy}, Precision: {precision}, Recall: {recall}, F1 Score: {f1}\"\n",
    ")"
   ]
  },
  {
   "cell_type": "code",
   "execution_count": 54,
   "metadata": {},
   "outputs": [
    {
     "data": {
      "image/png": "[encoded data removed]",
      "text/plain": [
       "<Figure size 432x288 with 2 Axes>"
      ]
     },
     "metadata": {
      "needs_background": "light"
     },
     "output_type": "display_data"
    }
   ],
   "source": [
    "from sklearn.metrics import ConfusionMatrixDisplay\n",
    "\n",
    "cm_display = ConfusionMatrixDisplay.from_estimator(model, X_test, y_test)"
   ]
  },
  {
   "cell_type": "code",
   "execution_count": 55,
   "metadata": {},
   "outputs": [
    {
     "data": {
      "image/png": "[encoded data removed]",
      "text/plain": [
       "<Figure size 432x288 with 1 Axes>"
      ]
     },
     "metadata": {
      "needs_background": "light"
     },
     "output_type": "display_data"
    }
   ],
   "source": [
    "from sklearn.metrics import RocCurveDisplay\n",
    "\n",
    "roc_display = RocCurveDisplay.from_estimator(model, X_test, y_test)"
   ]
  },
  {
   "cell_type": "markdown",
   "metadata": {},
   "source": [
    "Bonus: Compare how the model compares against a SVM"
   ]
  },
  {
   "cell_type": "code",
   "execution_count": 56,
   "metadata": {},
   "outputs": [
    {
     "name": "stdout",
     "output_type": "stream",
     "text": [
      "[1. 1. 0. 0. 0. 0. 0. 0. 1. 0. 0. 0. 0. 0. 1. 1. 0. 0. 1. 1. 0. 1. 1. 1.\n",
      " 0. 0. 0. 0.]\n",
      "[1. 1. 0. 0. 1. 0. 0. 0. 1. 0. 0. 0. 0. 0. 1. 1. 0. 0. 1. 1. 0. 1. 1. 0.\n",
      " 1. 0. 1. 0.]\n"
     ]
    }
   ],
   "source": [
    "# Write your solution here\n",
    "from sklearn import svm\n",
    "\n",
    "# Train a logistic regression model\n",
    "model_2 = svm.SVC()\n",
    "model_2.fit(X_train, y_train)\n",
    "\n",
    "# Make predictions on the testing data\n",
    "y_pred = model_2.predict(X_test)\n",
    "print(y_pred)\n",
    "print(y_test)"
   ]
  },
  {
   "cell_type": "code",
   "execution_count": 57,
   "metadata": {},
   "outputs": [
    {
     "name": "stdout",
     "output_type": "stream",
     "text": [
      "Accuracy: 0.8571428571428571, Precision: 0.9, Recall: 0.75, F1 Score: 0.8181818181818182\n"
     ]
    }
   ],
   "source": [
    "# Calculate metrics\n",
    "accuracy = accuracy_score(y_test, y_pred)\n",
    "precision = precision_score(y_test, y_pred)\n",
    "recall = recall_score(y_test, y_pred)\n",
    "f1 = f1_score(y_test, y_pred)\n",
    "conf_matrix = confusion_matrix(y_test, y_pred)\n",
    "\n",
    "print(\n",
    "    f\"Accuracy: {accuracy}, Precision: {precision}, Recall: {recall}, F1 Score: {f1}\"\n",
    ")"
   ]
  },
  {
   "cell_type": "code",
   "execution_count": 58,
   "metadata": {},
   "outputs": [
    {
     "data": {
      "image/png": "[encoded data removed]",
      "text/plain": [
       "<Figure size 432x288 with 2 Axes>"
      ]
     },
     "metadata": {
      "needs_background": "light"
     },
     "output_type": "display_data"
    }
   ],
   "source": [
    "cm_display = ConfusionMatrixDisplay.from_estimator(model_2, X_test, y_test)"
   ]
  },
  {
   "cell_type": "code",
   "execution_count": 59,
   "metadata": {},
   "outputs": [
    {
     "data": {
      "text/plain": [
       "<sklearn.metrics._plot.roc_curve.RocCurveDisplay at 0x7f9983c4c4c0>"
      ]
     },
     "execution_count": 59,
     "metadata": {},
     "output_type": "execute_result"
    },
    {
     "data": {
      "image/png": "[encoded data removed]",
      "text/plain": [
       "<Figure size 432x288 with 1 Axes>"
      ]
     },
     "metadata": {
      "needs_background": "light"
     },
     "output_type": "display_data"
    }
   ],
   "source": [
    "import matplotlib.pyplot as plt\n",
    "\n",
    "ax = plt.gca()\n",
    "roc_display_2 = RocCurveDisplay.from_estimator(model_2, X_test, y_test, ax=ax)\n",
    "roc_display.plot(ax=ax, alpha=0.8)"
   ]
  }
 ],
 "metadata": {
  "kernelspec": {
   "display_name": "oss",
   "language": "python",
   "name": "python3"
  },
  "language_info": {
   "codemirror_mode": {
    "name": "ipython",
    "version": 3
   },
   "file_extension": ".py",
   "mimetype": "text/x-python",
   "name": "python",
   "nbconvert_exporter": "python",
   "pygments_lexer": "ipython3",
   "version": "3.10.12"
  }
 },
 "nbformat": 4,
 "nbformat_minor": 2
}
